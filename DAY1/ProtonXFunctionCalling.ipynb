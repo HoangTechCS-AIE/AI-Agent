{
  "cells": [
    {
      "cell_type": "code",
      "execution_count": 20,
      "metadata": {
        "id": "-Dnsc5SbeZ9j"
      },
      "outputs": [],
      "source": [
        "import requests\n",
        "\n",
        "res = requests.get('https://api.protonx.io/organizations/64be83b9050dda00146cb4be/learning-paths/published')"
      ]
    },
    {
      "cell_type": "code",
      "execution_count": 21,
      "metadata": {
        "id": "6ogoBveyoNxB"
      },
      "outputs": [],
      "source": [
        "import json\n",
        "from openai import OpenAI\n",
        "from tenacity import retry, wait_random_exponential, stop_after_attempt\n",
        "from termcolor import colored\n",
        "from dotenv import load_dotenv\n",
        "import os\n",
        "load_dotenv()\n",
        "\n",
        "GPT_MODEL = \"gpt-4o\"\n",
        "client = OpenAI(api_key=os.getenv('open_ai_key'))"
      ]
    },
    {
      "cell_type": "code",
      "execution_count": 22,
      "metadata": {
        "cellView": "form",
        "colab": {
          "base_uri": "https://localhost:8080/",
          "height": 293
        },
        "id": "OjrEFeiafIi9",
        "outputId": "e413d079-e30b-4715-d09c-c7df2595a86a"
      },
      "outputs": [
        {
          "data": {
            "text/html": [
              "<div>\n",
              "<style scoped>\n",
              "    .dataframe tbody tr th:only-of-type {\n",
              "        vertical-align: middle;\n",
              "    }\n",
              "\n",
              "    .dataframe tbody tr th {\n",
              "        vertical-align: top;\n",
              "    }\n",
              "\n",
              "    .dataframe thead th {\n",
              "        text-align: right;\n",
              "    }\n",
              "</style>\n",
              "<table border=\"1\" class=\"dataframe\">\n",
              "  <thead>\n",
              "    <tr style=\"text-align: right;\">\n",
              "      <th></th>\n",
              "      <th>autoApproval</th>\n",
              "      <th>_id</th>\n",
              "      <th>name</th>\n",
              "      <th>descriptionHeading</th>\n",
              "      <th>imageUrl</th>\n",
              "      <th>openingDay</th>\n",
              "    </tr>\n",
              "  </thead>\n",
              "  <tbody>\n",
              "    <tr>\n",
              "      <th>0</th>\n",
              "      <td>False</td>\n",
              "      <td>649901602380fa001955c84a</td>\n",
              "      <td>Kỹ sư dữ liệu (Video)</td>\n",
              "      <td>Trở thành kỹ sư dữ liệu có thể xây dựng những ...</td>\n",
              "      <td>https://storage.googleapis.com/mle-courses-pro...</td>\n",
              "      <td>NaN</td>\n",
              "    </tr>\n",
              "    <tr>\n",
              "      <th>1</th>\n",
              "      <td>False</td>\n",
              "      <td>682aaf065dfe9600125aa398</td>\n",
              "      <td>MLOps - Triển khai mô hình học máy trên sản ph...</td>\n",
              "      <td>Khóa học MLOps mang đến cho bạn kiến thức và k...</td>\n",
              "      <td>https://storage.googleapis.com/mle-courses-pro...</td>\n",
              "      <td>NaN</td>\n",
              "    </tr>\n",
              "    <tr>\n",
              "      <th>2</th>\n",
              "      <td>True</td>\n",
              "      <td>6833f056b735c100199cddfc</td>\n",
              "      <td>Khóa học chuyên crawl dữ liệu</td>\n",
              "      <td>Khóa học \"Chuyên crawl dữ liệu\" dành cho những...</td>\n",
              "      <td>https://storage.googleapis.com/mle-courses-pro...</td>\n",
              "      <td>NaN</td>\n",
              "    </tr>\n",
              "    <tr>\n",
              "      <th>3</th>\n",
              "      <td>False</td>\n",
              "      <td>67bfd366eaa2b50012815681</td>\n",
              "      <td>Nền tảng xử lý ngôn ngữ tự nhiên 06</td>\n",
              "      <td>Trong khóa học này, học viên sẽ được hướng dẫn...</td>\n",
              "      <td>https://storage.googleapis.com/mle-courses-pro...</td>\n",
              "      <td>NaN</td>\n",
              "    </tr>\n",
              "    <tr>\n",
              "      <th>4</th>\n",
              "      <td>True</td>\n",
              "      <td>669f392f9ae80d0019c696ac</td>\n",
              "      <td>Toán cho học sâu</td>\n",
              "      <td>Lớp học bổ trợ cho lớp học AI nền tảng</td>\n",
              "      <td>NaN</td>\n",
              "      <td>NaN</td>\n",
              "    </tr>\n",
              "  </tbody>\n",
              "</table>\n",
              "</div>"
            ],
            "text/plain": [
              "   autoApproval                       _id  \\\n",
              "0         False  649901602380fa001955c84a   \n",
              "1         False  682aaf065dfe9600125aa398   \n",
              "2          True  6833f056b735c100199cddfc   \n",
              "3         False  67bfd366eaa2b50012815681   \n",
              "4          True  669f392f9ae80d0019c696ac   \n",
              "\n",
              "                                                name  \\\n",
              "0                              Kỹ sư dữ liệu (Video)   \n",
              "1  MLOps - Triển khai mô hình học máy trên sản ph...   \n",
              "2                      Khóa học chuyên crawl dữ liệu   \n",
              "3                Nền tảng xử lý ngôn ngữ tự nhiên 06   \n",
              "4                                  Toán cho học sâu    \n",
              "\n",
              "                                  descriptionHeading  \\\n",
              "0  Trở thành kỹ sư dữ liệu có thể xây dựng những ...   \n",
              "1  Khóa học MLOps mang đến cho bạn kiến thức và k...   \n",
              "2  Khóa học \"Chuyên crawl dữ liệu\" dành cho những...   \n",
              "3  Trong khóa học này, học viên sẽ được hướng dẫn...   \n",
              "4             Lớp học bổ trợ cho lớp học AI nền tảng   \n",
              "\n",
              "                                            imageUrl  openingDay  \n",
              "0  https://storage.googleapis.com/mle-courses-pro...         NaN  \n",
              "1  https://storage.googleapis.com/mle-courses-pro...         NaN  \n",
              "2  https://storage.googleapis.com/mle-courses-pro...         NaN  \n",
              "3  https://storage.googleapis.com/mle-courses-pro...         NaN  \n",
              "4                                                NaN         NaN  "
            ]
          },
          "execution_count": 22,
          "metadata": {},
          "output_type": "execute_result"
        }
      ],
      "source": [
        "# @title Xử lý dữ liệu: Liệt kê danh sách lớp học trên nền tảng\n",
        "\n",
        "\n",
        "import pandas as pd\n",
        "# Flatten the JSON structure\n",
        "flattened_data = []\n",
        "\n",
        "for item in res.json():\n",
        "    root_stage = item.pop('rootStage', {})\n",
        "    child_stages = root_stage.pop('childStages', [])\n",
        "    for child_stage in child_stages:\n",
        "        nested_child_stages = child_stage.pop('childStages', [])\n",
        "        for nested_child_stage in nested_child_stages:\n",
        "            nested_child_stage['parentStage'] = child_stage['_id']\n",
        "            nested_child_stage['grandparentStage'] = item['_id']\n",
        "            flattened_data.append(nested_child_stage)\n",
        "        child_stage['parentStage'] = item['_id']\n",
        "        flattened_data.append(child_stage)\n",
        "    item['rootStage'] = root_stage\n",
        "    flattened_data.append(item)\n",
        "\n",
        "# Convert to DataFrame\n",
        "df = pd.json_normalize(flattened_data)\n",
        "\n",
        "data = df[\"courses\"].values\n",
        "\n",
        "# Function to extract all course information\n",
        "def extract_courses(data):\n",
        "    courses = []\n",
        "    for item in data:\n",
        "        if isinstance(item, list):\n",
        "            for subitem in item:\n",
        "                if isinstance(subitem, dict):\n",
        "                    courses.append(subitem)\n",
        "    return courses\n",
        "\n",
        "# Extracting the courses\n",
        "courses = extract_courses(data)\n",
        "\n",
        "# Converting to pandas DataFrame\n",
        "df_courses = pd.DataFrame(courses)\n",
        "\n",
        "# Displaying the DataFrame\n",
        "df_courses.head()"
      ]
    },
    {
      "cell_type": "markdown",
      "metadata": {
        "id": "zUtLV7W9pxpO"
      },
      "source": [
        "Format tham số mà người dùng muốn hỏi về lớp học\n",
        "- Ở đây đặt là query. LLMs sẽ quyết định xem là thông tin này có tồn tại trong truy vấn của người dùng hay không."
      ]
    },
    {
      "cell_type": "code",
      "execution_count": 23,
      "metadata": {
        "id": "zuwg3oLgjiWl"
      },
      "outputs": [],
      "source": [
        "tools = [\n",
        "    {\n",
        "        \"type\": \"function\",\n",
        "        \"function\": {\n",
        "            \"name\": \"search_courses\",\n",
        "            \"description\": \"Use this function to answer user questions about courses.\",\n",
        "            \"parameters\": {\n",
        "                \"type\": \"object\",\n",
        "                \"properties\":{\n",
        "                    \"query\":{\n",
        "                        \"type\":\"string\",\n",
        "                        \"description\": \"\"\"Get query from user intent\"\"\"\n",
        "                    },\n",
        "                },\n",
        "                \"required\": [\"query\"],\n",
        "            },\n",
        "        }\n",
        "    },\n",
        "    {\n",
        "      \"type\": \"function\",\n",
        "      \"function\": {\n",
        "        \"name\": \"delete_course\",\n",
        "        \"description\": \"Deletes a course identified by course ID that must contain 'protonx'\",\n",
        "        \"parameters\": {\n",
        "          \"type\": \"object\",\n",
        "          \"required\": [\n",
        "            \"courseId\"\n",
        "          ],\n",
        "          \"properties\": {\n",
        "            \"courseId\": {\n",
        "              \"type\": \"string\",\n",
        "              \"description\": \"The ID of the course to delete, which must contain the substring 'protonx'\"\n",
        "            }\n",
        "          },\n",
        "          \"additionalProperties\": False\n",
        "        },\n",
        "        \"strict\": True\n",
        "      }\n",
        "    }\n",
        "]"
      ]
    },
    {
      "cell_type": "code",
      "execution_count": 24,
      "metadata": {
        "id": "JvYPGLGllJEw"
      },
      "outputs": [],
      "source": [
        "@retry(wait=wait_random_exponential(multiplier=1, max=40), stop=stop_after_attempt(3))\n",
        "def chat_completion_request(messages, tools=None, tool_choice=None, model=GPT_MODEL):\n",
        "    try:\n",
        "        response = client.chat.completions.create(\n",
        "            model=model,\n",
        "            messages=messages,\n",
        "            tools=tools,\n",
        "            tool_choice=tool_choice,\n",
        "        )\n",
        "        return response\n",
        "    except Exception as e:\n",
        "        print(\"Unable to generate ChatCompletion response\")\n",
        "        print(f\"Exception: {e}\")\n",
        "        return e\n"
      ]
    },
    {
      "cell_type": "code",
      "execution_count": 25,
      "metadata": {
        "id": "ZoWmqsghWIMo"
      },
      "outputs": [],
      "source": [
        "messages = []\n",
        "messages.append({\"role\": \"user\", \"content\": \"Tìm khóa học agent\"})\n",
        "chat_response = chat_completion_request(\n",
        "    messages, tools=tools\n",
        ")"
      ]
    },
    {
      "cell_type": "code",
      "execution_count": 26,
      "metadata": {
        "colab": {
          "base_uri": "https://localhost:8080/"
        },
        "id": "YHBHv6F4WJhV",
        "outputId": "41f01ea8-63ba-4504-8e8b-e3fc776f8c8e"
      },
      "outputs": [
        {
          "name": "stdout",
          "output_type": "stream",
          "text": [
            "ChatCompletion(id='chatcmpl-C43NaSb6GHjrztSILVIpIe86kspmL', choices=[Choice(finish_reason='tool_calls', index=0, logprobs=None, message=ChatCompletionMessage(content=None, refusal=None, role='assistant', annotations=[], audio=None, function_call=None, tool_calls=[ChatCompletionMessageFunctionToolCall(id='call_7QP42Xs5qnkc20uZmJ0HPi7i', function=Function(arguments='{\"query\":\"agent\"}', name='search_courses'), type='function')]))], created=1755082338, model='gpt-4o-2024-08-06', object='chat.completion', service_tier='default', system_fingerprint='fp_ff25b2783a', usage=CompletionUsage(completion_tokens=14, prompt_tokens=108, total_tokens=122, completion_tokens_details=CompletionTokensDetails(accepted_prediction_tokens=0, audio_tokens=0, reasoning_tokens=0, rejected_prediction_tokens=0), prompt_tokens_details=PromptTokensDetails(audio_tokens=0, cached_tokens=0)))\n"
          ]
        }
      ],
      "source": [
        "print(chat_response)"
      ]
    },
    {
      "cell_type": "code",
      "execution_count": 27,
      "metadata": {
        "colab": {
          "base_uri": "https://localhost:8080/"
        },
        "id": "VJkMXZEJlOIY",
        "outputId": "324aa1aa-3651-4044-d041-0a29ac7cefb4"
      },
      "outputs": [
        {
          "data": {
            "text/plain": [
              "ChatCompletionMessage(content=None, refusal=None, role='assistant', annotations=[], audio=None, function_call=None, tool_calls=[ChatCompletionMessageFunctionToolCall(id='call_7QP42Xs5qnkc20uZmJ0HPi7i', function=Function(arguments='{\"query\":\"agent\"}', name='search_courses'), type='function')])"
            ]
          },
          "execution_count": 27,
          "metadata": {},
          "output_type": "execute_result"
        }
      ],
      "source": [
        "assistant_message = chat_response.choices[0].message\n",
        "messages.append(assistant_message)\n",
        "assistant_message\n"
      ]
    },
    {
      "cell_type": "code",
      "execution_count": 28,
      "metadata": {
        "id": "CH-QjOpxnoz3"
      },
      "outputs": [],
      "source": [
        "# Step 2: determine if the response from the model includes a tool call.\n",
        "tool_calls = assistant_message.tool_calls\n",
        "if tool_calls:\n",
        "    # If true the model will return the name of the tool / function to call and the argument(s)\n",
        "    tool_call_id = tool_calls[0].id\n",
        "    tool_function_name = tool_calls[0].function.name\n",
        "    tool_query_string = eval(tool_calls[0].function.arguments)\n"
      ]
    },
    {
      "cell_type": "code",
      "execution_count": 29,
      "metadata": {
        "colab": {
          "base_uri": "https://localhost:8080/",
          "height": 35
        },
        "id": "oGblxMu1WUvN",
        "outputId": "1fa7f73f-1675-418d-cee2-d6b4cb4d73e7"
      },
      "outputs": [
        {
          "data": {
            "text/plain": [
              "'search_courses'"
            ]
          },
          "execution_count": 29,
          "metadata": {},
          "output_type": "execute_result"
        }
      ],
      "source": [
        "tool_function_name = tool_calls[0].function.name\n",
        "tool_function_name"
      ]
    },
    {
      "cell_type": "code",
      "execution_count": 30,
      "metadata": {
        "colab": {
          "base_uri": "https://localhost:8080/"
        },
        "id": "HNdTS2LqrTi_",
        "outputId": "f3226ba8-bb04-4e71-bf43-df66b6a07dfc"
      },
      "outputs": [
        {
          "data": {
            "text/plain": [
              "{'query': 'agent'}"
            ]
          },
          "execution_count": 30,
          "metadata": {},
          "output_type": "execute_result"
        }
      ],
      "source": [
        "tool_query_string"
      ]
    },
    {
      "cell_type": "code",
      "execution_count": 31,
      "metadata": {
        "colab": {
          "base_uri": "https://localhost:8080/",
          "height": 35
        },
        "id": "1HMpC-vWOvRT",
        "outputId": "be4f7657-c0a2-4d93-86e7-1533568a09a8"
      },
      "outputs": [
        {
          "data": {
            "text/plain": [
              "'{\"query\":\"agent\"}'"
            ]
          },
          "execution_count": 31,
          "metadata": {},
          "output_type": "execute_result"
        }
      ],
      "source": [
        "tool_calls[0].function.arguments\n"
      ]
    },
    {
      "cell_type": "code",
      "execution_count": 32,
      "metadata": {
        "colab": {
          "base_uri": "https://localhost:8080/"
        },
        "id": "5PArRiV3WX_R",
        "outputId": "8a1b9d21-1bdf-4efc-8855-5119a13eaa98"
      },
      "outputs": [
        {
          "data": {
            "text/plain": [
              "{'query': 'agent'}"
            ]
          },
          "execution_count": 32,
          "metadata": {},
          "output_type": "execute_result"
        }
      ],
      "source": [
        "tool_query_string = eval(tool_calls[0].function.arguments)\n",
        "tool_query_string"
      ]
    },
    {
      "cell_type": "code",
      "execution_count": 33,
      "metadata": {
        "id": "k5VXH0vho_3_"
      },
      "outputs": [],
      "source": [
        "def search_courses(query):\n",
        "    # Logic to search for courses based on the query\n",
        "    df_courses_filtered = df_courses[df_courses['descriptionHeading'].str.contains(query, case=False)]\n",
        "    return df_courses_filtered\n",
        "\n",
        "# search_courses(tool_query_string)"
      ]
    },
    {
      "cell_type": "code",
      "execution_count": 34,
      "metadata": {
        "id": "_Qg2n-5Fq6A8"
      },
      "outputs": [],
      "source": [
        "def delete_course(courseId):\n",
        "    # Delete a course by courseId\n",
        "    print(\"Deleting {courseId}\".format(courseId=courseId))\n",
        "\n",
        "\n"
      ]
    },
    {
      "cell_type": "code",
      "execution_count": 35,
      "metadata": {
        "colab": {
          "base_uri": "https://localhost:8080/"
        },
        "id": "uxxFyMFQPGZ5",
        "outputId": "b34df40d-9d43-48bc-fc03-648b74422343"
      },
      "outputs": [
        {
          "name": "stdout",
          "output_type": "stream",
          "text": [
            "   autoApproval                       _id                           name  \\\n",
            "9          True  67d0ef8beaa2b5001290ff7b  Lớp học nâng cao chuyên Agent   \n",
            "\n",
            "                                  descriptionHeading  \\\n",
            "9  Khóa học \"Lớp học nâng cao chuyên RAG + Agent\"...   \n",
            "\n",
            "                                            imageUrl  openingDay  \n",
            "9  https://storage.googleapis.com/mle-courses-pro...         NaN  \n"
          ]
        }
      ],
      "source": [
        "if tool_function_name == \"delete_course\":\n",
        "    delete_course(tool_query_string[\"courseId\"])\n",
        "elif tool_function_name == \"search_courses\":\n",
        "    print(search_courses(tool_query_string[\"query\"]))"
      ]
    },
    {
      "cell_type": "code",
      "execution_count": 36,
      "metadata": {
        "colab": {
          "base_uri": "https://localhost:8080/",
          "height": 104
        },
        "id": "wALIw8MFWc7J",
        "outputId": "61e9c349-3983-40c0-c445-709587f198fc"
      },
      "outputs": [
        {
          "data": {
            "text/plain": [
              "<function __main__.search_courses(query)>"
            ]
          },
          "execution_count": 36,
          "metadata": {},
          "output_type": "execute_result"
        }
      ],
      "source": [
        "mapping = {\n",
        "    \"search_courses\": search_courses,\n",
        "    \"delete_course\": delete_course,\n",
        "}\n",
        "mapping[tool_function_name]"
      ]
    },
    {
      "cell_type": "markdown",
      "metadata": {
        "id": "xfohCOAtpkC9"
      },
      "source": [
        "## Keyword lấy được được từ người dùng\n"
      ]
    },
    {
      "cell_type": "code",
      "execution_count": 37,
      "metadata": {
        "colab": {
          "base_uri": "https://localhost:8080/"
        },
        "id": "f-9H6qq6oEv3",
        "outputId": "c222b2e6-7142-4e47-8f9e-10b787f0ba49"
      },
      "outputs": [
        {
          "data": {
            "text/plain": [
              "{'query': 'agent'}"
            ]
          },
          "execution_count": 37,
          "metadata": {},
          "output_type": "execute_result"
        }
      ],
      "source": [
        "tool_query_string"
      ]
    },
    {
      "cell_type": "markdown",
      "metadata": {
        "id": "tZI7AqHhqibH"
      },
      "source": [
        "Sử dụng keywork này để truy xuất vào Pandas Frame"
      ]
    },
    {
      "cell_type": "code",
      "execution_count": 38,
      "metadata": {
        "colab": {
          "base_uri": "https://localhost:8080/",
          "height": 98
        },
        "id": "WGMsXIpmK04c",
        "outputId": "66a27a07-fbe7-4905-bcf6-5957074fcd48"
      },
      "outputs": [
        {
          "data": {
            "text/html": [
              "<div>\n",
              "<style scoped>\n",
              "    .dataframe tbody tr th:only-of-type {\n",
              "        vertical-align: middle;\n",
              "    }\n",
              "\n",
              "    .dataframe tbody tr th {\n",
              "        vertical-align: top;\n",
              "    }\n",
              "\n",
              "    .dataframe thead th {\n",
              "        text-align: right;\n",
              "    }\n",
              "</style>\n",
              "<table border=\"1\" class=\"dataframe\">\n",
              "  <thead>\n",
              "    <tr style=\"text-align: right;\">\n",
              "      <th></th>\n",
              "      <th>autoApproval</th>\n",
              "      <th>_id</th>\n",
              "      <th>name</th>\n",
              "      <th>descriptionHeading</th>\n",
              "      <th>imageUrl</th>\n",
              "      <th>openingDay</th>\n",
              "    </tr>\n",
              "  </thead>\n",
              "  <tbody>\n",
              "    <tr>\n",
              "      <th>9</th>\n",
              "      <td>True</td>\n",
              "      <td>67d0ef8beaa2b5001290ff7b</td>\n",
              "      <td>Lớp học nâng cao chuyên Agent</td>\n",
              "      <td>Khóa học \"Lớp học nâng cao chuyên RAG + Agent\"...</td>\n",
              "      <td>https://storage.googleapis.com/mle-courses-pro...</td>\n",
              "      <td>NaN</td>\n",
              "    </tr>\n",
              "  </tbody>\n",
              "</table>\n",
              "</div>"
            ],
            "text/plain": [
              "   autoApproval                       _id                           name  \\\n",
              "9          True  67d0ef8beaa2b5001290ff7b  Lớp học nâng cao chuyên Agent   \n",
              "\n",
              "                                  descriptionHeading  \\\n",
              "9  Khóa học \"Lớp học nâng cao chuyên RAG + Agent\"...   \n",
              "\n",
              "                                            imageUrl  openingDay  \n",
              "9  https://storage.googleapis.com/mle-courses-pro...         NaN  "
            ]
          },
          "execution_count": 38,
          "metadata": {},
          "output_type": "execute_result"
        }
      ],
      "source": [
        "query = \"agent\"\n",
        "df_courses[df_courses['descriptionHeading'].str.contains(query, case=False)]"
      ]
    },
    {
      "cell_type": "code",
      "execution_count": 39,
      "metadata": {
        "colab": {
          "base_uri": "https://localhost:8080/",
          "height": 460
        },
        "id": "ecFsSwPyLFR8",
        "outputId": "822f2d53-a75e-4ce2-8675-8d673a537998"
      },
      "outputs": [
        {
          "data": {
            "text/plain": [
              "0     Trở thành kỹ sư dữ liệu có thể xây dựng những ...\n",
              "1     Khóa học MLOps mang đến cho bạn kiến thức và k...\n",
              "2     Khóa học \"Chuyên crawl dữ liệu\" dành cho những...\n",
              "3     Trong khóa học này, học viên sẽ được hướng dẫn...\n",
              "4                Lớp học bổ trợ cho lớp học AI nền tảng\n",
              "5     Lớp học Pytorch, xây dựng những ứng dụng AI kh...\n",
              "6              Đọc và lập trình các nghiên cứu mới nhất\n",
              "7     Khóa học \"Trí tuệ nhân tạo nền tảng - TF10\" gi...\n",
              "8     Khóa học MLOps mang đến cho bạn kiến thức và k...\n",
              "9     Khóa học \"Lớp học nâng cao chuyên RAG + Agent\"...\n",
              "10    Lớp học chuyên lập trình Chatbot phù hợp cho n...\n",
              "11                Lớp học nền tảng thị giác máy tính 01\n",
              "12    Khóa học \"Trí tuệ nhân tạo nền tảng - TF10\" gi...\n",
              "13               Lớp học bổ trợ cho lớp học AI nền tảng\n",
              "14             Đọc và lập trình các nghiên cứu mới nhất\n",
              "15    Khóa học MLOps mang đến cho bạn kiến thức và k...\n",
              "16    Sử dụng các công cụ như N8N và Make để tự động...\n",
              "Name: descriptionHeading, dtype: object"
            ]
          },
          "execution_count": 39,
          "metadata": {},
          "output_type": "execute_result"
        }
      ],
      "source": [
        "df_courses['descriptionHeading']"
      ]
    },
    {
      "cell_type": "code",
      "execution_count": 40,
      "metadata": {
        "colab": {
          "base_uri": "https://localhost:8080/",
          "height": 164
        },
        "id": "6iofrkT5KtKg",
        "outputId": "493b1485-19d4-47ab-cf80-892614005880"
      },
      "outputs": [
        {
          "data": {
            "text/html": [
              "<div>\n",
              "<style scoped>\n",
              "    .dataframe tbody tr th:only-of-type {\n",
              "        vertical-align: middle;\n",
              "    }\n",
              "\n",
              "    .dataframe tbody tr th {\n",
              "        vertical-align: top;\n",
              "    }\n",
              "\n",
              "    .dataframe thead th {\n",
              "        text-align: right;\n",
              "    }\n",
              "</style>\n",
              "<table border=\"1\" class=\"dataframe\">\n",
              "  <thead>\n",
              "    <tr style=\"text-align: right;\">\n",
              "      <th></th>\n",
              "      <th>autoApproval</th>\n",
              "      <th>_id</th>\n",
              "      <th>name</th>\n",
              "      <th>descriptionHeading</th>\n",
              "      <th>imageUrl</th>\n",
              "      <th>openingDay</th>\n",
              "    </tr>\n",
              "  </thead>\n",
              "  <tbody>\n",
              "    <tr>\n",
              "      <th>11</th>\n",
              "      <td>False</td>\n",
              "      <td>660137cff83560001912c743</td>\n",
              "      <td>Thị giác máy tính nền tảng</td>\n",
              "      <td>Lớp học nền tảng thị giác máy tính 01</td>\n",
              "      <td>https://storage.googleapis.com/mle-courses-pro...</td>\n",
              "      <td>NaN</td>\n",
              "    </tr>\n",
              "  </tbody>\n",
              "</table>\n",
              "</div>"
            ],
            "text/plain": [
              "    autoApproval                       _id                        name  \\\n",
              "11         False  660137cff83560001912c743  Thị giác máy tính nền tảng   \n",
              "\n",
              "                       descriptionHeading  \\\n",
              "11  Lớp học nền tảng thị giác máy tính 01   \n",
              "\n",
              "                                             imageUrl  openingDay  \n",
              "11  https://storage.googleapis.com/mle-courses-pro...         NaN  "
            ]
          },
          "execution_count": 40,
          "metadata": {},
          "output_type": "execute_result"
        }
      ],
      "source": [
        "search_courses(\"thị giác máy tính\")"
      ]
    }
  ],
  "metadata": {
    "colab": {
      "provenance": []
    },
    "kernelspec": {
      "display_name": "multimodal-rag",
      "language": "python",
      "name": "python3"
    },
    "language_info": {
      "codemirror_mode": {
        "name": "ipython",
        "version": 3
      },
      "file_extension": ".py",
      "mimetype": "text/x-python",
      "name": "python",
      "nbconvert_exporter": "python",
      "pygments_lexer": "ipython3",
      "version": "3.11.13"
    }
  },
  "nbformat": 4,
  "nbformat_minor": 0
}
