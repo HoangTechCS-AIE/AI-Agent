{
  "nbformat": 4,
  "nbformat_minor": 0,
  "metadata": {
    "colab": {
      "provenance": [],
      "machine_shape": "hm",
      "gpuType": "L4"
    },
    "kernelspec": {
      "name": "python3",
      "display_name": "Python 3"
    },
    "language_info": {
      "name": "python"
    },
    "accelerator": "GPU",
    "widgets": {
      "application/vnd.jupyter.widget-state+json": {
        "2b83cef8618047a993bac1bd61f1a305": {
          "model_module": "@jupyter-widgets/controls",
          "model_name": "HBoxModel",
          "model_module_version": "1.5.0",
          "state": {
            "_dom_classes": [],
            "_model_module": "@jupyter-widgets/controls",
            "_model_module_version": "1.5.0",
            "_model_name": "HBoxModel",
            "_view_count": null,
            "_view_module": "@jupyter-widgets/controls",
            "_view_module_version": "1.5.0",
            "_view_name": "HBoxView",
            "box_style": "",
            "children": [
              "IPY_MODEL_28ec3b54dcd4481c8c9b5d4da2e9efad",
              "IPY_MODEL_3b037c373a3747b5bf19fb95ca9e5814",
              "IPY_MODEL_219b2e71ad4d41eda7fa2419f8d95723"
            ],
            "layout": "IPY_MODEL_a003137a6c654507ba292fb53cdda40f"
          }
        },
        "28ec3b54dcd4481c8c9b5d4da2e9efad": {
          "model_module": "@jupyter-widgets/controls",
          "model_name": "HTMLModel",
          "model_module_version": "1.5.0",
          "state": {
            "_dom_classes": [],
            "_model_module": "@jupyter-widgets/controls",
            "_model_module_version": "1.5.0",
            "_model_name": "HTMLModel",
            "_view_count": null,
            "_view_module": "@jupyter-widgets/controls",
            "_view_module_version": "1.5.0",
            "_view_name": "HTMLView",
            "description": "",
            "description_tooltip": null,
            "layout": "IPY_MODEL_223b448bf426411fbf710d57ceaecbd7",
            "placeholder": "​",
            "style": "IPY_MODEL_7b9aa04d4bc44349aeb4df9aa1f0b1ba",
            "value": "tokenizer_config.json: 100%"
          }
        },
        "3b037c373a3747b5bf19fb95ca9e5814": {
          "model_module": "@jupyter-widgets/controls",
          "model_name": "FloatProgressModel",
          "model_module_version": "1.5.0",
          "state": {
            "_dom_classes": [],
            "_model_module": "@jupyter-widgets/controls",
            "_model_module_version": "1.5.0",
            "_model_name": "FloatProgressModel",
            "_view_count": null,
            "_view_module": "@jupyter-widgets/controls",
            "_view_module_version": "1.5.0",
            "_view_name": "ProgressView",
            "bar_style": "success",
            "description": "",
            "description_tooltip": null,
            "layout": "IPY_MODEL_3ac64ff222524ed6ba871ec3fc7a8392",
            "max": 446,
            "min": 0,
            "orientation": "horizontal",
            "style": "IPY_MODEL_6a4ceeec0e4b4cf7bc2c5dc555b65c68",
            "value": 446
          }
        },
        "219b2e71ad4d41eda7fa2419f8d95723": {
          "model_module": "@jupyter-widgets/controls",
          "model_name": "HTMLModel",
          "model_module_version": "1.5.0",
          "state": {
            "_dom_classes": [],
            "_model_module": "@jupyter-widgets/controls",
            "_model_module_version": "1.5.0",
            "_model_name": "HTMLModel",
            "_view_count": null,
            "_view_module": "@jupyter-widgets/controls",
            "_view_module_version": "1.5.0",
            "_view_name": "HTMLView",
            "description": "",
            "description_tooltip": null,
            "layout": "IPY_MODEL_84f30771a9574207aca5fb51a3b48913",
            "placeholder": "​",
            "style": "IPY_MODEL_40d234b4fe4a4a92ae8238270c2d3ecd",
            "value": " 446/446 [00:00&lt;00:00, 55.4kB/s]"
          }
        },
        "a003137a6c654507ba292fb53cdda40f": {
          "model_module": "@jupyter-widgets/base",
          "model_name": "LayoutModel",
          "model_module_version": "1.2.0",
          "state": {
            "_model_module": "@jupyter-widgets/base",
            "_model_module_version": "1.2.0",
            "_model_name": "LayoutModel",
            "_view_count": null,
            "_view_module": "@jupyter-widgets/base",
            "_view_module_version": "1.2.0",
            "_view_name": "LayoutView",
            "align_content": null,
            "align_items": null,
            "align_self": null,
            "border": null,
            "bottom": null,
            "display": null,
            "flex": null,
            "flex_flow": null,
            "grid_area": null,
            "grid_auto_columns": null,
            "grid_auto_flow": null,
            "grid_auto_rows": null,
            "grid_column": null,
            "grid_gap": null,
            "grid_row": null,
            "grid_template_areas": null,
            "grid_template_columns": null,
            "grid_template_rows": null,
            "height": null,
            "justify_content": null,
            "justify_items": null,
            "left": null,
            "margin": null,
            "max_height": null,
            "max_width": null,
            "min_height": null,
            "min_width": null,
            "object_fit": null,
            "object_position": null,
            "order": null,
            "overflow": null,
            "overflow_x": null,
            "overflow_y": null,
            "padding": null,
            "right": null,
            "top": null,
            "visibility": null,
            "width": null
          }
        },
        "223b448bf426411fbf710d57ceaecbd7": {
          "model_module": "@jupyter-widgets/base",
          "model_name": "LayoutModel",
          "model_module_version": "1.2.0",
          "state": {
            "_model_module": "@jupyter-widgets/base",
            "_model_module_version": "1.2.0",
            "_model_name": "LayoutModel",
            "_view_count": null,
            "_view_module": "@jupyter-widgets/base",
            "_view_module_version": "1.2.0",
            "_view_name": "LayoutView",
            "align_content": null,
            "align_items": null,
            "align_self": null,
            "border": null,
            "bottom": null,
            "display": null,
            "flex": null,
            "flex_flow": null,
            "grid_area": null,
            "grid_auto_columns": null,
            "grid_auto_flow": null,
            "grid_auto_rows": null,
            "grid_column": null,
            "grid_gap": null,
            "grid_row": null,
            "grid_template_areas": null,
            "grid_template_columns": null,
            "grid_template_rows": null,
            "height": null,
            "justify_content": null,
            "justify_items": null,
            "left": null,
            "margin": null,
            "max_height": null,
            "max_width": null,
            "min_height": null,
            "min_width": null,
            "object_fit": null,
            "object_position": null,
            "order": null,
            "overflow": null,
            "overflow_x": null,
            "overflow_y": null,
            "padding": null,
            "right": null,
            "top": null,
            "visibility": null,
            "width": null
          }
        },
        "7b9aa04d4bc44349aeb4df9aa1f0b1ba": {
          "model_module": "@jupyter-widgets/controls",
          "model_name": "DescriptionStyleModel",
          "model_module_version": "1.5.0",
          "state": {
            "_model_module": "@jupyter-widgets/controls",
            "_model_module_version": "1.5.0",
            "_model_name": "DescriptionStyleModel",
            "_view_count": null,
            "_view_module": "@jupyter-widgets/base",
            "_view_module_version": "1.2.0",
            "_view_name": "StyleView",
            "description_width": ""
          }
        },
        "3ac64ff222524ed6ba871ec3fc7a8392": {
          "model_module": "@jupyter-widgets/base",
          "model_name": "LayoutModel",
          "model_module_version": "1.2.0",
          "state": {
            "_model_module": "@jupyter-widgets/base",
            "_model_module_version": "1.2.0",
            "_model_name": "LayoutModel",
            "_view_count": null,
            "_view_module": "@jupyter-widgets/base",
            "_view_module_version": "1.2.0",
            "_view_name": "LayoutView",
            "align_content": null,
            "align_items": null,
            "align_self": null,
            "border": null,
            "bottom": null,
            "display": null,
            "flex": null,
            "flex_flow": null,
            "grid_area": null,
            "grid_auto_columns": null,
            "grid_auto_flow": null,
            "grid_auto_rows": null,
            "grid_column": null,
            "grid_gap": null,
            "grid_row": null,
            "grid_template_areas": null,
            "grid_template_columns": null,
            "grid_template_rows": null,
            "height": null,
            "justify_content": null,
            "justify_items": null,
            "left": null,
            "margin": null,
            "max_height": null,
            "max_width": null,
            "min_height": null,
            "min_width": null,
            "object_fit": null,
            "object_position": null,
            "order": null,
            "overflow": null,
            "overflow_x": null,
            "overflow_y": null,
            "padding": null,
            "right": null,
            "top": null,
            "visibility": null,
            "width": null
          }
        },
        "6a4ceeec0e4b4cf7bc2c5dc555b65c68": {
          "model_module": "@jupyter-widgets/controls",
          "model_name": "ProgressStyleModel",
          "model_module_version": "1.5.0",
          "state": {
            "_model_module": "@jupyter-widgets/controls",
            "_model_module_version": "1.5.0",
            "_model_name": "ProgressStyleModel",
            "_view_count": null,
            "_view_module": "@jupyter-widgets/base",
            "_view_module_version": "1.2.0",
            "_view_name": "StyleView",
            "bar_color": null,
            "description_width": ""
          }
        },
        "84f30771a9574207aca5fb51a3b48913": {
          "model_module": "@jupyter-widgets/base",
          "model_name": "LayoutModel",
          "model_module_version": "1.2.0",
          "state": {
            "_model_module": "@jupyter-widgets/base",
            "_model_module_version": "1.2.0",
            "_model_name": "LayoutModel",
            "_view_count": null,
            "_view_module": "@jupyter-widgets/base",
            "_view_module_version": "1.2.0",
            "_view_name": "LayoutView",
            "align_content": null,
            "align_items": null,
            "align_self": null,
            "border": null,
            "bottom": null,
            "display": null,
            "flex": null,
            "flex_flow": null,
            "grid_area": null,
            "grid_auto_columns": null,
            "grid_auto_flow": null,
            "grid_auto_rows": null,
            "grid_column": null,
            "grid_gap": null,
            "grid_row": null,
            "grid_template_areas": null,
            "grid_template_columns": null,
            "grid_template_rows": null,
            "height": null,
            "justify_content": null,
            "justify_items": null,
            "left": null,
            "margin": null,
            "max_height": null,
            "max_width": null,
            "min_height": null,
            "min_width": null,
            "object_fit": null,
            "object_position": null,
            "order": null,
            "overflow": null,
            "overflow_x": null,
            "overflow_y": null,
            "padding": null,
            "right": null,
            "top": null,
            "visibility": null,
            "width": null
          }
        },
        "40d234b4fe4a4a92ae8238270c2d3ecd": {
          "model_module": "@jupyter-widgets/controls",
          "model_name": "DescriptionStyleModel",
          "model_module_version": "1.5.0",
          "state": {
            "_model_module": "@jupyter-widgets/controls",
            "_model_module_version": "1.5.0",
            "_model_name": "DescriptionStyleModel",
            "_view_count": null,
            "_view_module": "@jupyter-widgets/base",
            "_view_module_version": "1.2.0",
            "_view_name": "StyleView",
            "description_width": ""
          }
        },
        "c21158f6e69b4614b624cba04a67b35e": {
          "model_module": "@jupyter-widgets/controls",
          "model_name": "HBoxModel",
          "model_module_version": "1.5.0",
          "state": {
            "_dom_classes": [],
            "_model_module": "@jupyter-widgets/controls",
            "_model_module_version": "1.5.0",
            "_model_name": "HBoxModel",
            "_view_count": null,
            "_view_module": "@jupyter-widgets/controls",
            "_view_module_version": "1.5.0",
            "_view_name": "HBoxView",
            "box_style": "",
            "children": [
              "IPY_MODEL_c7d8359833f944adad4566a4c7d7f1be",
              "IPY_MODEL_be7dec41da564af68917a30392d868fc",
              "IPY_MODEL_3a265689d04a4c229ad32f92149e4a47"
            ],
            "layout": "IPY_MODEL_8ce9cc53c7534ec7a26bafa4ed6e38cc"
          }
        },
        "c7d8359833f944adad4566a4c7d7f1be": {
          "model_module": "@jupyter-widgets/controls",
          "model_name": "HTMLModel",
          "model_module_version": "1.5.0",
          "state": {
            "_dom_classes": [],
            "_model_module": "@jupyter-widgets/controls",
            "_model_module_version": "1.5.0",
            "_model_name": "HTMLModel",
            "_view_count": null,
            "_view_module": "@jupyter-widgets/controls",
            "_view_module_version": "1.5.0",
            "_view_name": "HTMLView",
            "description": "",
            "description_tooltip": null,
            "layout": "IPY_MODEL_574accaa360c40ffa1ba097232adaa7b",
            "placeholder": "​",
            "style": "IPY_MODEL_afbdbded763c46e2b330fa64d87daa81",
            "value": "spiece.model: 100%"
          }
        },
        "be7dec41da564af68917a30392d868fc": {
          "model_module": "@jupyter-widgets/controls",
          "model_name": "FloatProgressModel",
          "model_module_version": "1.5.0",
          "state": {
            "_dom_classes": [],
            "_model_module": "@jupyter-widgets/controls",
            "_model_module_version": "1.5.0",
            "_model_name": "FloatProgressModel",
            "_view_count": null,
            "_view_module": "@jupyter-widgets/controls",
            "_view_module_version": "1.5.0",
            "_view_name": "ProgressView",
            "bar_style": "success",
            "description": "",
            "description_tooltip": null,
            "layout": "IPY_MODEL_7c0cabff92764d57bfb263a383b3854f",
            "max": 4309802,
            "min": 0,
            "orientation": "horizontal",
            "style": "IPY_MODEL_f38c852dc5a147449e564fdc57a3742a",
            "value": 4309802
          }
        },
        "3a265689d04a4c229ad32f92149e4a47": {
          "model_module": "@jupyter-widgets/controls",
          "model_name": "HTMLModel",
          "model_module_version": "1.5.0",
          "state": {
            "_dom_classes": [],
            "_model_module": "@jupyter-widgets/controls",
            "_model_module_version": "1.5.0",
            "_model_name": "HTMLModel",
            "_view_count": null,
            "_view_module": "@jupyter-widgets/controls",
            "_view_module_version": "1.5.0",
            "_view_name": "HTMLView",
            "description": "",
            "description_tooltip": null,
            "layout": "IPY_MODEL_1f88ff97600c481184396f1ddb61c844",
            "placeholder": "​",
            "style": "IPY_MODEL_f925f06bd6664e46a7a012723dd24b43",
            "value": " 4.31M/4.31M [00:00&lt;00:00, 17.2MB/s]"
          }
        },
        "8ce9cc53c7534ec7a26bafa4ed6e38cc": {
          "model_module": "@jupyter-widgets/base",
          "model_name": "LayoutModel",
          "model_module_version": "1.2.0",
          "state": {
            "_model_module": "@jupyter-widgets/base",
            "_model_module_version": "1.2.0",
            "_model_name": "LayoutModel",
            "_view_count": null,
            "_view_module": "@jupyter-widgets/base",
            "_view_module_version": "1.2.0",
            "_view_name": "LayoutView",
            "align_content": null,
            "align_items": null,
            "align_self": null,
            "border": null,
            "bottom": null,
            "display": null,
            "flex": null,
            "flex_flow": null,
            "grid_area": null,
            "grid_auto_columns": null,
            "grid_auto_flow": null,
            "grid_auto_rows": null,
            "grid_column": null,
            "grid_gap": null,
            "grid_row": null,
            "grid_template_areas": null,
            "grid_template_columns": null,
            "grid_template_rows": null,
            "height": null,
            "justify_content": null,
            "justify_items": null,
            "left": null,
            "margin": null,
            "max_height": null,
            "max_width": null,
            "min_height": null,
            "min_width": null,
            "object_fit": null,
            "object_position": null,
            "order": null,
            "overflow": null,
            "overflow_x": null,
            "overflow_y": null,
            "padding": null,
            "right": null,
            "top": null,
            "visibility": null,
            "width": null
          }
        },
        "574accaa360c40ffa1ba097232adaa7b": {
          "model_module": "@jupyter-widgets/base",
          "model_name": "LayoutModel",
          "model_module_version": "1.2.0",
          "state": {
            "_model_module": "@jupyter-widgets/base",
            "_model_module_version": "1.2.0",
            "_model_name": "LayoutModel",
            "_view_count": null,
            "_view_module": "@jupyter-widgets/base",
            "_view_module_version": "1.2.0",
            "_view_name": "LayoutView",
            "align_content": null,
            "align_items": null,
            "align_self": null,
            "border": null,
            "bottom": null,
            "display": null,
            "flex": null,
            "flex_flow": null,
            "grid_area": null,
            "grid_auto_columns": null,
            "grid_auto_flow": null,
            "grid_auto_rows": null,
            "grid_column": null,
            "grid_gap": null,
            "grid_row": null,
            "grid_template_areas": null,
            "grid_template_columns": null,
            "grid_template_rows": null,
            "height": null,
            "justify_content": null,
            "justify_items": null,
            "left": null,
            "margin": null,
            "max_height": null,
            "max_width": null,
            "min_height": null,
            "min_width": null,
            "object_fit": null,
            "object_position": null,
            "order": null,
            "overflow": null,
            "overflow_x": null,
            "overflow_y": null,
            "padding": null,
            "right": null,
            "top": null,
            "visibility": null,
            "width": null
          }
        },
        "afbdbded763c46e2b330fa64d87daa81": {
          "model_module": "@jupyter-widgets/controls",
          "model_name": "DescriptionStyleModel",
          "model_module_version": "1.5.0",
          "state": {
            "_model_module": "@jupyter-widgets/controls",
            "_model_module_version": "1.5.0",
            "_model_name": "DescriptionStyleModel",
            "_view_count": null,
            "_view_module": "@jupyter-widgets/base",
            "_view_module_version": "1.2.0",
            "_view_name": "StyleView",
            "description_width": ""
          }
        },
        "7c0cabff92764d57bfb263a383b3854f": {
          "model_module": "@jupyter-widgets/base",
          "model_name": "LayoutModel",
          "model_module_version": "1.2.0",
          "state": {
            "_model_module": "@jupyter-widgets/base",
            "_model_module_version": "1.2.0",
            "_model_name": "LayoutModel",
            "_view_count": null,
            "_view_module": "@jupyter-widgets/base",
            "_view_module_version": "1.2.0",
            "_view_name": "LayoutView",
            "align_content": null,
            "align_items": null,
            "align_self": null,
            "border": null,
            "bottom": null,
            "display": null,
            "flex": null,
            "flex_flow": null,
            "grid_area": null,
            "grid_auto_columns": null,
            "grid_auto_flow": null,
            "grid_auto_rows": null,
            "grid_column": null,
            "grid_gap": null,
            "grid_row": null,
            "grid_template_areas": null,
            "grid_template_columns": null,
            "grid_template_rows": null,
            "height": null,
            "justify_content": null,
            "justify_items": null,
            "left": null,
            "margin": null,
            "max_height": null,
            "max_width": null,
            "min_height": null,
            "min_width": null,
            "object_fit": null,
            "object_position": null,
            "order": null,
            "overflow": null,
            "overflow_x": null,
            "overflow_y": null,
            "padding": null,
            "right": null,
            "top": null,
            "visibility": null,
            "width": null
          }
        },
        "f38c852dc5a147449e564fdc57a3742a": {
          "model_module": "@jupyter-widgets/controls",
          "model_name": "ProgressStyleModel",
          "model_module_version": "1.5.0",
          "state": {
            "_model_module": "@jupyter-widgets/controls",
            "_model_module_version": "1.5.0",
            "_model_name": "ProgressStyleModel",
            "_view_count": null,
            "_view_module": "@jupyter-widgets/base",
            "_view_module_version": "1.2.0",
            "_view_name": "StyleView",
            "bar_color": null,
            "description_width": ""
          }
        },
        "1f88ff97600c481184396f1ddb61c844": {
          "model_module": "@jupyter-widgets/base",
          "model_name": "LayoutModel",
          "model_module_version": "1.2.0",
          "state": {
            "_model_module": "@jupyter-widgets/base",
            "_model_module_version": "1.2.0",
            "_model_name": "LayoutModel",
            "_view_count": null,
            "_view_module": "@jupyter-widgets/base",
            "_view_module_version": "1.2.0",
            "_view_name": "LayoutView",
            "align_content": null,
            "align_items": null,
            "align_self": null,
            "border": null,
            "bottom": null,
            "display": null,
            "flex": null,
            "flex_flow": null,
            "grid_area": null,
            "grid_auto_columns": null,
            "grid_auto_flow": null,
            "grid_auto_rows": null,
            "grid_column": null,
            "grid_gap": null,
            "grid_row": null,
            "grid_template_areas": null,
            "grid_template_columns": null,
            "grid_template_rows": null,
            "height": null,
            "justify_content": null,
            "justify_items": null,
            "left": null,
            "margin": null,
            "max_height": null,
            "max_width": null,
            "min_height": null,
            "min_width": null,
            "object_fit": null,
            "object_position": null,
            "order": null,
            "overflow": null,
            "overflow_x": null,
            "overflow_y": null,
            "padding": null,
            "right": null,
            "top": null,
            "visibility": null,
            "width": null
          }
        },
        "f925f06bd6664e46a7a012723dd24b43": {
          "model_module": "@jupyter-widgets/controls",
          "model_name": "DescriptionStyleModel",
          "model_module_version": "1.5.0",
          "state": {
            "_model_module": "@jupyter-widgets/controls",
            "_model_module_version": "1.5.0",
            "_model_name": "DescriptionStyleModel",
            "_view_count": null,
            "_view_module": "@jupyter-widgets/base",
            "_view_module_version": "1.2.0",
            "_view_name": "StyleView",
            "description_width": ""
          }
        },
        "0b0236a0e886409fb3d694a16ef1f5c5": {
          "model_module": "@jupyter-widgets/controls",
          "model_name": "HBoxModel",
          "model_module_version": "1.5.0",
          "state": {
            "_dom_classes": [],
            "_model_module": "@jupyter-widgets/controls",
            "_model_module_version": "1.5.0",
            "_model_name": "HBoxModel",
            "_view_count": null,
            "_view_module": "@jupyter-widgets/controls",
            "_view_module_version": "1.5.0",
            "_view_name": "HBoxView",
            "box_style": "",
            "children": [
              "IPY_MODEL_5b880a4dfa0b4a63a6807f9bff4763d1",
              "IPY_MODEL_89eeb5376c664f839b69b32c8b3036ca",
              "IPY_MODEL_801bb47353f042e591b0914617cb3621"
            ],
            "layout": "IPY_MODEL_a98fb70d956745359c649bc8ac32b9d4"
          }
        },
        "5b880a4dfa0b4a63a6807f9bff4763d1": {
          "model_module": "@jupyter-widgets/controls",
          "model_name": "HTMLModel",
          "model_module_version": "1.5.0",
          "state": {
            "_dom_classes": [],
            "_model_module": "@jupyter-widgets/controls",
            "_model_module_version": "1.5.0",
            "_model_name": "HTMLModel",
            "_view_count": null,
            "_view_module": "@jupyter-widgets/controls",
            "_view_module_version": "1.5.0",
            "_view_name": "HTMLView",
            "description": "",
            "description_tooltip": null,
            "layout": "IPY_MODEL_ba7c7029f1b9432ebab9bb0c0125c360",
            "placeholder": "​",
            "style": "IPY_MODEL_58ac7f8f34354d30af3265b160d6da0a",
            "value": "tokenizer.json: 100%"
          }
        },
        "89eeb5376c664f839b69b32c8b3036ca": {
          "model_module": "@jupyter-widgets/controls",
          "model_name": "FloatProgressModel",
          "model_module_version": "1.5.0",
          "state": {
            "_dom_classes": [],
            "_model_module": "@jupyter-widgets/controls",
            "_model_module_version": "1.5.0",
            "_model_name": "FloatProgressModel",
            "_view_count": null,
            "_view_module": "@jupyter-widgets/controls",
            "_view_module_version": "1.5.0",
            "_view_name": "ProgressView",
            "bar_style": "success",
            "description": "",
            "description_tooltip": null,
            "layout": "IPY_MODEL_76b494ba0ca441a2805bbede612a590f",
            "max": 16330369,
            "min": 0,
            "orientation": "horizontal",
            "style": "IPY_MODEL_7e9893018a66443094ec9d2cf37a8093",
            "value": 16330369
          }
        },
        "801bb47353f042e591b0914617cb3621": {
          "model_module": "@jupyter-widgets/controls",
          "model_name": "HTMLModel",
          "model_module_version": "1.5.0",
          "state": {
            "_dom_classes": [],
            "_model_module": "@jupyter-widgets/controls",
            "_model_module_version": "1.5.0",
            "_model_name": "HTMLModel",
            "_view_count": null,
            "_view_module": "@jupyter-widgets/controls",
            "_view_module_version": "1.5.0",
            "_view_name": "HTMLView",
            "description": "",
            "description_tooltip": null,
            "layout": "IPY_MODEL_40fbad63ccd14a15a0eb2219709dc94b",
            "placeholder": "​",
            "style": "IPY_MODEL_2c066741bce0454886bac0045c824d91",
            "value": " 16.3M/16.3M [00:01&lt;00:00, 10.3MB/s]"
          }
        },
        "a98fb70d956745359c649bc8ac32b9d4": {
          "model_module": "@jupyter-widgets/base",
          "model_name": "LayoutModel",
          "model_module_version": "1.2.0",
          "state": {
            "_model_module": "@jupyter-widgets/base",
            "_model_module_version": "1.2.0",
            "_model_name": "LayoutModel",
            "_view_count": null,
            "_view_module": "@jupyter-widgets/base",
            "_view_module_version": "1.2.0",
            "_view_name": "LayoutView",
            "align_content": null,
            "align_items": null,
            "align_self": null,
            "border": null,
            "bottom": null,
            "display": null,
            "flex": null,
            "flex_flow": null,
            "grid_area": null,
            "grid_auto_columns": null,
            "grid_auto_flow": null,
            "grid_auto_rows": null,
            "grid_column": null,
            "grid_gap": null,
            "grid_row": null,
            "grid_template_areas": null,
            "grid_template_columns": null,
            "grid_template_rows": null,
            "height": null,
            "justify_content": null,
            "justify_items": null,
            "left": null,
            "margin": null,
            "max_height": null,
            "max_width": null,
            "min_height": null,
            "min_width": null,
            "object_fit": null,
            "object_position": null,
            "order": null,
            "overflow": null,
            "overflow_x": null,
            "overflow_y": null,
            "padding": null,
            "right": null,
            "top": null,
            "visibility": null,
            "width": null
          }
        },
        "ba7c7029f1b9432ebab9bb0c0125c360": {
          "model_module": "@jupyter-widgets/base",
          "model_name": "LayoutModel",
          "model_module_version": "1.2.0",
          "state": {
            "_model_module": "@jupyter-widgets/base",
            "_model_module_version": "1.2.0",
            "_model_name": "LayoutModel",
            "_view_count": null,
            "_view_module": "@jupyter-widgets/base",
            "_view_module_version": "1.2.0",
            "_view_name": "LayoutView",
            "align_content": null,
            "align_items": null,
            "align_self": null,
            "border": null,
            "bottom": null,
            "display": null,
            "flex": null,
            "flex_flow": null,
            "grid_area": null,
            "grid_auto_columns": null,
            "grid_auto_flow": null,
            "grid_auto_rows": null,
            "grid_column": null,
            "grid_gap": null,
            "grid_row": null,
            "grid_template_areas": null,
            "grid_template_columns": null,
            "grid_template_rows": null,
            "height": null,
            "justify_content": null,
            "justify_items": null,
            "left": null,
            "margin": null,
            "max_height": null,
            "max_width": null,
            "min_height": null,
            "min_width": null,
            "object_fit": null,
            "object_position": null,
            "order": null,
            "overflow": null,
            "overflow_x": null,
            "overflow_y": null,
            "padding": null,
            "right": null,
            "top": null,
            "visibility": null,
            "width": null
          }
        },
        "58ac7f8f34354d30af3265b160d6da0a": {
          "model_module": "@jupyter-widgets/controls",
          "model_name": "DescriptionStyleModel",
          "model_module_version": "1.5.0",
          "state": {
            "_model_module": "@jupyter-widgets/controls",
            "_model_module_version": "1.5.0",
            "_model_name": "DescriptionStyleModel",
            "_view_count": null,
            "_view_module": "@jupyter-widgets/base",
            "_view_module_version": "1.2.0",
            "_view_name": "StyleView",
            "description_width": ""
          }
        },
        "76b494ba0ca441a2805bbede612a590f": {
          "model_module": "@jupyter-widgets/base",
          "model_name": "LayoutModel",
          "model_module_version": "1.2.0",
          "state": {
            "_model_module": "@jupyter-widgets/base",
            "_model_module_version": "1.2.0",
            "_model_name": "LayoutModel",
            "_view_count": null,
            "_view_module": "@jupyter-widgets/base",
            "_view_module_version": "1.2.0",
            "_view_name": "LayoutView",
            "align_content": null,
            "align_items": null,
            "align_self": null,
            "border": null,
            "bottom": null,
            "display": null,
            "flex": null,
            "flex_flow": null,
            "grid_area": null,
            "grid_auto_columns": null,
            "grid_auto_flow": null,
            "grid_auto_rows": null,
            "grid_column": null,
            "grid_gap": null,
            "grid_row": null,
            "grid_template_areas": null,
            "grid_template_columns": null,
            "grid_template_rows": null,
            "height": null,
            "justify_content": null,
            "justify_items": null,
            "left": null,
            "margin": null,
            "max_height": null,
            "max_width": null,
            "min_height": null,
            "min_width": null,
            "object_fit": null,
            "object_position": null,
            "order": null,
            "overflow": null,
            "overflow_x": null,
            "overflow_y": null,
            "padding": null,
            "right": null,
            "top": null,
            "visibility": null,
            "width": null
          }
        },
        "7e9893018a66443094ec9d2cf37a8093": {
          "model_module": "@jupyter-widgets/controls",
          "model_name": "ProgressStyleModel",
          "model_module_version": "1.5.0",
          "state": {
            "_model_module": "@jupyter-widgets/controls",
            "_model_module_version": "1.5.0",
            "_model_name": "ProgressStyleModel",
            "_view_count": null,
            "_view_module": "@jupyter-widgets/base",
            "_view_module_version": "1.2.0",
            "_view_name": "StyleView",
            "bar_color": null,
            "description_width": ""
          }
        },
        "40fbad63ccd14a15a0eb2219709dc94b": {
          "model_module": "@jupyter-widgets/base",
          "model_name": "LayoutModel",
          "model_module_version": "1.2.0",
          "state": {
            "_model_module": "@jupyter-widgets/base",
            "_model_module_version": "1.2.0",
            "_model_name": "LayoutModel",
            "_view_count": null,
            "_view_module": "@jupyter-widgets/base",
            "_view_module_version": "1.2.0",
            "_view_name": "LayoutView",
            "align_content": null,
            "align_items": null,
            "align_self": null,
            "border": null,
            "bottom": null,
            "display": null,
            "flex": null,
            "flex_flow": null,
            "grid_area": null,
            "grid_auto_columns": null,
            "grid_auto_flow": null,
            "grid_auto_rows": null,
            "grid_column": null,
            "grid_gap": null,
            "grid_row": null,
            "grid_template_areas": null,
            "grid_template_columns": null,
            "grid_template_rows": null,
            "height": null,
            "justify_content": null,
            "justify_items": null,
            "left": null,
            "margin": null,
            "max_height": null,
            "max_width": null,
            "min_height": null,
            "min_width": null,
            "object_fit": null,
            "object_position": null,
            "order": null,
            "overflow": null,
            "overflow_x": null,
            "overflow_y": null,
            "padding": null,
            "right": null,
            "top": null,
            "visibility": null,
            "width": null
          }
        },
        "2c066741bce0454886bac0045c824d91": {
          "model_module": "@jupyter-widgets/controls",
          "model_name": "DescriptionStyleModel",
          "model_module_version": "1.5.0",
          "state": {
            "_model_module": "@jupyter-widgets/controls",
            "_model_module_version": "1.5.0",
            "_model_name": "DescriptionStyleModel",
            "_view_count": null,
            "_view_module": "@jupyter-widgets/base",
            "_view_module_version": "1.2.0",
            "_view_name": "StyleView",
            "description_width": ""
          }
        },
        "ed8912b479174c6c9d6bdcf0874472f2": {
          "model_module": "@jupyter-widgets/controls",
          "model_name": "HBoxModel",
          "model_module_version": "1.5.0",
          "state": {
            "_dom_classes": [],
            "_model_module": "@jupyter-widgets/controls",
            "_model_module_version": "1.5.0",
            "_model_name": "HBoxModel",
            "_view_count": null,
            "_view_module": "@jupyter-widgets/controls",
            "_view_module_version": "1.5.0",
            "_view_name": "HBoxView",
            "box_style": "",
            "children": [
              "IPY_MODEL_bcbd954a980e436f83231115caaff5a9",
              "IPY_MODEL_b8ca8d4ca1e2496d85e29f349f80aa45",
              "IPY_MODEL_b4a3e24635cd463a9de05a1400680859"
            ],
            "layout": "IPY_MODEL_0dfdb113dbb840d7852cf0706c0c761a"
          }
        },
        "bcbd954a980e436f83231115caaff5a9": {
          "model_module": "@jupyter-widgets/controls",
          "model_name": "HTMLModel",
          "model_module_version": "1.5.0",
          "state": {
            "_dom_classes": [],
            "_model_module": "@jupyter-widgets/controls",
            "_model_module_version": "1.5.0",
            "_model_name": "HTMLModel",
            "_view_count": null,
            "_view_module": "@jupyter-widgets/controls",
            "_view_module_version": "1.5.0",
            "_view_name": "HTMLView",
            "description": "",
            "description_tooltip": null,
            "layout": "IPY_MODEL_d3e8226ad0484ea197b402fe5d28eb37",
            "placeholder": "​",
            "style": "IPY_MODEL_e160663cb709499a86013ade576fcc60",
            "value": "special_tokens_map.json: 100%"
          }
        },
        "b8ca8d4ca1e2496d85e29f349f80aa45": {
          "model_module": "@jupyter-widgets/controls",
          "model_name": "FloatProgressModel",
          "model_module_version": "1.5.0",
          "state": {
            "_dom_classes": [],
            "_model_module": "@jupyter-widgets/controls",
            "_model_module_version": "1.5.0",
            "_model_name": "FloatProgressModel",
            "_view_count": null,
            "_view_module": "@jupyter-widgets/controls",
            "_view_module_version": "1.5.0",
            "_view_name": "ProgressView",
            "bar_style": "success",
            "description": "",
            "description_tooltip": null,
            "layout": "IPY_MODEL_d185d47619ab4a78ac3cb9d8b8543a77",
            "max": 74,
            "min": 0,
            "orientation": "horizontal",
            "style": "IPY_MODEL_1728d0aea6034f6e9e76d5244e283e6c",
            "value": 74
          }
        },
        "b4a3e24635cd463a9de05a1400680859": {
          "model_module": "@jupyter-widgets/controls",
          "model_name": "HTMLModel",
          "model_module_version": "1.5.0",
          "state": {
            "_dom_classes": [],
            "_model_module": "@jupyter-widgets/controls",
            "_model_module_version": "1.5.0",
            "_model_name": "HTMLModel",
            "_view_count": null,
            "_view_module": "@jupyter-widgets/controls",
            "_view_module_version": "1.5.0",
            "_view_name": "HTMLView",
            "description": "",
            "description_tooltip": null,
            "layout": "IPY_MODEL_f069b19bc0a144e5b351c2ccc5600b39",
            "placeholder": "​",
            "style": "IPY_MODEL_bf32e90e0d3f48d1914ce132027b9d03",
            "value": " 74.0/74.0 [00:00&lt;00:00, 9.32kB/s]"
          }
        },
        "0dfdb113dbb840d7852cf0706c0c761a": {
          "model_module": "@jupyter-widgets/base",
          "model_name": "LayoutModel",
          "model_module_version": "1.2.0",
          "state": {
            "_model_module": "@jupyter-widgets/base",
            "_model_module_version": "1.2.0",
            "_model_name": "LayoutModel",
            "_view_count": null,
            "_view_module": "@jupyter-widgets/base",
            "_view_module_version": "1.2.0",
            "_view_name": "LayoutView",
            "align_content": null,
            "align_items": null,
            "align_self": null,
            "border": null,
            "bottom": null,
            "display": null,
            "flex": null,
            "flex_flow": null,
            "grid_area": null,
            "grid_auto_columns": null,
            "grid_auto_flow": null,
            "grid_auto_rows": null,
            "grid_column": null,
            "grid_gap": null,
            "grid_row": null,
            "grid_template_areas": null,
            "grid_template_columns": null,
            "grid_template_rows": null,
            "height": null,
            "justify_content": null,
            "justify_items": null,
            "left": null,
            "margin": null,
            "max_height": null,
            "max_width": null,
            "min_height": null,
            "min_width": null,
            "object_fit": null,
            "object_position": null,
            "order": null,
            "overflow": null,
            "overflow_x": null,
            "overflow_y": null,
            "padding": null,
            "right": null,
            "top": null,
            "visibility": null,
            "width": null
          }
        },
        "d3e8226ad0484ea197b402fe5d28eb37": {
          "model_module": "@jupyter-widgets/base",
          "model_name": "LayoutModel",
          "model_module_version": "1.2.0",
          "state": {
            "_model_module": "@jupyter-widgets/base",
            "_model_module_version": "1.2.0",
            "_model_name": "LayoutModel",
            "_view_count": null,
            "_view_module": "@jupyter-widgets/base",
            "_view_module_version": "1.2.0",
            "_view_name": "LayoutView",
            "align_content": null,
            "align_items": null,
            "align_self": null,
            "border": null,
            "bottom": null,
            "display": null,
            "flex": null,
            "flex_flow": null,
            "grid_area": null,
            "grid_auto_columns": null,
            "grid_auto_flow": null,
            "grid_auto_rows": null,
            "grid_column": null,
            "grid_gap": null,
            "grid_row": null,
            "grid_template_areas": null,
            "grid_template_columns": null,
            "grid_template_rows": null,
            "height": null,
            "justify_content": null,
            "justify_items": null,
            "left": null,
            "margin": null,
            "max_height": null,
            "max_width": null,
            "min_height": null,
            "min_width": null,
            "object_fit": null,
            "object_position": null,
            "order": null,
            "overflow": null,
            "overflow_x": null,
            "overflow_y": null,
            "padding": null,
            "right": null,
            "top": null,
            "visibility": null,
            "width": null
          }
        },
        "e160663cb709499a86013ade576fcc60": {
          "model_module": "@jupyter-widgets/controls",
          "model_name": "DescriptionStyleModel",
          "model_module_version": "1.5.0",
          "state": {
            "_model_module": "@jupyter-widgets/controls",
            "_model_module_version": "1.5.0",
            "_model_name": "DescriptionStyleModel",
            "_view_count": null,
            "_view_module": "@jupyter-widgets/base",
            "_view_module_version": "1.2.0",
            "_view_name": "StyleView",
            "description_width": ""
          }
        },
        "d185d47619ab4a78ac3cb9d8b8543a77": {
          "model_module": "@jupyter-widgets/base",
          "model_name": "LayoutModel",
          "model_module_version": "1.2.0",
          "state": {
            "_model_module": "@jupyter-widgets/base",
            "_model_module_version": "1.2.0",
            "_model_name": "LayoutModel",
            "_view_count": null,
            "_view_module": "@jupyter-widgets/base",
            "_view_module_version": "1.2.0",
            "_view_name": "LayoutView",
            "align_content": null,
            "align_items": null,
            "align_self": null,
            "border": null,
            "bottom": null,
            "display": null,
            "flex": null,
            "flex_flow": null,
            "grid_area": null,
            "grid_auto_columns": null,
            "grid_auto_flow": null,
            "grid_auto_rows": null,
            "grid_column": null,
            "grid_gap": null,
            "grid_row": null,
            "grid_template_areas": null,
            "grid_template_columns": null,
            "grid_template_rows": null,
            "height": null,
            "justify_content": null,
            "justify_items": null,
            "left": null,
            "margin": null,
            "max_height": null,
            "max_width": null,
            "min_height": null,
            "min_width": null,
            "object_fit": null,
            "object_position": null,
            "order": null,
            "overflow": null,
            "overflow_x": null,
            "overflow_y": null,
            "padding": null,
            "right": null,
            "top": null,
            "visibility": null,
            "width": null
          }
        },
        "1728d0aea6034f6e9e76d5244e283e6c": {
          "model_module": "@jupyter-widgets/controls",
          "model_name": "ProgressStyleModel",
          "model_module_version": "1.5.0",
          "state": {
            "_model_module": "@jupyter-widgets/controls",
            "_model_module_version": "1.5.0",
            "_model_name": "ProgressStyleModel",
            "_view_count": null,
            "_view_module": "@jupyter-widgets/base",
            "_view_module_version": "1.2.0",
            "_view_name": "StyleView",
            "bar_color": null,
            "description_width": ""
          }
        },
        "f069b19bc0a144e5b351c2ccc5600b39": {
          "model_module": "@jupyter-widgets/base",
          "model_name": "LayoutModel",
          "model_module_version": "1.2.0",
          "state": {
            "_model_module": "@jupyter-widgets/base",
            "_model_module_version": "1.2.0",
            "_model_name": "LayoutModel",
            "_view_count": null,
            "_view_module": "@jupyter-widgets/base",
            "_view_module_version": "1.2.0",
            "_view_name": "LayoutView",
            "align_content": null,
            "align_items": null,
            "align_self": null,
            "border": null,
            "bottom": null,
            "display": null,
            "flex": null,
            "flex_flow": null,
            "grid_area": null,
            "grid_auto_columns": null,
            "grid_auto_flow": null,
            "grid_auto_rows": null,
            "grid_column": null,
            "grid_gap": null,
            "grid_row": null,
            "grid_template_areas": null,
            "grid_template_columns": null,
            "grid_template_rows": null,
            "height": null,
            "justify_content": null,
            "justify_items": null,
            "left": null,
            "margin": null,
            "max_height": null,
            "max_width": null,
            "min_height": null,
            "min_width": null,
            "object_fit": null,
            "object_position": null,
            "order": null,
            "overflow": null,
            "overflow_x": null,
            "overflow_y": null,
            "padding": null,
            "right": null,
            "top": null,
            "visibility": null,
            "width": null
          }
        },
        "bf32e90e0d3f48d1914ce132027b9d03": {
          "model_module": "@jupyter-widgets/controls",
          "model_name": "DescriptionStyleModel",
          "model_module_version": "1.5.0",
          "state": {
            "_model_module": "@jupyter-widgets/controls",
            "_model_module_version": "1.5.0",
            "_model_name": "DescriptionStyleModel",
            "_view_count": null,
            "_view_module": "@jupyter-widgets/base",
            "_view_module_version": "1.2.0",
            "_view_name": "StyleView",
            "description_width": ""
          }
        },
        "9aa0613a1e324701882840b67cb72088": {
          "model_module": "@jupyter-widgets/controls",
          "model_name": "HBoxModel",
          "model_module_version": "1.5.0",
          "state": {
            "_dom_classes": [],
            "_model_module": "@jupyter-widgets/controls",
            "_model_module_version": "1.5.0",
            "_model_name": "HBoxModel",
            "_view_count": null,
            "_view_module": "@jupyter-widgets/controls",
            "_view_module_version": "1.5.0",
            "_view_name": "HBoxView",
            "box_style": "",
            "children": [
              "IPY_MODEL_dfd2e8db8b88414c956d236717b6f115",
              "IPY_MODEL_01e808ca693246a8ac68666f463aa1ef",
              "IPY_MODEL_f0cb66147e4a483d8702d1defb6c5886"
            ],
            "layout": "IPY_MODEL_63809238c1f6407e878b496dd2970742"
          }
        },
        "dfd2e8db8b88414c956d236717b6f115": {
          "model_module": "@jupyter-widgets/controls",
          "model_name": "HTMLModel",
          "model_module_version": "1.5.0",
          "state": {
            "_dom_classes": [],
            "_model_module": "@jupyter-widgets/controls",
            "_model_module_version": "1.5.0",
            "_model_name": "HTMLModel",
            "_view_count": null,
            "_view_module": "@jupyter-widgets/controls",
            "_view_module_version": "1.5.0",
            "_view_name": "HTMLView",
            "description": "",
            "description_tooltip": null,
            "layout": "IPY_MODEL_d4c9d02eb8164b1080913644d09dfe82",
            "placeholder": "​",
            "style": "IPY_MODEL_a1adf317ca774e60a19144c87e5000b7",
            "value": "config.json: 100%"
          }
        },
        "01e808ca693246a8ac68666f463aa1ef": {
          "model_module": "@jupyter-widgets/controls",
          "model_name": "FloatProgressModel",
          "model_module_version": "1.5.0",
          "state": {
            "_dom_classes": [],
            "_model_module": "@jupyter-widgets/controls",
            "_model_module_version": "1.5.0",
            "_model_name": "FloatProgressModel",
            "_view_count": null,
            "_view_module": "@jupyter-widgets/controls",
            "_view_module_version": "1.5.0",
            "_view_name": "ProgressView",
            "bar_style": "success",
            "description": "",
            "description_tooltip": null,
            "layout": "IPY_MODEL_6171a32c6458414f9c40aafbeb6c1c23",
            "max": 801,
            "min": 0,
            "orientation": "horizontal",
            "style": "IPY_MODEL_755d66be59c14bb2a41278fa7cc3445a",
            "value": 801
          }
        },
        "f0cb66147e4a483d8702d1defb6c5886": {
          "model_module": "@jupyter-widgets/controls",
          "model_name": "HTMLModel",
          "model_module_version": "1.5.0",
          "state": {
            "_dom_classes": [],
            "_model_module": "@jupyter-widgets/controls",
            "_model_module_version": "1.5.0",
            "_model_name": "HTMLModel",
            "_view_count": null,
            "_view_module": "@jupyter-widgets/controls",
            "_view_module_version": "1.5.0",
            "_view_name": "HTMLView",
            "description": "",
            "description_tooltip": null,
            "layout": "IPY_MODEL_2a64818cff37412dbd304f5b5ef93d62",
            "placeholder": "​",
            "style": "IPY_MODEL_268592b3c4e04250bb2a14e64bd3f391",
            "value": " 801/801 [00:00&lt;00:00, 101kB/s]"
          }
        },
        "63809238c1f6407e878b496dd2970742": {
          "model_module": "@jupyter-widgets/base",
          "model_name": "LayoutModel",
          "model_module_version": "1.2.0",
          "state": {
            "_model_module": "@jupyter-widgets/base",
            "_model_module_version": "1.2.0",
            "_model_name": "LayoutModel",
            "_view_count": null,
            "_view_module": "@jupyter-widgets/base",
            "_view_module_version": "1.2.0",
            "_view_name": "LayoutView",
            "align_content": null,
            "align_items": null,
            "align_self": null,
            "border": null,
            "bottom": null,
            "display": null,
            "flex": null,
            "flex_flow": null,
            "grid_area": null,
            "grid_auto_columns": null,
            "grid_auto_flow": null,
            "grid_auto_rows": null,
            "grid_column": null,
            "grid_gap": null,
            "grid_row": null,
            "grid_template_areas": null,
            "grid_template_columns": null,
            "grid_template_rows": null,
            "height": null,
            "justify_content": null,
            "justify_items": null,
            "left": null,
            "margin": null,
            "max_height": null,
            "max_width": null,
            "min_height": null,
            "min_width": null,
            "object_fit": null,
            "object_position": null,
            "order": null,
            "overflow": null,
            "overflow_x": null,
            "overflow_y": null,
            "padding": null,
            "right": null,
            "top": null,
            "visibility": null,
            "width": null
          }
        },
        "d4c9d02eb8164b1080913644d09dfe82": {
          "model_module": "@jupyter-widgets/base",
          "model_name": "LayoutModel",
          "model_module_version": "1.2.0",
          "state": {
            "_model_module": "@jupyter-widgets/base",
            "_model_module_version": "1.2.0",
            "_model_name": "LayoutModel",
            "_view_count": null,
            "_view_module": "@jupyter-widgets/base",
            "_view_module_version": "1.2.0",
            "_view_name": "LayoutView",
            "align_content": null,
            "align_items": null,
            "align_self": null,
            "border": null,
            "bottom": null,
            "display": null,
            "flex": null,
            "flex_flow": null,
            "grid_area": null,
            "grid_auto_columns": null,
            "grid_auto_flow": null,
            "grid_auto_rows": null,
            "grid_column": null,
            "grid_gap": null,
            "grid_row": null,
            "grid_template_areas": null,
            "grid_template_columns": null,
            "grid_template_rows": null,
            "height": null,
            "justify_content": null,
            "justify_items": null,
            "left": null,
            "margin": null,
            "max_height": null,
            "max_width": null,
            "min_height": null,
            "min_width": null,
            "object_fit": null,
            "object_position": null,
            "order": null,
            "overflow": null,
            "overflow_x": null,
            "overflow_y": null,
            "padding": null,
            "right": null,
            "top": null,
            "visibility": null,
            "width": null
          }
        },
        "a1adf317ca774e60a19144c87e5000b7": {
          "model_module": "@jupyter-widgets/controls",
          "model_name": "DescriptionStyleModel",
          "model_module_version": "1.5.0",
          "state": {
            "_model_module": "@jupyter-widgets/controls",
            "_model_module_version": "1.5.0",
            "_model_name": "DescriptionStyleModel",
            "_view_count": null,
            "_view_module": "@jupyter-widgets/base",
            "_view_module_version": "1.2.0",
            "_view_name": "StyleView",
            "description_width": ""
          }
        },
        "6171a32c6458414f9c40aafbeb6c1c23": {
          "model_module": "@jupyter-widgets/base",
          "model_name": "LayoutModel",
          "model_module_version": "1.2.0",
          "state": {
            "_model_module": "@jupyter-widgets/base",
            "_model_module_version": "1.2.0",
            "_model_name": "LayoutModel",
            "_view_count": null,
            "_view_module": "@jupyter-widgets/base",
            "_view_module_version": "1.2.0",
            "_view_name": "LayoutView",
            "align_content": null,
            "align_items": null,
            "align_self": null,
            "border": null,
            "bottom": null,
            "display": null,
            "flex": null,
            "flex_flow": null,
            "grid_area": null,
            "grid_auto_columns": null,
            "grid_auto_flow": null,
            "grid_auto_rows": null,
            "grid_column": null,
            "grid_gap": null,
            "grid_row": null,
            "grid_template_areas": null,
            "grid_template_columns": null,
            "grid_template_rows": null,
            "height": null,
            "justify_content": null,
            "justify_items": null,
            "left": null,
            "margin": null,
            "max_height": null,
            "max_width": null,
            "min_height": null,
            "min_width": null,
            "object_fit": null,
            "object_position": null,
            "order": null,
            "overflow": null,
            "overflow_x": null,
            "overflow_y": null,
            "padding": null,
            "right": null,
            "top": null,
            "visibility": null,
            "width": null
          }
        },
        "755d66be59c14bb2a41278fa7cc3445a": {
          "model_module": "@jupyter-widgets/controls",
          "model_name": "ProgressStyleModel",
          "model_module_version": "1.5.0",
          "state": {
            "_model_module": "@jupyter-widgets/controls",
            "_model_module_version": "1.5.0",
            "_model_name": "ProgressStyleModel",
            "_view_count": null,
            "_view_module": "@jupyter-widgets/base",
            "_view_module_version": "1.2.0",
            "_view_name": "StyleView",
            "bar_color": null,
            "description_width": ""
          }
        },
        "2a64818cff37412dbd304f5b5ef93d62": {
          "model_module": "@jupyter-widgets/base",
          "model_name": "LayoutModel",
          "model_module_version": "1.2.0",
          "state": {
            "_model_module": "@jupyter-widgets/base",
            "_model_module_version": "1.2.0",
            "_model_name": "LayoutModel",
            "_view_count": null,
            "_view_module": "@jupyter-widgets/base",
            "_view_module_version": "1.2.0",
            "_view_name": "LayoutView",
            "align_content": null,
            "align_items": null,
            "align_self": null,
            "border": null,
            "bottom": null,
            "display": null,
            "flex": null,
            "flex_flow": null,
            "grid_area": null,
            "grid_auto_columns": null,
            "grid_auto_flow": null,
            "grid_auto_rows": null,
            "grid_column": null,
            "grid_gap": null,
            "grid_row": null,
            "grid_template_areas": null,
            "grid_template_columns": null,
            "grid_template_rows": null,
            "height": null,
            "justify_content": null,
            "justify_items": null,
            "left": null,
            "margin": null,
            "max_height": null,
            "max_width": null,
            "min_height": null,
            "min_width": null,
            "object_fit": null,
            "object_position": null,
            "order": null,
            "overflow": null,
            "overflow_x": null,
            "overflow_y": null,
            "padding": null,
            "right": null,
            "top": null,
            "visibility": null,
            "width": null
          }
        },
        "268592b3c4e04250bb2a14e64bd3f391": {
          "model_module": "@jupyter-widgets/controls",
          "model_name": "DescriptionStyleModel",
          "model_module_version": "1.5.0",
          "state": {
            "_model_module": "@jupyter-widgets/controls",
            "_model_module_version": "1.5.0",
            "_model_name": "DescriptionStyleModel",
            "_view_count": null,
            "_view_module": "@jupyter-widgets/base",
            "_view_module_version": "1.2.0",
            "_view_name": "StyleView",
            "description_width": ""
          }
        },
        "09d3fb08c7de4ad3af761e6ea35b7925": {
          "model_module": "@jupyter-widgets/controls",
          "model_name": "HBoxModel",
          "model_module_version": "1.5.0",
          "state": {
            "_dom_classes": [],
            "_model_module": "@jupyter-widgets/controls",
            "_model_module_version": "1.5.0",
            "_model_name": "HBoxModel",
            "_view_count": null,
            "_view_module": "@jupyter-widgets/controls",
            "_view_module_version": "1.5.0",
            "_view_name": "HBoxView",
            "box_style": "",
            "children": [
              "IPY_MODEL_44c8f365d5da41ad9b38c48d8d757e04",
              "IPY_MODEL_8a4f68dce3bc4705823a4ff0c506c837",
              "IPY_MODEL_6166f9fe76c24f34ab0bef19a72e8399"
            ],
            "layout": "IPY_MODEL_d22902f137ed4d3b8cad1f56a53f5762"
          }
        },
        "44c8f365d5da41ad9b38c48d8d757e04": {
          "model_module": "@jupyter-widgets/controls",
          "model_name": "HTMLModel",
          "model_module_version": "1.5.0",
          "state": {
            "_dom_classes": [],
            "_model_module": "@jupyter-widgets/controls",
            "_model_module_version": "1.5.0",
            "_model_name": "HTMLModel",
            "_view_count": null,
            "_view_module": "@jupyter-widgets/controls",
            "_view_module_version": "1.5.0",
            "_view_name": "HTMLView",
            "description": "",
            "description_tooltip": null,
            "layout": "IPY_MODEL_d80558221eb74ff982c244b407e75813",
            "placeholder": "​",
            "style": "IPY_MODEL_ffdd08bd5a0546af859be5c272526cd1",
            "value": "pytorch_model.bin: 100%"
          }
        },
        "8a4f68dce3bc4705823a4ff0c506c837": {
          "model_module": "@jupyter-widgets/controls",
          "model_name": "FloatProgressModel",
          "model_module_version": "1.5.0",
          "state": {
            "_dom_classes": [],
            "_model_module": "@jupyter-widgets/controls",
            "_model_module_version": "1.5.0",
            "_model_name": "FloatProgressModel",
            "_view_count": null,
            "_view_module": "@jupyter-widgets/controls",
            "_view_module_version": "1.5.0",
            "_view_name": "ProgressView",
            "bar_style": "success",
            "description": "",
            "description_tooltip": null,
            "layout": "IPY_MODEL_7c4e2f2a1f7645e9839ff5101cc5982a",
            "max": 1200768197,
            "min": 0,
            "orientation": "horizontal",
            "style": "IPY_MODEL_daef68ee66fa4138b244c159e888c7a7",
            "value": 1200768197
          }
        },
        "6166f9fe76c24f34ab0bef19a72e8399": {
          "model_module": "@jupyter-widgets/controls",
          "model_name": "HTMLModel",
          "model_module_version": "1.5.0",
          "state": {
            "_dom_classes": [],
            "_model_module": "@jupyter-widgets/controls",
            "_model_module_version": "1.5.0",
            "_model_name": "HTMLModel",
            "_view_count": null,
            "_view_module": "@jupyter-widgets/controls",
            "_view_module_version": "1.5.0",
            "_view_name": "HTMLView",
            "description": "",
            "description_tooltip": null,
            "layout": "IPY_MODEL_48bb8046cd1d476f868e3275d35e9067",
            "placeholder": "​",
            "style": "IPY_MODEL_2128c3e4fcb446d68d61814dec6d6b9f",
            "value": " 1.20G/1.20G [00:50&lt;00:00, 23.7MB/s]"
          }
        },
        "d22902f137ed4d3b8cad1f56a53f5762": {
          "model_module": "@jupyter-widgets/base",
          "model_name": "LayoutModel",
          "model_module_version": "1.2.0",
          "state": {
            "_model_module": "@jupyter-widgets/base",
            "_model_module_version": "1.2.0",
            "_model_name": "LayoutModel",
            "_view_count": null,
            "_view_module": "@jupyter-widgets/base",
            "_view_module_version": "1.2.0",
            "_view_name": "LayoutView",
            "align_content": null,
            "align_items": null,
            "align_self": null,
            "border": null,
            "bottom": null,
            "display": null,
            "flex": null,
            "flex_flow": null,
            "grid_area": null,
            "grid_auto_columns": null,
            "grid_auto_flow": null,
            "grid_auto_rows": null,
            "grid_column": null,
            "grid_gap": null,
            "grid_row": null,
            "grid_template_areas": null,
            "grid_template_columns": null,
            "grid_template_rows": null,
            "height": null,
            "justify_content": null,
            "justify_items": null,
            "left": null,
            "margin": null,
            "max_height": null,
            "max_width": null,
            "min_height": null,
            "min_width": null,
            "object_fit": null,
            "object_position": null,
            "order": null,
            "overflow": null,
            "overflow_x": null,
            "overflow_y": null,
            "padding": null,
            "right": null,
            "top": null,
            "visibility": null,
            "width": null
          }
        },
        "d80558221eb74ff982c244b407e75813": {
          "model_module": "@jupyter-widgets/base",
          "model_name": "LayoutModel",
          "model_module_version": "1.2.0",
          "state": {
            "_model_module": "@jupyter-widgets/base",
            "_model_module_version": "1.2.0",
            "_model_name": "LayoutModel",
            "_view_count": null,
            "_view_module": "@jupyter-widgets/base",
            "_view_module_version": "1.2.0",
            "_view_name": "LayoutView",
            "align_content": null,
            "align_items": null,
            "align_self": null,
            "border": null,
            "bottom": null,
            "display": null,
            "flex": null,
            "flex_flow": null,
            "grid_area": null,
            "grid_auto_columns": null,
            "grid_auto_flow": null,
            "grid_auto_rows": null,
            "grid_column": null,
            "grid_gap": null,
            "grid_row": null,
            "grid_template_areas": null,
            "grid_template_columns": null,
            "grid_template_rows": null,
            "height": null,
            "justify_content": null,
            "justify_items": null,
            "left": null,
            "margin": null,
            "max_height": null,
            "max_width": null,
            "min_height": null,
            "min_width": null,
            "object_fit": null,
            "object_position": null,
            "order": null,
            "overflow": null,
            "overflow_x": null,
            "overflow_y": null,
            "padding": null,
            "right": null,
            "top": null,
            "visibility": null,
            "width": null
          }
        },
        "ffdd08bd5a0546af859be5c272526cd1": {
          "model_module": "@jupyter-widgets/controls",
          "model_name": "DescriptionStyleModel",
          "model_module_version": "1.5.0",
          "state": {
            "_model_module": "@jupyter-widgets/controls",
            "_model_module_version": "1.5.0",
            "_model_name": "DescriptionStyleModel",
            "_view_count": null,
            "_view_module": "@jupyter-widgets/base",
            "_view_module_version": "1.2.0",
            "_view_name": "StyleView",
            "description_width": ""
          }
        },
        "7c4e2f2a1f7645e9839ff5101cc5982a": {
          "model_module": "@jupyter-widgets/base",
          "model_name": "LayoutModel",
          "model_module_version": "1.2.0",
          "state": {
            "_model_module": "@jupyter-widgets/base",
            "_model_module_version": "1.2.0",
            "_model_name": "LayoutModel",
            "_view_count": null,
            "_view_module": "@jupyter-widgets/base",
            "_view_module_version": "1.2.0",
            "_view_name": "LayoutView",
            "align_content": null,
            "align_items": null,
            "align_self": null,
            "border": null,
            "bottom": null,
            "display": null,
            "flex": null,
            "flex_flow": null,
            "grid_area": null,
            "grid_auto_columns": null,
            "grid_auto_flow": null,
            "grid_auto_rows": null,
            "grid_column": null,
            "grid_gap": null,
            "grid_row": null,
            "grid_template_areas": null,
            "grid_template_columns": null,
            "grid_template_rows": null,
            "height": null,
            "justify_content": null,
            "justify_items": null,
            "left": null,
            "margin": null,
            "max_height": null,
            "max_width": null,
            "min_height": null,
            "min_width": null,
            "object_fit": null,
            "object_position": null,
            "order": null,
            "overflow": null,
            "overflow_x": null,
            "overflow_y": null,
            "padding": null,
            "right": null,
            "top": null,
            "visibility": null,
            "width": null
          }
        },
        "daef68ee66fa4138b244c159e888c7a7": {
          "model_module": "@jupyter-widgets/controls",
          "model_name": "ProgressStyleModel",
          "model_module_version": "1.5.0",
          "state": {
            "_model_module": "@jupyter-widgets/controls",
            "_model_module_version": "1.5.0",
            "_model_name": "ProgressStyleModel",
            "_view_count": null,
            "_view_module": "@jupyter-widgets/base",
            "_view_module_version": "1.2.0",
            "_view_name": "StyleView",
            "bar_color": null,
            "description_width": ""
          }
        },
        "48bb8046cd1d476f868e3275d35e9067": {
          "model_module": "@jupyter-widgets/base",
          "model_name": "LayoutModel",
          "model_module_version": "1.2.0",
          "state": {
            "_model_module": "@jupyter-widgets/base",
            "_model_module_version": "1.2.0",
            "_model_name": "LayoutModel",
            "_view_count": null,
            "_view_module": "@jupyter-widgets/base",
            "_view_module_version": "1.2.0",
            "_view_name": "LayoutView",
            "align_content": null,
            "align_items": null,
            "align_self": null,
            "border": null,
            "bottom": null,
            "display": null,
            "flex": null,
            "flex_flow": null,
            "grid_area": null,
            "grid_auto_columns": null,
            "grid_auto_flow": null,
            "grid_auto_rows": null,
            "grid_column": null,
            "grid_gap": null,
            "grid_row": null,
            "grid_template_areas": null,
            "grid_template_columns": null,
            "grid_template_rows": null,
            "height": null,
            "justify_content": null,
            "justify_items": null,
            "left": null,
            "margin": null,
            "max_height": null,
            "max_width": null,
            "min_height": null,
            "min_width": null,
            "object_fit": null,
            "object_position": null,
            "order": null,
            "overflow": null,
            "overflow_x": null,
            "overflow_y": null,
            "padding": null,
            "right": null,
            "top": null,
            "visibility": null,
            "width": null
          }
        },
        "2128c3e4fcb446d68d61814dec6d6b9f": {
          "model_module": "@jupyter-widgets/controls",
          "model_name": "DescriptionStyleModel",
          "model_module_version": "1.5.0",
          "state": {
            "_model_module": "@jupyter-widgets/controls",
            "_model_module_version": "1.5.0",
            "_model_name": "DescriptionStyleModel",
            "_view_count": null,
            "_view_module": "@jupyter-widgets/base",
            "_view_module_version": "1.2.0",
            "_view_name": "StyleView",
            "description_width": ""
          }
        }
      }
    }
  },
  "cells": [
    {
      "cell_type": "markdown",
      "source": [
        "<img src=\"https://storage.googleapis.com/mle-courses-prod/users/61b6fa1ba83a7e37c8309756/private-files/5ca3e740-cf30-11ef-a16d-9b898737f71b-Screen_Shot_2025_01_10_at_15.53.26.png\" width=700 />"
      ],
      "metadata": {
        "id": "xOyemffBazxD"
      }
    },
    {
      "cell_type": "markdown",
      "source": [
        "Tác giả: [ProtonX Team](https://protonx.coursemind.io/courses/677e0eeb02a8c600bdeb64e5/info)"
      ],
      "metadata": {
        "id": "YDTtKuFSbIlV"
      }
    },
    {
      "cell_type": "markdown",
      "source": [
        "Yêu cầu:\n",
        "- [OpenAI key](https://platform.openai.com/settings/organization/api-keys) để làm backend LLMs\n",
        "- [Serp API](https://serper.dev/api-key) key để tìm trên Google"
      ],
      "metadata": {
        "id": "9PebI3pLa-E0"
      }
    },
    {
      "cell_type": "code",
      "source": [
        "!pip install serpapi\n",
        "!pip install google-search-results"
      ],
      "metadata": {
        "colab": {
          "base_uri": "https://localhost:8080/"
        },
        "id": "04ZPlnWBZn1Y",
        "outputId": "83672a1f-1f09-41a8-a519-c1269ae090f4"
      },
      "execution_count": null,
      "outputs": [
        {
          "output_type": "stream",
          "name": "stdout",
          "text": [
            "Collecting serpapi\n",
            "  Downloading serpapi-0.1.5-py2.py3-none-any.whl.metadata (10 kB)\n",
            "Requirement already satisfied: requests in /usr/local/lib/python3.11/dist-packages (from serpapi) (2.32.3)\n",
            "Requirement already satisfied: charset-normalizer<4,>=2 in /usr/local/lib/python3.11/dist-packages (from requests->serpapi) (3.4.1)\n",
            "Requirement already satisfied: idna<4,>=2.5 in /usr/local/lib/python3.11/dist-packages (from requests->serpapi) (3.10)\n",
            "Requirement already satisfied: urllib3<3,>=1.21.1 in /usr/local/lib/python3.11/dist-packages (from requests->serpapi) (2.3.0)\n",
            "Requirement already satisfied: certifi>=2017.4.17 in /usr/local/lib/python3.11/dist-packages (from requests->serpapi) (2025.1.31)\n",
            "Downloading serpapi-0.1.5-py2.py3-none-any.whl (10 kB)\n",
            "Installing collected packages: serpapi\n",
            "Successfully installed serpapi-0.1.5\n",
            "Collecting google-search-results\n",
            "  Downloading google_search_results-2.4.2.tar.gz (18 kB)\n",
            "  Preparing metadata (setup.py) ... \u001b[?25l\u001b[?25hdone\n",
            "Requirement already satisfied: requests in /usr/local/lib/python3.11/dist-packages (from google-search-results) (2.32.3)\n",
            "Requirement already satisfied: charset-normalizer<4,>=2 in /usr/local/lib/python3.11/dist-packages (from requests->google-search-results) (3.4.1)\n",
            "Requirement already satisfied: idna<4,>=2.5 in /usr/local/lib/python3.11/dist-packages (from requests->google-search-results) (3.10)\n",
            "Requirement already satisfied: urllib3<3,>=1.21.1 in /usr/local/lib/python3.11/dist-packages (from requests->google-search-results) (2.3.0)\n",
            "Requirement already satisfied: certifi>=2017.4.17 in /usr/local/lib/python3.11/dist-packages (from requests->google-search-results) (2025.1.31)\n",
            "Building wheels for collected packages: google-search-results\n",
            "  Building wheel for google-search-results (setup.py) ... \u001b[?25l\u001b[?25hdone\n",
            "  Created wheel for google-search-results: filename=google_search_results-2.4.2-py3-none-any.whl size=32010 sha256=ebd193f460049ad0bb198bb4bfddf51972006209487126ae0b156062fff9c039\n",
            "  Stored in directory: /root/.cache/pip/wheels/6e/42/3e/aeb691b02cb7175ec70e2da04b5658d4739d2b41e5f73cd06f\n",
            "Successfully built google-search-results\n",
            "Installing collected packages: google-search-results\n",
            "Successfully installed google-search-results-2.4.2\n"
          ]
        }
      ]
    },
    {
      "cell_type": "code",
      "source": [
        "from openai import OpenAI\n",
        "from google.colab import userdata"
      ],
      "metadata": {
        "id": "kg1OW4EDz8Wl"
      },
      "execution_count": null,
      "outputs": []
    },
    {
      "cell_type": "code",
      "execution_count": null,
      "metadata": {
        "id": "4a2i4cauXW7I"
      },
      "outputs": [],
      "source": [
        "def reasoning_step(state, user_input, intermediate_results):\n",
        "    client = OpenAI(api_key=userdata.get('open_ai_key'))\n",
        "\n",
        "    # Construct the assistant message dynamically with the state, user input, and intermediate results\n",
        "    messages = [\n",
        "        {\n",
        "            \"role\": \"system\",\n",
        "            \"content\": (\n",
        "                \"You are a reasoning and acting agent. Based on the current state and user input, decide the next action.\\n\"\n",
        "                f\"State: {state}\\n\"\n",
        "                f\"User Input: {user_input}\\n\"\n",
        "                f\"Intermediate Results: {intermediate_results}\\n\\n\"\n",
        "                \"Respond with one of these actions:\\n\"\n",
        "                \"- Search(query)\\n\"\n",
        "                \"- Do nothing\\n\"\n",
        "                \"- Summarize(results): Only call when the length is greater than 100\\n\"\n",
        "            )\n",
        "        }\n",
        "    ]\n",
        "\n",
        "    response = client.chat.completions.create(\n",
        "        model=\"gpt-4.1\",\n",
        "        messages=messages,\n",
        "        response_format={\n",
        "            \"type\": \"json_schema\",\n",
        "            \"json_schema\": {\n",
        "                \"name\": \"agent_schema\",\n",
        "                \"schema\": {\n",
        "                    \"type\": \"object\",\n",
        "                    \"required\": [],\n",
        "                    \"properties\": {}\n",
        "                },\n",
        "                \"strict\": False\n",
        "            }\n",
        "        },\n",
        "        tools=[\n",
        "            {\n",
        "                \"type\": \"function\",\n",
        "                \"function\": {\n",
        "                    \"name\": \"search_action\",\n",
        "                    \"strict\": True,\n",
        "                    \"parameters\": {\n",
        "                        \"type\": \"object\",\n",
        "                        \"required\": [\"query\"],\n",
        "                        \"properties\": {\n",
        "                            \"query\": {\n",
        "                                \"type\": \"string\",\n",
        "                                \"description\": \"The search query string to be submitted to the search engine.\"\n",
        "                            }\n",
        "                        },\n",
        "                        \"additionalProperties\": False\n",
        "                    },\n",
        "                    \"description\": \"Performs a search using the SERP API and returns the organic results.\"\n",
        "                }\n",
        "            },\n",
        "            {\n",
        "                \"type\": \"function\",\n",
        "                \"function\": {\n",
        "                    \"name\": \"do_nothing\",\n",
        "                    \"strict\": True,\n",
        "                    \"parameters\": {\n",
        "                        \"type\": \"object\",\n",
        "                        \"required\": [],\n",
        "                        \"properties\": {},\n",
        "                        \"additionalProperties\": False\n",
        "                    },\n",
        "                    \"description\": \"A function that performs no action.\"\n",
        "                }\n",
        "            },\n",
        "            {\n",
        "                \"type\": \"function\",\n",
        "                \"function\": {\n",
        "                    \"name\": \"summarize_action\",\n",
        "                    \"description\": \"Summarizes product results using OpenAI's GPT-4 model\",\n",
        "                    \"parameters\": {\n",
        "                    \"type\": \"object\",\n",
        "                    \"required\": [\n",
        "                        \"results\"\n",
        "                    ],\n",
        "                    \"properties\": {\n",
        "                        \"results\": {\n",
        "                        \"type\": \"string\",\n",
        "                        \"description\": \"The product results to summarize\"\n",
        "                        }\n",
        "                    },\n",
        "                    \"additionalProperties\": False\n",
        "                    },\n",
        "                    \"strict\": True\n",
        "                }\n",
        "            }\n",
        "        ],\n",
        "        tool_choice=\"required\",\n",
        "        temperature=1,\n",
        "        max_completion_tokens=2048,\n",
        "        top_p=1,\n",
        "        frequency_penalty=0,\n",
        "        presence_penalty=0\n",
        "    )\n",
        "\n",
        "    return response"
      ]
    },
    {
      "cell_type": "markdown",
      "source": [
        "Giả sử chưa search bao giờ:"
      ],
      "metadata": {
        "id": "FbkWA4yUXhsv"
      }
    },
    {
      "cell_type": "code",
      "source": [
        "assistant_message = reasoning_step(\n",
        "    \"start\",\n",
        "    \"I lost my phone and I want to find the price of a newest iphone. Seems like the newsest is iphone 15?\",\n",
        "    []\n",
        ").choices[0].message"
      ],
      "metadata": {
        "id": "SGqTa7TSXjdK"
      },
      "execution_count": null,
      "outputs": []
    },
    {
      "cell_type": "code",
      "source": [
        "assistant_message"
      ],
      "metadata": {
        "colab": {
          "base_uri": "https://localhost:8080/"
        },
        "id": "nfDhVG7FtmDV",
        "outputId": "7c7e289d-af1d-49e2-9390-46c0652267cf"
      },
      "execution_count": null,
      "outputs": [
        {
          "output_type": "execute_result",
          "data": {
            "text/plain": [
              "ChatCompletionMessage(content=None, refusal=None, role='assistant', annotations=[], audio=None, function_call=None, tool_calls=[ChatCompletionMessageToolCall(id='call_WLHzdQFRyMjhyKyvFPqVQAYd', function=Function(arguments='{\"query\":\"iPhone 15 newest model price 2023\"}', name='search_action'), type='function')])"
            ]
          },
          "metadata": {},
          "execution_count": 11
        }
      ]
    },
    {
      "cell_type": "markdown",
      "source": [
        "Đã search và có thông tin rồi"
      ],
      "metadata": {
        "id": "cDUFYGyOXlKN"
      }
    },
    {
      "cell_type": "code",
      "source": [
        "assistant_message_a = reasoning_step(\n",
        "    \"start\",\n",
        "    \"iPhone 14 price?\",\n",
        "    [{\n",
        "            \"action\": \"search_action\",\n",
        "            \"parameters\": \"iPhone 14 price?\",\n",
        "            \"result\": \"price: $1000\"\n",
        "    }\n",
        "     ]\n",
        ").choices[0].message\n",
        "assistant_message_a"
      ],
      "metadata": {
        "id": "gYveBF1CZCC2",
        "colab": {
          "base_uri": "https://localhost:8080/"
        },
        "outputId": "e8e69456-11e7-42c2-aee3-e9a3970b1eea"
      },
      "execution_count": null,
      "outputs": [
        {
          "output_type": "execute_result",
          "data": {
            "text/plain": [
              "ChatCompletionMessage(content=None, refusal=None, role='assistant', annotations=[], audio=None, function_call=None, tool_calls=[ChatCompletionMessageToolCall(id='call_EuooyZ0bPFQ2ireNlWGwFC0C', function=Function(arguments='{}', name='do_nothing'), type='function')])"
            ]
          },
          "metadata": {},
          "execution_count": 35
        }
      ]
    },
    {
      "cell_type": "code",
      "source": [],
      "metadata": {
        "id": "YGxgw9gZk0ZM",
        "colab": {
          "base_uri": "https://localhost:8080/"
        },
        "outputId": "2ff2f9f7-f6f9-4cb0-8beb-ad72b32dae34"
      },
      "execution_count": null,
      "outputs": [
        {
          "output_type": "execute_result",
          "data": {
            "text/plain": [
              "ChatCompletionMessage(content=None, refusal=None, role='assistant', annotations=[], audio=None, function_call=None, tool_calls=[ChatCompletionMessageToolCall(id='call_wu7qpAlqxwPp6mACHfU9l70p', function=Function(arguments='{}', name='do_nothing'), type='function')])"
            ]
          },
          "metadata": {},
          "execution_count": 28
        }
      ]
    },
    {
      "cell_type": "markdown",
      "source": [
        "Đánh giá chất lượng"
      ],
      "metadata": {
        "id": "SP-1q3usYTpL"
      }
    },
    {
      "cell_type": "markdown",
      "source": [
        "\n",
        "```\n",
        "Query: iphone 14 price?\n",
        "Expect: trong output cuối cùng có giá $500\n",
        "\n",
        "```\n",
        "\n",
        "\n"
      ],
      "metadata": {
        "id": "zeMdQz-FX0Fp"
      }
    },
    {
      "cell_type": "code",
      "source": [
        "def process_tool_calls(response):\n",
        "    # Extract tool call information from the response\n",
        "    tool_calls = response.tool_calls\n",
        "\n",
        "    if tool_calls:\n",
        "        # Extract tool function details\n",
        "        tool_call_id = tool_calls[0].id\n",
        "        tool_function_name = tool_calls[0].function.name\n",
        "        tool_query_string = eval(tool_calls[0].function.arguments)\n",
        "\n",
        "        # Print extracted details\n",
        "        print('Tool Function Name:', tool_function_name)\n",
        "        print('Tool Query String:', tool_query_string)\n",
        "\n",
        "        return tool_function_name, tool_query_string\n",
        "\n",
        "    else:\n",
        "        print(\"No tool calls identified.\")\n",
        "        return None, None\n",
        "\n",
        "process_tool_calls(assistant_message)"
      ],
      "metadata": {
        "colab": {
          "base_uri": "https://localhost:8080/"
        },
        "id": "zfTBMlBRk7H_",
        "outputId": "405b5e3c-41bf-48a4-8409-b905a166791b"
      },
      "execution_count": null,
      "outputs": [
        {
          "output_type": "stream",
          "name": "stdout",
          "text": [
            "Tool Function Name: summarize_action\n",
            "Tool Query String: {'results': 'price: $1000'}\n"
          ]
        },
        {
          "output_type": "execute_result",
          "data": {
            "text/plain": [
              "('summarize_action', {'results': 'price: $1000'})"
            ]
          },
          "metadata": {},
          "execution_count": 36
        }
      ]
    },
    {
      "cell_type": "code",
      "source": [
        "def search_action(query):\n",
        "    from serpapi import GoogleSearch\n",
        "    api_key = userdata.get(\"serpapi\")\n",
        "    search = GoogleSearch({\n",
        "        \"q\": query,\n",
        "        \"api_key\": api_key,\n",
        "        \"num\": 1})\n",
        "\n",
        "    results = search.get_dict()\n",
        "\n",
        "    # Check if the results contain weather information\n",
        "    if 'answer_box' in results and results.get('answer_box', {}).get('type') == 'weather_result':\n",
        "        return extract_weather_data(results)\n",
        "\n",
        "    # Return the full results if not a weather query\n",
        "    return results\n",
        "\n",
        "def extract_weather_data(results):\n",
        "    \"\"\"\n",
        "    Extracts weather data from SerpAPI weather results\n",
        "\n",
        "    Args:\n",
        "        results (dict): The SerpAPI results dictionary\n",
        "\n",
        "    Returns:\n",
        "        dict: Dictionary containing formatted weather information\n",
        "    \"\"\"\n",
        "    weather_data = {}\n",
        "\n",
        "    if 'answer_box' in results:\n",
        "        answer_box = results['answer_box']\n",
        "\n",
        "        # Extract current weather information\n",
        "        weather_data['current'] = {\n",
        "            'temperature': answer_box.get('temperature'),\n",
        "            'unit': answer_box.get('unit'),\n",
        "            'weather': answer_box.get('weather'),\n",
        "            'location': answer_box.get('location'),\n",
        "            'date': answer_box.get('date'),\n",
        "            'humidity': answer_box.get('humidity'),\n",
        "            'precipitation': answer_box.get('precipitation'),\n",
        "            'wind': answer_box.get('wind')\n",
        "        }\n",
        "\n",
        "        # Extract forecast if available\n",
        "        if 'forecast' in answer_box:\n",
        "            weather_data['forecast'] = answer_box['forecast']\n",
        "\n",
        "        # Extract hourly forecast if available\n",
        "        if 'hourly_forecast' in answer_box:\n",
        "            weather_data['hourly'] = answer_box['hourly_forecast']\n",
        "\n",
        "    return weather_data"
      ],
      "metadata": {
        "id": "r5nFD3L4IJOr"
      },
      "execution_count": null,
      "outputs": []
    },
    {
      "cell_type": "code",
      "source": [
        "search_action(\"Thời tiết hôm nay\")"
      ],
      "metadata": {
        "colab": {
          "base_uri": "https://localhost:8080/"
        },
        "id": "RsSzOW_zINBz",
        "outputId": "75f3b2c1-9e08-4269-fb6c-dd98bbc1da8e"
      },
      "execution_count": null,
      "outputs": [
        {
          "output_type": "execute_result",
          "data": {
            "text/plain": [
              "{'error': 'Your account has run out of searches.'}"
            ]
          },
          "metadata": {},
          "execution_count": 73
        }
      ]
    },
    {
      "cell_type": "code",
      "source": [
        "def search_action(query):\n",
        "    from serpapi import GoogleSearch\n",
        "    api_key = userdata.get(\"serpapi\")\n",
        "    search = GoogleSearch({\n",
        "        \"q\": query,\n",
        "        \"api_key\": api_key,\n",
        "        \"num\": 1})\n",
        "\n",
        "    results = search.get_dict()\n",
        "\n",
        "\n",
        "    info = []\n",
        "\n",
        "    print(\"--->\", results)\n",
        "    for item in results['organic_results']:\n",
        "        info.append(item['snippet'])\n",
        "\n",
        "    return \"\\n\".join(info)"
      ],
      "metadata": {
        "id": "04cqhlApLF_z"
      },
      "execution_count": null,
      "outputs": []
    },
    {
      "cell_type": "code",
      "source": [
        "search_action(\"thời tiết Hồ Gươm hôm nay\")"
      ],
      "metadata": {
        "colab": {
          "base_uri": "https://localhost:8080/",
          "height": 73
        },
        "id": "n8KCmbqOz2lI",
        "outputId": "aabf1765-1c8a-4c83-ebcd-790daa423fd4"
      },
      "execution_count": null,
      "outputs": [
        {
          "output_type": "stream",
          "name": "stdout",
          "text": [
            "---> {'search_metadata': {'id': '68031605409d3aa21b784cd5', 'status': 'Success', 'json_endpoint': 'https://serpapi.com/searches/1eeaeb5ea8699521/68031605409d3aa21b784cd5.json', 'created_at': '2025-04-19 03:18:29 UTC', 'processed_at': '2025-04-19 03:18:29 UTC', 'google_url': 'https://www.google.com/search?q=th%E1%BB%9Di+ti%E1%BA%BFt+H%E1%BB%93+G%C6%B0%C6%A1m+h%C3%B4m+nay&oq=th%E1%BB%9Di+ti%E1%BA%BFt+H%E1%BB%93+G%C6%B0%C6%A1m+h%C3%B4m+nay&num=1&sourceid=chrome&ie=UTF-8', 'raw_html_file': 'https://serpapi.com/searches/1eeaeb5ea8699521/68031605409d3aa21b784cd5.html', 'total_time_taken': 1.5}, 'search_parameters': {'engine': 'google', 'q': 'thời tiết Hồ Gươm hôm nay', 'google_domain': 'google.com', 'num': '1', 'device': 'desktop'}, 'search_information': {'query_displayed': 'thời tiết Hồ Gươm hôm nay', 'total_results': 2110000, 'time_taken_displayed': 0.2, 'organic_results_state': 'Results for exact spelling', 'results_for': 'Hoàn Kiếm Lake, Hang Trong'}, 'knowledge_graph': {'entity_type': 'weather_onebox'}, 'answer_box': {'type': 'weather_result', 'temperature': '94', 'unit': 'Fahrenheit', 'precipitation': '15%', 'humidity': '60%', 'wind': '10 mph', 'location': 'Hoàn Kiếm Lake, Hang Trong', 'date': 'Saturday', 'weather': 'Partly cloudy', 'thumbnail': 'https://serpapi.com/searches/68031605409d3aa21b784cd5/images/0e97a0bf3541e88954f137852e35e07a9c156a11b4999ff9.png', 'forecast': [{'day': 'Saturday', 'temperature': {'high': '94', 'low': '78'}, 'thumbnail': 'https://serpapi.com/searches/68031605409d3aa21b784cd5/images/0e97a0bf3541e8891aef302b38e489ab49687b1ce71f5ff9291d4116b1e48055.png', 'weather': 'Partly cloudy', 'humidity': '60%', 'precipitation': '15%', 'wind': '10 mph'}, {'day': 'Sunday', 'temperature': {'high': '94', 'low': '78'}, 'thumbnail': 'https://serpapi.com/searches/68031605409d3aa21b784cd5/images/0e97a0bf3541e8891aef302b38e489ab14cdfb68be57ec26648e6343be984b88.png', 'weather': 'Partly cloudy', 'humidity': '64%', 'precipitation': '35%', 'wind': '10 mph'}, {'day': 'Monday', 'temperature': {'high': '96', 'low': '78'}, 'thumbnail': 'https://serpapi.com/searches/68031605409d3aa21b784cd5/images/0e97a0bf3541e8891aef302b38e489ab292f53f2cbd546a1ded90b979eb7ee30.png', 'weather': 'Sunny', 'humidity': '61%', 'precipitation': '0%', 'wind': '12 mph'}, {'day': 'Tuesday', 'temperature': {'high': '97', 'low': '78'}, 'thumbnail': 'https://serpapi.com/searches/68031605409d3aa21b784cd5/images/0e97a0bf3541e8891aef302b38e489ab7460a3c2028f8b8ca9d51764d1fb5ce1.png', 'weather': 'Sunny', 'humidity': '61%', 'precipitation': '15%', 'wind': '10 mph'}, {'day': 'Wednesday', 'temperature': {'high': '91', 'low': '77'}, 'thumbnail': 'https://serpapi.com/searches/68031605409d3aa21b784cd5/images/0e97a0bf3541e8891aef302b38e489ab29beefee231ffa16111490e7ca37a6df.png', 'weather': 'Partly cloudy', 'humidity': '68%', 'precipitation': '15%', 'wind': '11 mph'}, {'day': 'Thursday', 'temperature': {'high': '86', 'low': '75'}, 'thumbnail': 'https://serpapi.com/searches/68031605409d3aa21b784cd5/images/0e97a0bf3541e8891aef302b38e489abba8132f52f59580a18a930f98dbe033c.png', 'weather': 'Light rain', 'humidity': '71%', 'precipitation': '25%', 'wind': '8 mph'}, {'day': 'Friday', 'temperature': {'high': '81', 'low': '74'}, 'thumbnail': 'https://serpapi.com/searches/68031605409d3aa21b784cd5/images/0e97a0bf3541e8891aef302b38e489ab4379d6d4d61c6b3911120098a22070dd.png', 'weather': 'Mostly cloudy', 'humidity': '71%', 'precipitation': '45%', 'wind': '8 mph'}, {'day': 'Saturday', 'temperature': {'high': '82', 'low': '76'}, 'thumbnail': 'https://serpapi.com/searches/68031605409d3aa21b784cd5/images/0e97a0bf3541e8891aef302b38e489ab08df7cafb491cde18724429aaa3904ba.png', 'weather': 'Light rain', 'humidity': '74%', 'precipitation': '20%', 'wind': '8 mph'}], 'hourly_forecast': [{'time': 'Saturday 10:00\\u202fAM', 'thumbnail': 'https://ssl.gstatic.com/onebox/weather/64/partly_cloudy.png', 'weather': 'Partly cloudy', 'temperature': '87', 'precipitation': '0%', 'humidity': '70%', 'wind': '5 mph'}, {'time': 'Saturday 11:00\\u202fAM', 'thumbnail': 'https://ssl.gstatic.com/onebox/weather/64/partly_cloudy.png', 'weather': 'Partly cloudy', 'temperature': '89', 'precipitation': '0%', 'humidity': '64%', 'wind': '5 mph'}, {'time': 'Saturday 12:00\\u202fPM', 'thumbnail': 'https://ssl.gstatic.com/onebox/weather/64/partly_cloudy.png', 'weather': 'Partly cloudy', 'temperature': '92', 'precipitation': '0%', 'humidity': '54%', 'wind': '5 mph'}, {'time': 'Saturday 1:00\\u202fPM', 'thumbnail': 'https://ssl.gstatic.com/onebox/weather/64/partly_cloudy.png', 'weather': 'Partly cloudy', 'temperature': '94', 'precipitation': '5%', 'humidity': '49%', 'wind': '6 mph'}, {'time': 'Saturday 2:00\\u202fPM', 'thumbnail': 'https://ssl.gstatic.com/onebox/weather/64/partly_cloudy.png', 'weather': 'Partly cloudy', 'temperature': '94', 'precipitation': '15%', 'humidity': '49%', 'wind': '8 mph'}, {'time': 'Saturday 3:00\\u202fPM', 'thumbnail': 'https://ssl.gstatic.com/onebox/weather/64/partly_cloudy.png', 'weather': 'Partly cloudy', 'temperature': '94', 'precipitation': '5%', 'humidity': '52%', 'wind': '9 mph'}, {'time': 'Saturday 4:00\\u202fPM', 'thumbnail': 'https://ssl.gstatic.com/onebox/weather/64/partly_cloudy.png', 'weather': 'Partly cloudy', 'temperature': '92', 'precipitation': '5%', 'humidity': '55%', 'wind': '10 mph'}, {'time': 'Saturday 5:00\\u202fPM', 'thumbnail': 'https://ssl.gstatic.com/onebox/weather/64/partly_cloudy.png', 'weather': 'Partly cloudy', 'temperature': '91', 'precipitation': '5%', 'humidity': '56%', 'wind': '10 mph'}, {'time': 'Saturday 6:00\\u202fPM', 'thumbnail': 'https://ssl.gstatic.com/onebox/weather/64/partly_cloudy.png', 'weather': 'Partly cloudy', 'temperature': '89', 'precipitation': '5%', 'humidity': '60%', 'wind': '10 mph'}, {'time': 'Saturday 7:00\\u202fPM', 'thumbnail': 'https://ssl.gstatic.com/onebox/weather/64/partly_cloudy.png', 'weather': 'Partly cloudy', 'temperature': '87', 'precipitation': '5%', 'humidity': '65%', 'wind': '10 mph'}, {'time': 'Saturday 8:00\\u202fPM', 'thumbnail': 'https://ssl.gstatic.com/onebox/weather/64/partly_cloudy.png', 'weather': 'Partly cloudy', 'temperature': '85', 'precipitation': '5%', 'humidity': '71%', 'wind': '10 mph'}, {'time': 'Saturday 9:00\\u202fPM', 'thumbnail': 'https://ssl.gstatic.com/onebox/weather/64/partly_cloudy.png', 'weather': 'Partly cloudy', 'temperature': '84', 'precipitation': '5%', 'humidity': '73%', 'wind': '10 mph'}, {'time': 'Saturday 10:00\\u202fPM', 'thumbnail': 'https://ssl.gstatic.com/onebox/weather/64/partly_cloudy.png', 'weather': 'Partly cloudy', 'temperature': '83', 'precipitation': '0%', 'humidity': '73%', 'wind': '10 mph'}, {'time': 'Saturday 11:00\\u202fPM', 'thumbnail': 'https://ssl.gstatic.com/onebox/weather/64/sunny_s_cloudy.png', 'weather': 'Clear with periodic clouds', 'temperature': '81', 'precipitation': '0%', 'humidity': '79%', 'wind': '10 mph'}, {'time': 'Sunday 12:00\\u202fAM', 'thumbnail': 'https://ssl.gstatic.com/onebox/weather/64/sunny_s_cloudy.png', 'weather': 'Clear with periodic clouds', 'temperature': '81', 'precipitation': '0%', 'humidity': '80%', 'wind': '10 mph'}, {'time': 'Sunday 1:00\\u202fAM', 'thumbnail': 'https://ssl.gstatic.com/onebox/weather/64/sunny_s_cloudy.png', 'weather': 'Clear with periodic clouds', 'temperature': '80', 'precipitation': '0%', 'humidity': '84%', 'wind': '10 mph'}, {'time': 'Sunday 2:00\\u202fAM', 'thumbnail': 'https://ssl.gstatic.com/onebox/weather/64/partly_cloudy.png', 'weather': 'Partly cloudy', 'temperature': '80', 'precipitation': '0%', 'humidity': '85%', 'wind': '9 mph'}, {'time': 'Sunday 3:00\\u202fAM', 'thumbnail': 'https://ssl.gstatic.com/onebox/weather/64/sunny_s_cloudy.png', 'weather': 'Clear with periodic clouds', 'temperature': '79', 'precipitation': '0%', 'humidity': '86%', 'wind': '9 mph'}, {'time': 'Sunday 4:00\\u202fAM', 'thumbnail': 'https://ssl.gstatic.com/onebox/weather/64/sunny_s_cloudy.png', 'weather': 'Clear with periodic clouds', 'temperature': '79', 'precipitation': '0%', 'humidity': '88%', 'wind': '9 mph'}, {'time': 'Sunday 5:00\\u202fAM', 'thumbnail': 'https://ssl.gstatic.com/onebox/weather/64/partly_cloudy.png', 'weather': 'Partly cloudy', 'temperature': '78', 'precipitation': '0%', 'humidity': '88%', 'wind': '8 mph'}, {'time': 'Sunday 6:00\\u202fAM', 'thumbnail': 'https://ssl.gstatic.com/onebox/weather/64/partly_cloudy.png', 'weather': 'Partly cloudy', 'temperature': '78', 'precipitation': '0%', 'humidity': '89%', 'wind': '7 mph'}, {'time': 'Sunday 7:00\\u202fAM', 'thumbnail': 'https://ssl.gstatic.com/onebox/weather/64/partly_cloudy.png', 'weather': 'Partly cloudy', 'temperature': '79', 'precipitation': '0%', 'humidity': '87%', 'wind': '6 mph'}, {'time': 'Sunday 8:00\\u202fAM', 'thumbnail': 'https://ssl.gstatic.com/onebox/weather/64/partly_cloudy.png', 'weather': 'Partly cloudy', 'temperature': '81', 'precipitation': '0%', 'humidity': '82%', 'wind': '6 mph'}, {'time': 'Sunday 9:00\\u202fAM', 'thumbnail': 'https://ssl.gstatic.com/onebox/weather/64/partly_cloudy.png', 'weather': 'Partly cloudy', 'temperature': '84', 'precipitation': '0%', 'humidity': '76%', 'wind': '5 mph'}, {'time': 'Sunday 10:00\\u202fAM', 'thumbnail': 'https://ssl.gstatic.com/onebox/weather/64/partly_cloudy.png', 'weather': 'Partly cloudy', 'temperature': '87', 'precipitation': '0%', 'humidity': '71%', 'wind': '5 mph'}, {'time': 'Sunday 11:00\\u202fAM', 'thumbnail': 'https://ssl.gstatic.com/onebox/weather/64/partly_cloudy.png', 'weather': 'Partly cloudy', 'temperature': '91', 'precipitation': '5%', 'humidity': '60%', 'wind': '5 mph'}, {'time': 'Sunday 12:00\\u202fPM', 'thumbnail': 'https://ssl.gstatic.com/onebox/weather/64/partly_cloudy.png', 'weather': 'Partly cloudy', 'temperature': '94', 'precipitation': '5%', 'humidity': '55%', 'wind': '6 mph'}, {'time': 'Sunday 1:00\\u202fPM', 'thumbnail': 'https://ssl.gstatic.com/onebox/weather/64/partly_cloudy.png', 'weather': 'Partly cloudy', 'temperature': '94', 'precipitation': '5%', 'humidity': '52%', 'wind': '7 mph'}, {'time': 'Sunday 2:00\\u202fPM', 'thumbnail': 'https://ssl.gstatic.com/onebox/weather/64/partly_cloudy.png', 'weather': 'Mostly cloudy', 'temperature': '94', 'precipitation': '10%', 'humidity': '52%', 'wind': '9 mph'}, {'time': 'Sunday 3:00\\u202fPM', 'thumbnail': 'https://ssl.gstatic.com/onebox/weather/64/partly_cloudy.png', 'weather': 'Mostly cloudy', 'temperature': '93', 'precipitation': '10%', 'humidity': '56%', 'wind': '9 mph'}, {'time': 'Sunday 4:00\\u202fPM', 'thumbnail': 'https://ssl.gstatic.com/onebox/weather/64/rain_light.png', 'weather': 'Light rain', 'temperature': '91', 'precipitation': '20%', 'humidity': '60%', 'wind': '10 mph'}, {'time': 'Sunday 5:00\\u202fPM', 'thumbnail': 'https://ssl.gstatic.com/onebox/weather/64/rain_s_cloudy.png', 'weather': 'Scattered thunderstorms', 'temperature': '89', 'precipitation': '35%', 'humidity': '63%', 'wind': '10 mph'}, {'time': 'Sunday 6:00\\u202fPM', 'thumbnail': 'https://ssl.gstatic.com/onebox/weather/64/rain_light.png', 'weather': 'Light rain', 'temperature': '88', 'precipitation': '25%', 'humidity': '65%', 'wind': '10 mph'}, {'time': 'Sunday 7:00\\u202fPM', 'thumbnail': 'https://ssl.gstatic.com/onebox/weather/64/rain.png', 'weather': 'Rain', 'temperature': '85', 'precipitation': '50%', 'humidity': '72%', 'wind': '10 mph'}, {'time': 'Sunday 8:00\\u202fPM', 'thumbnail': 'https://ssl.gstatic.com/onebox/weather/64/rain.png', 'weather': 'Rain', 'temperature': '84', 'precipitation': '55%', 'humidity': '77%', 'wind': '10 mph'}, {'time': 'Sunday 9:00\\u202fPM', 'thumbnail': 'https://ssl.gstatic.com/onebox/weather/64/partly_cloudy.png', 'weather': 'Partly cloudy', 'temperature': '83', 'precipitation': '15%', 'humidity': '77%', 'wind': '10 mph'}, {'time': 'Sunday 10:00\\u202fPM', 'thumbnail': 'https://ssl.gstatic.com/onebox/weather/64/partly_cloudy.png', 'weather': 'Partly cloudy', 'temperature': '82', 'precipitation': '15%', 'humidity': '75%', 'wind': '10 mph'}, {'time': 'Sunday 11:00\\u202fPM', 'thumbnail': 'https://ssl.gstatic.com/onebox/weather/64/sunny_s_cloudy.png', 'weather': 'Clear with periodic clouds', 'temperature': '81', 'precipitation': '0%', 'humidity': '80%', 'wind': '11 mph'}, {'time': 'Monday 12:00\\u202fAM', 'thumbnail': 'https://ssl.gstatic.com/onebox/weather/64/sunny.png', 'weather': 'Clear', 'temperature': '80', 'precipitation': '15%', 'humidity': '81%', 'wind': '10 mph'}, {'time': 'Monday 1:00\\u202fAM', 'thumbnail': 'https://ssl.gstatic.com/onebox/weather/64/sunny.png', 'weather': 'Clear', 'temperature': '80', 'precipitation': '15%', 'humidity': '85%', 'wind': '10 mph'}, {'time': 'Monday 2:00\\u202fAM', 'thumbnail': 'https://ssl.gstatic.com/onebox/weather/64/sunny.png', 'weather': 'Clear', 'temperature': '79', 'precipitation': '15%', 'humidity': '86%', 'wind': '10 mph'}, {'time': 'Monday 3:00\\u202fAM', 'thumbnail': 'https://ssl.gstatic.com/onebox/weather/64/sunny.png', 'weather': 'Clear', 'temperature': '79', 'precipitation': '15%', 'humidity': '87%', 'wind': '9 mph'}, {'time': 'Monday 4:00\\u202fAM', 'thumbnail': 'https://ssl.gstatic.com/onebox/weather/64/sunny.png', 'weather': 'Clear', 'temperature': '79', 'precipitation': '0%', 'humidity': '87%', 'wind': '9 mph'}, {'time': 'Monday 5:00\\u202fAM', 'thumbnail': 'https://ssl.gstatic.com/onebox/weather/64/sunny.png', 'weather': 'Clear', 'temperature': '78', 'precipitation': '0%', 'humidity': '88%', 'wind': '9 mph'}, {'time': 'Monday 6:00\\u202fAM', 'thumbnail': 'https://ssl.gstatic.com/onebox/weather/64/sunny.png', 'weather': 'Sunny', 'temperature': '79', 'precipitation': '0%', 'humidity': '88%', 'wind': '9 mph'}, {'time': 'Monday 7:00\\u202fAM', 'thumbnail': 'https://ssl.gstatic.com/onebox/weather/64/sunny.png', 'weather': 'Sunny', 'temperature': '80', 'precipitation': '0%', 'humidity': '84%', 'wind': '8 mph'}, {'time': 'Monday 8:00\\u202fAM', 'thumbnail': 'https://ssl.gstatic.com/onebox/weather/64/sunny.png', 'weather': 'Sunny', 'temperature': '82', 'precipitation': '0%', 'humidity': '80%', 'wind': '8 mph'}, {'time': 'Monday 9:00\\u202fAM', 'thumbnail': 'https://ssl.gstatic.com/onebox/weather/64/sunny.png', 'weather': 'Sunny', 'temperature': '86', 'precipitation': '0%', 'humidity': '72%', 'wind': '8 mph'}, {'time': 'Monday 10:00\\u202fAM', 'thumbnail': 'https://ssl.gstatic.com/onebox/weather/64/sunny.png', 'weather': 'Sunny', 'temperature': '89', 'precipitation': '0%', 'humidity': '65%', 'wind': '8 mph'}, {'time': 'Monday 11:00\\u202fAM', 'thumbnail': 'https://ssl.gstatic.com/onebox/weather/64/sunny.png', 'weather': 'Sunny', 'temperature': '92', 'precipitation': '0%', 'humidity': '58%', 'wind': '9 mph'}, {'time': 'Monday 12:00\\u202fPM', 'thumbnail': 'https://ssl.gstatic.com/onebox/weather/64/sunny.png', 'weather': 'Sunny', 'temperature': '94', 'precipitation': '0%', 'humidity': '54%', 'wind': '9 mph'}, {'time': 'Monday 1:00\\u202fPM', 'thumbnail': 'https://ssl.gstatic.com/onebox/weather/64/sunny.png', 'weather': 'Sunny', 'temperature': '96', 'precipitation': '0%', 'humidity': '50%', 'wind': '10 mph'}, {'time': 'Monday 2:00\\u202fPM', 'thumbnail': 'https://ssl.gstatic.com/onebox/weather/64/sunny.png', 'weather': 'Sunny', 'temperature': '96', 'precipitation': '0%', 'humidity': '50%', 'wind': '11 mph'}, {'time': 'Monday 3:00\\u202fPM', 'thumbnail': 'https://ssl.gstatic.com/onebox/weather/64/partly_cloudy.png', 'weather': 'Mostly sunny', 'temperature': '95', 'precipitation': '0%', 'humidity': '51%', 'wind': '11 mph'}, {'time': 'Monday 4:00\\u202fPM', 'thumbnail': 'https://ssl.gstatic.com/onebox/weather/64/partly_cloudy.png', 'weather': 'Mostly sunny', 'temperature': '93', 'precipitation': '0%', 'humidity': '54%', 'wind': '12 mph'}, {'time': 'Monday 5:00\\u202fPM', 'thumbnail': 'https://ssl.gstatic.com/onebox/weather/64/partly_cloudy.png', 'weather': 'Mostly sunny', 'temperature': '90', 'precipitation': '0%', 'humidity': '59%', 'wind': '12 mph'}, {'time': 'Monday 6:00\\u202fPM', 'thumbnail': 'https://ssl.gstatic.com/onebox/weather/64/partly_cloudy.png', 'weather': 'Mostly sunny', 'temperature': '87', 'precipitation': '0%', 'humidity': '65%', 'wind': '11 mph'}, {'time': 'Monday 7:00\\u202fPM', 'thumbnail': 'https://ssl.gstatic.com/onebox/weather/64/sunny_s_cloudy.png', 'weather': 'Clear with periodic clouds', 'temperature': '85', 'precipitation': '0%', 'humidity': '71%', 'wind': '11 mph'}, {'time': 'Monday 8:00\\u202fPM', 'thumbnail': 'https://ssl.gstatic.com/onebox/weather/64/sunny.png', 'weather': 'Clear', 'temperature': '83', 'precipitation': '0%', 'humidity': '74%', 'wind': '11 mph'}, {'time': 'Monday 9:00\\u202fPM', 'thumbnail': 'https://ssl.gstatic.com/onebox/weather/64/sunny.png', 'weather': 'Clear', 'temperature': '82', 'precipitation': '0%', 'humidity': '77%', 'wind': '12 mph'}, {'time': 'Monday 10:00\\u202fPM', 'thumbnail': 'https://ssl.gstatic.com/onebox/weather/64/sunny.png', 'weather': 'Clear', 'temperature': '82', 'precipitation': '0%', 'humidity': '78%', 'wind': '12 mph'}, {'time': 'Monday 11:00\\u202fPM', 'thumbnail': 'https://ssl.gstatic.com/onebox/weather/64/sunny.png', 'weather': 'Clear', 'temperature': '81', 'precipitation': '0%', 'humidity': '80%', 'wind': '12 mph'}, {'time': 'Tuesday 12:00\\u202fAM', 'thumbnail': 'https://ssl.gstatic.com/onebox/weather/64/sunny.png', 'weather': 'Clear', 'temperature': '80', 'precipitation': '0%', 'humidity': '81%', 'wind': '11 mph'}, {'time': 'Tuesday 1:00\\u202fAM', 'thumbnail': 'https://ssl.gstatic.com/onebox/weather/64/sunny.png', 'weather': 'Clear', 'temperature': '80', 'precipitation': '0%', 'humidity': '83%', 'wind': '11 mph'}, {'time': 'Tuesday 2:00\\u202fAM', 'thumbnail': 'https://ssl.gstatic.com/onebox/weather/64/sunny.png', 'weather': 'Clear', 'temperature': '79', 'precipitation': '0%', 'humidity': '85%', 'wind': '10 mph'}, {'time': 'Tuesday 3:00\\u202fAM', 'thumbnail': 'https://ssl.gstatic.com/onebox/weather/64/sunny.png', 'weather': 'Clear', 'temperature': '79', 'precipitation': '0%', 'humidity': '88%', 'wind': '8 mph'}, {'time': 'Tuesday 4:00\\u202fAM', 'thumbnail': 'https://ssl.gstatic.com/onebox/weather/64/sunny.png', 'weather': 'Clear', 'temperature': '78', 'precipitation': '0%', 'humidity': '89%', 'wind': '7 mph'}, {'time': 'Tuesday 5:00\\u202fAM', 'thumbnail': 'https://ssl.gstatic.com/onebox/weather/64/sunny.png', 'weather': 'Clear', 'temperature': '78', 'precipitation': '0%', 'humidity': '90%', 'wind': '6 mph'}, {'time': 'Tuesday 6:00\\u202fAM', 'thumbnail': 'https://ssl.gstatic.com/onebox/weather/64/sunny.png', 'weather': 'Sunny', 'temperature': '79', 'precipitation': '0%', 'humidity': '89%', 'wind': '5 mph'}, {'time': 'Tuesday 7:00\\u202fAM', 'thumbnail': 'https://ssl.gstatic.com/onebox/weather/64/sunny.png', 'weather': 'Sunny', 'temperature': '80', 'precipitation': '0%', 'humidity': '87%', 'wind': '4 mph'}, {'time': 'Tuesday 8:00\\u202fAM', 'thumbnail': 'https://ssl.gstatic.com/onebox/weather/64/sunny.png', 'weather': 'Sunny', 'temperature': '82', 'precipitation': '0%', 'humidity': '82%', 'wind': '3 mph'}, {'time': 'Tuesday 9:00\\u202fAM', 'thumbnail': 'https://ssl.gstatic.com/onebox/weather/64/sunny.png', 'weather': 'Sunny', 'temperature': '84', 'precipitation': '0%', 'humidity': '76%', 'wind': '3 mph'}, {'time': 'Tuesday 10:00\\u202fAM', 'thumbnail': 'https://ssl.gstatic.com/onebox/weather/64/sunny.png', 'weather': 'Sunny', 'temperature': '87', 'precipitation': '0%', 'humidity': '69%', 'wind': '2 mph'}, {'time': 'Tuesday 11:00\\u202fAM', 'thumbnail': 'https://ssl.gstatic.com/onebox/weather/64/sunny.png', 'weather': 'Sunny', 'temperature': '91', 'precipitation': '0%', 'humidity': '60%', 'wind': '2 mph'}, {'time': 'Tuesday 12:00\\u202fPM', 'thumbnail': 'https://ssl.gstatic.com/onebox/weather/64/partly_cloudy.png', 'weather': 'Mostly sunny', 'temperature': '94', 'precipitation': '0%', 'humidity': '53%', 'wind': '3 mph'}, {'time': 'Tuesday 1:00\\u202fPM', 'thumbnail': 'https://ssl.gstatic.com/onebox/weather/64/partly_cloudy.png', 'weather': 'Mostly sunny', 'temperature': '96', 'precipitation': '15%', 'humidity': '48%', 'wind': '4 mph'}, {'time': 'Tuesday 2:00\\u202fPM', 'thumbnail': 'https://ssl.gstatic.com/onebox/weather/64/partly_cloudy.png', 'weather': 'Mostly sunny', 'temperature': '97', 'precipitation': '15%', 'humidity': '48%', 'wind': '5 mph'}, {'time': 'Tuesday 3:00\\u202fPM', 'thumbnail': 'https://ssl.gstatic.com/onebox/weather/64/partly_cloudy.png', 'weather': 'Mostly sunny', 'temperature': '96', 'precipitation': '15%', 'humidity': '51%', 'wind': '7 mph'}, {'time': 'Tuesday 4:00\\u202fPM', 'thumbnail': 'https://ssl.gstatic.com/onebox/weather/64/partly_cloudy.png', 'weather': 'Mostly sunny', 'temperature': '94', 'precipitation': '15%', 'humidity': '55%', 'wind': '8 mph'}, {'time': 'Tuesday 5:00\\u202fPM', 'thumbnail': 'https://ssl.gstatic.com/onebox/weather/64/partly_cloudy.png', 'weather': 'Mostly sunny', 'temperature': '92', 'precipitation': '15%', 'humidity': '59%', 'wind': '8 mph'}, {'time': 'Tuesday 6:00\\u202fPM', 'thumbnail': 'https://ssl.gstatic.com/onebox/weather/64/partly_cloudy.png', 'weather': 'Mostly sunny', 'temperature': '89', 'precipitation': '0%', 'humidity': '64%', 'wind': '9 mph'}, {'time': 'Tuesday 7:00\\u202fPM', 'thumbnail': 'https://ssl.gstatic.com/onebox/weather/64/sunny.png', 'weather': 'Clear', 'temperature': '87', 'precipitation': '0%', 'humidity': '68%', 'wind': '9 mph'}, {'time': 'Tuesday 8:00\\u202fPM', 'thumbnail': 'https://ssl.gstatic.com/onebox/weather/64/sunny.png', 'weather': 'Clear', 'temperature': '85', 'precipitation': '0%', 'humidity': '72%', 'wind': '9 mph'}, {'time': 'Tuesday 9:00\\u202fPM', 'thumbnail': 'https://ssl.gstatic.com/onebox/weather/64/sunny.png', 'weather': 'Clear', 'temperature': '84', 'precipitation': '0%', 'humidity': '73%', 'wind': '10 mph'}, {'time': 'Tuesday 10:00\\u202fPM', 'thumbnail': 'https://ssl.gstatic.com/onebox/weather/64/sunny.png', 'weather': 'Clear', 'temperature': '83', 'precipitation': '0%', 'humidity': '75%', 'wind': '10 mph'}, {'time': 'Tuesday 11:00\\u202fPM', 'thumbnail': 'https://ssl.gstatic.com/onebox/weather/64/sunny.png', 'weather': 'Clear', 'temperature': '82', 'precipitation': '0%', 'humidity': '78%', 'wind': '10 mph'}, {'time': 'Wednesday 12:00\\u202fAM', 'thumbnail': 'https://ssl.gstatic.com/onebox/weather/64/sunny.png', 'weather': 'Clear', 'temperature': '81', 'precipitation': '0%', 'humidity': '81%', 'wind': '9 mph'}, {'time': 'Wednesday 1:00\\u202fAM', 'thumbnail': 'https://ssl.gstatic.com/onebox/weather/64/sunny.png', 'weather': 'Clear', 'temperature': '80', 'precipitation': '0%', 'humidity': '85%', 'wind': '9 mph'}, {'time': 'Wednesday 2:00\\u202fAM', 'thumbnail': 'https://ssl.gstatic.com/onebox/weather/64/sunny.png', 'weather': 'Clear', 'temperature': '79', 'precipitation': '0%', 'humidity': '87%', 'wind': '8 mph'}, {'time': 'Wednesday 3:00\\u202fAM', 'thumbnail': 'https://ssl.gstatic.com/onebox/weather/64/sunny_s_cloudy.png', 'weather': 'Clear with periodic clouds', 'temperature': '79', 'precipitation': '0%', 'humidity': '88%', 'wind': '7 mph'}, {'time': 'Wednesday 4:00\\u202fAM', 'thumbnail': 'https://ssl.gstatic.com/onebox/weather/64/sunny_s_cloudy.png', 'weather': 'Clear with periodic clouds', 'temperature': '78', 'precipitation': '0%', 'humidity': '90%', 'wind': '6 mph'}, {'time': 'Wednesday 5:00\\u202fAM', 'thumbnail': 'https://ssl.gstatic.com/onebox/weather/64/sunny_s_cloudy.png', 'weather': 'Clear with periodic clouds', 'temperature': '78', 'precipitation': '0%', 'humidity': '90%', 'wind': '5 mph'}, {'time': 'Wednesday 6:00\\u202fAM', 'thumbnail': 'https://ssl.gstatic.com/onebox/weather/64/partly_cloudy.png', 'weather': 'Mostly sunny', 'temperature': '78', 'precipitation': '0%', 'humidity': '90%', 'wind': '4 mph'}, {'time': 'Wednesday 7:00\\u202fAM', 'thumbnail': 'https://ssl.gstatic.com/onebox/weather/64/partly_cloudy.png', 'weather': 'Mostly sunny', 'temperature': '79', 'precipitation': '0%', 'humidity': '88%', 'wind': '4 mph'}, {'time': 'Wednesday 8:00\\u202fAM', 'thumbnail': 'https://ssl.gstatic.com/onebox/weather/64/partly_cloudy.png', 'weather': 'Mostly sunny', 'temperature': '81', 'precipitation': '0%', 'humidity': '83%', 'wind': '4 mph'}, {'time': 'Wednesday 9:00\\u202fAM', 'thumbnail': 'https://ssl.gstatic.com/onebox/weather/64/partly_cloudy.png', 'weather': 'Mostly sunny', 'temperature': '83', 'precipitation': '0%', 'humidity': '77%', 'wind': '3 mph'}, {'time': 'Wednesday 10:00\\u202fAM', 'thumbnail': 'https://ssl.gstatic.com/onebox/weather/64/partly_cloudy.png', 'weather': 'Partly cloudy', 'temperature': '86', 'precipitation': '0%', 'humidity': '71%', 'wind': '3 mph'}, {'time': 'Wednesday 11:00\\u202fAM', 'thumbnail': 'https://ssl.gstatic.com/onebox/weather/64/partly_cloudy.png', 'weather': 'Partly cloudy', 'temperature': '88', 'precipitation': '0%', 'humidity': '66%', 'wind': '5 mph'}, {'time': 'Wednesday 12:00\\u202fPM', 'thumbnail': 'https://ssl.gstatic.com/onebox/weather/64/partly_cloudy.png', 'weather': 'Mostly sunny', 'temperature': '90', 'precipitation': '0%', 'humidity': '62%', 'wind': '5 mph'}, {'time': 'Wednesday 1:00\\u202fPM', 'thumbnail': 'https://ssl.gstatic.com/onebox/weather/64/partly_cloudy.png', 'weather': 'Mostly sunny', 'temperature': '91', 'precipitation': '0%', 'humidity': '60%', 'wind': '6 mph'}, {'time': 'Wednesday 2:00\\u202fPM', 'thumbnail': 'https://ssl.gstatic.com/onebox/weather/64/partly_cloudy.png', 'weather': 'Partly cloudy', 'temperature': '91', 'precipitation': '0%', 'humidity': '60%', 'wind': '8 mph'}, {'time': 'Wednesday 3:00\\u202fPM', 'thumbnail': 'https://ssl.gstatic.com/onebox/weather/64/partly_cloudy.png', 'weather': 'Partly cloudy', 'temperature': '90', 'precipitation': '0%', 'humidity': '62%', 'wind': '9 mph'}, {'time': 'Wednesday 4:00\\u202fPM', 'thumbnail': 'https://ssl.gstatic.com/onebox/weather/64/partly_cloudy.png', 'weather': 'Partly cloudy', 'temperature': '89', 'precipitation': '5%', 'humidity': '65%', 'wind': '11 mph'}, {'time': 'Wednesday 5:00\\u202fPM', 'thumbnail': 'https://ssl.gstatic.com/onebox/weather/64/partly_cloudy.png', 'weather': 'Partly cloudy', 'temperature': '87', 'precipitation': '15%', 'humidity': '68%', 'wind': '11 mph'}, {'time': 'Wednesday 6:00\\u202fPM', 'thumbnail': 'https://ssl.gstatic.com/onebox/weather/64/partly_cloudy.png', 'weather': 'Partly cloudy', 'temperature': '85', 'precipitation': '15%', 'humidity': '72%', 'wind': '10 mph'}, {'time': 'Wednesday 7:00\\u202fPM', 'thumbnail': 'https://ssl.gstatic.com/onebox/weather/64/partly_cloudy.png', 'weather': 'Partly cloudy', 'temperature': '83', 'precipitation': '15%', 'humidity': '74%', 'wind': '10 mph'}, {'time': 'Wednesday 8:00\\u202fPM', 'thumbnail': 'https://ssl.gstatic.com/onebox/weather/64/partly_cloudy.png', 'weather': 'Partly cloudy', 'temperature': '82', 'precipitation': '0%', 'humidity': '76%', 'wind': '10 mph'}, {'time': 'Wednesday 9:00\\u202fPM', 'thumbnail': 'https://ssl.gstatic.com/onebox/weather/64/partly_cloudy.png', 'weather': 'Partly cloudy', 'temperature': '81', 'precipitation': '0%', 'humidity': '78%', 'wind': '9 mph'}, {'time': 'Wednesday 10:00\\u202fPM', 'thumbnail': 'https://ssl.gstatic.com/onebox/weather/64/partly_cloudy.png', 'weather': 'Partly cloudy', 'temperature': '80', 'precipitation': '0%', 'humidity': '80%', 'wind': '9 mph'}, {'time': 'Wednesday 11:00\\u202fPM', 'thumbnail': 'https://ssl.gstatic.com/onebox/weather/64/partly_cloudy.png', 'weather': 'Partly cloudy', 'temperature': '79', 'precipitation': '15%', 'humidity': '83%', 'wind': '8 mph'}, {'time': 'Thursday 12:00\\u202fAM', 'thumbnail': 'https://ssl.gstatic.com/onebox/weather/64/partly_cloudy.png', 'weather': 'Partly cloudy', 'temperature': '78', 'precipitation': '15%', 'humidity': '87%', 'wind': '8 mph'}, {'time': 'Thursday 1:00\\u202fAM', 'thumbnail': 'https://ssl.gstatic.com/onebox/weather/64/partly_cloudy.png', 'weather': 'Partly cloudy', 'temperature': '78', 'precipitation': '15%', 'humidity': '90%', 'wind': '7 mph'}, {'time': 'Thursday 2:00\\u202fAM', 'thumbnail': 'https://ssl.gstatic.com/onebox/weather/64/partly_cloudy.png', 'weather': 'Partly cloudy', 'temperature': '77', 'precipitation': '0%', 'humidity': '92%', 'wind': '7 mph'}, {'time': 'Thursday 3:00\\u202fAM', 'thumbnail': 'https://ssl.gstatic.com/onebox/weather/64/partly_cloudy.png', 'weather': 'Partly cloudy', 'temperature': '77', 'precipitation': '0%', 'humidity': '92%', 'wind': '6 mph'}, {'time': 'Thursday 4:00\\u202fAM', 'thumbnail': 'https://ssl.gstatic.com/onebox/weather/64/partly_cloudy.png', 'weather': 'Partly cloudy', 'temperature': '77', 'precipitation': '5%', 'humidity': '92%', 'wind': '6 mph'}, {'time': 'Thursday 5:00\\u202fAM', 'thumbnail': 'https://ssl.gstatic.com/onebox/weather/64/partly_cloudy.png', 'weather': 'Partly cloudy', 'temperature': '77', 'precipitation': '5%', 'humidity': '92%', 'wind': '6 mph'}, {'time': 'Thursday 6:00\\u202fAM', 'thumbnail': 'https://ssl.gstatic.com/onebox/weather/64/partly_cloudy.png', 'weather': 'Partly cloudy', 'temperature': '77', 'precipitation': '5%', 'humidity': '92%', 'wind': '5 mph'}, {'time': 'Thursday 7:00\\u202fAM', 'thumbnail': 'https://ssl.gstatic.com/onebox/weather/64/partly_cloudy.png', 'weather': 'Partly cloudy', 'temperature': '78', 'precipitation': '5%', 'humidity': '89%', 'wind': '5 mph'}, {'time': 'Thursday 8:00\\u202fAM', 'thumbnail': 'https://ssl.gstatic.com/onebox/weather/64/partly_cloudy.png', 'weather': 'Partly cloudy', 'temperature': '79', 'precipitation': '5%', 'humidity': '85%', 'wind': '7 mph'}, {'time': 'Thursday 9:00\\u202fAM', 'thumbnail': 'https://ssl.gstatic.com/onebox/weather/64/partly_cloudy.png', 'weather': 'Partly cloudy', 'temperature': '81', 'precipitation': '5%', 'humidity': '79%', 'wind': '7 mph'}, {'time': 'Thursday 10:00\\u202fAM', 'thumbnail': 'https://ssl.gstatic.com/onebox/weather/64/partly_cloudy.png', 'weather': 'Mostly cloudy', 'temperature': '83', 'precipitation': '10%', 'humidity': '74%', 'wind': '8 mph'}, {'time': 'Thursday 11:00\\u202fAM', 'thumbnail': 'https://ssl.gstatic.com/onebox/weather/64/rain_light.png', 'weather': 'Light rain', 'temperature': '85', 'precipitation': '20%', 'humidity': '70%', 'wind': '8 mph'}, {'time': 'Thursday 12:00\\u202fPM', 'thumbnail': 'https://ssl.gstatic.com/onebox/weather/64/rain_light.png', 'weather': 'Light rain', 'temperature': '86', 'precipitation': '20%', 'humidity': '67%', 'wind': '8 mph'}, {'time': 'Thursday 1:00\\u202fPM', 'thumbnail': 'https://ssl.gstatic.com/onebox/weather/64/rain_light.png', 'weather': 'Light rain', 'temperature': '86', 'precipitation': '20%', 'humidity': '66%', 'wind': '8 mph'}, {'time': 'Thursday 2:00\\u202fPM', 'thumbnail': 'https://ssl.gstatic.com/onebox/weather/64/partly_cloudy.png', 'weather': 'Mostly cloudy', 'temperature': '86', 'precipitation': '10%', 'humidity': '66%', 'wind': '8 mph'}, {'time': 'Thursday 3:00\\u202fPM', 'thumbnail': 'https://ssl.gstatic.com/onebox/weather/64/partly_cloudy.png', 'weather': 'Mostly cloudy', 'temperature': '85', 'precipitation': '10%', 'humidity': '67%', 'wind': '8 mph'}, {'time': 'Thursday 4:00\\u202fPM', 'thumbnail': 'https://ssl.gstatic.com/onebox/weather/64/rain_light.png', 'weather': 'Light rain', 'temperature': '83', 'precipitation': '20%', 'humidity': '69%', 'wind': '8 mph'}, {'time': 'Thursday 5:00\\u202fPM', 'thumbnail': 'https://ssl.gstatic.com/onebox/weather/64/rain_light.png', 'weather': 'Light rain', 'temperature': '83', 'precipitation': '25%', 'humidity': '70%', 'wind': '7 mph'}, {'time': 'Thursday 6:00\\u202fPM', 'thumbnail': 'https://ssl.gstatic.com/onebox/weather/64/rain_light.png', 'weather': 'Light rain', 'temperature': '82', 'precipitation': '25%', 'humidity': '71%', 'wind': '5 mph'}, {'time': 'Thursday 7:00\\u202fPM', 'thumbnail': 'https://ssl.gstatic.com/onebox/weather/64/partly_cloudy.png', 'weather': 'Mostly cloudy', 'temperature': '82', 'precipitation': '10%', 'humidity': '73%', 'wind': '4 mph'}, {'time': 'Thursday 8:00\\u202fPM', 'thumbnail': 'https://ssl.gstatic.com/onebox/weather/64/rain_light.png', 'weather': 'Light rain', 'temperature': '81', 'precipitation': '35%', 'humidity': '74%', 'wind': '4 mph'}, {'time': 'Thursday 9:00\\u202fPM', 'thumbnail': 'https://ssl.gstatic.com/onebox/weather/64/rain_light.png', 'weather': 'Light rain', 'temperature': '80', 'precipitation': '35%', 'humidity': '77%', 'wind': '5 mph'}, {'time': 'Thursday 10:00\\u202fPM', 'thumbnail': 'https://ssl.gstatic.com/onebox/weather/64/rain_light.png', 'weather': 'Light rain', 'temperature': '79', 'precipitation': '35%', 'humidity': '79%', 'wind': '5 mph'}, {'time': 'Thursday 11:00\\u202fPM', 'thumbnail': 'https://ssl.gstatic.com/onebox/weather/64/rain_light.png', 'weather': 'Light rain', 'temperature': '78', 'precipitation': '35%', 'humidity': '83%', 'wind': '5 mph'}, {'time': 'Friday 12:00\\u202fAM', 'thumbnail': 'https://ssl.gstatic.com/onebox/weather/64/rain_light.png', 'weather': 'Light rain', 'temperature': '77', 'precipitation': '35%', 'humidity': '86%', 'wind': '6 mph'}, {'time': 'Friday 1:00\\u202fAM', 'thumbnail': 'https://ssl.gstatic.com/onebox/weather/64/rain_light.png', 'weather': 'Light rain', 'temperature': '76', 'precipitation': '40%', 'humidity': '88%', 'wind': '6 mph'}, {'time': 'Friday 2:00\\u202fAM', 'thumbnail': 'https://ssl.gstatic.com/onebox/weather/64/rain_light.png', 'weather': 'Rain showers', 'temperature': '76', 'precipitation': '45%', 'humidity': '89%', 'wind': '5 mph'}, {'time': 'Friday 3:00\\u202fAM', 'thumbnail': 'https://ssl.gstatic.com/onebox/weather/64/rain_light.png', 'weather': 'Rain showers', 'temperature': '75', 'precipitation': '50%', 'humidity': '89%', 'wind': '5 mph'}, {'time': 'Friday 4:00\\u202fAM', 'thumbnail': 'https://ssl.gstatic.com/onebox/weather/64/rain_light.png', 'weather': 'Rain showers', 'temperature': '75', 'precipitation': '50%', 'humidity': '90%', 'wind': '4 mph'}, {'time': 'Friday 5:00\\u202fAM', 'thumbnail': 'https://ssl.gstatic.com/onebox/weather/64/rain_light.png', 'weather': 'Rain showers', 'temperature': '75', 'precipitation': '50%', 'humidity': '91%', 'wind': '4 mph'}, {'time': 'Friday 6:00\\u202fAM', 'thumbnail': 'https://ssl.gstatic.com/onebox/weather/64/rain_light.png', 'weather': 'Rain showers', 'temperature': '75', 'precipitation': '50%', 'humidity': '91%', 'wind': '3 mph'}, {'time': 'Friday 7:00\\u202fAM', 'thumbnail': 'https://ssl.gstatic.com/onebox/weather/64/rain_light.png', 'weather': 'Rain showers', 'temperature': '75', 'precipitation': '45%', 'humidity': '91%', 'wind': '3 mph'}, {'time': 'Friday 8:00\\u202fAM', 'thumbnail': 'https://ssl.gstatic.com/onebox/weather/64/rain_light.png', 'weather': 'Light rain', 'temperature': '75', 'precipitation': '35%', 'humidity': '89%', 'wind': '3 mph'}, {'time': 'Friday 9:00\\u202fAM', 'thumbnail': 'https://ssl.gstatic.com/onebox/weather/64/rain_light.png', 'weather': 'Light rain', 'temperature': '76', 'precipitation': '25%', 'humidity': '83%', 'wind': '3 mph'}, {'time': 'Friday 10:00\\u202fAM', 'thumbnail': 'https://ssl.gstatic.com/onebox/weather/64/rain_light.png', 'weather': 'Light rain', 'temperature': '77', 'precipitation': '25%', 'humidity': '79%', 'wind': '3 mph'}, {'time': 'Friday 11:00\\u202fAM', 'thumbnail': 'https://ssl.gstatic.com/onebox/weather/64/rain_light.png', 'weather': 'Light rain', 'temperature': '78', 'precipitation': '25%', 'humidity': '74%', 'wind': '3 mph'}, {'time': 'Friday 12:00\\u202fPM', 'thumbnail': 'https://ssl.gstatic.com/onebox/weather/64/rain_light.png', 'weather': 'Light rain', 'temperature': '79', 'precipitation': '25%', 'humidity': '69%', 'wind': '5 mph'}, {'time': 'Friday 1:00\\u202fPM', 'thumbnail': 'https://ssl.gstatic.com/onebox/weather/64/rain_light.png', 'weather': 'Light rain', 'temperature': '80', 'precipitation': '25%', 'humidity': '65%', 'wind': '5 mph'}, {'time': 'Friday 2:00\\u202fPM', 'thumbnail': 'https://ssl.gstatic.com/onebox/weather/64/rain_light.png', 'weather': 'Light rain', 'temperature': '81', 'precipitation': '20%', 'humidity': '65%', 'wind': '5 mph'}, {'time': 'Friday 3:00\\u202fPM', 'thumbnail': 'https://ssl.gstatic.com/onebox/weather/64/partly_cloudy.png', 'weather': 'Mostly cloudy', 'temperature': '80', 'precipitation': '10%', 'humidity': '65%', 'wind': '6 mph'}, {'time': 'Friday 4:00\\u202fPM', 'thumbnail': 'https://ssl.gstatic.com/onebox/weather/64/partly_cloudy.png', 'weather': 'Mostly cloudy', 'temperature': '80', 'precipitation': '10%', 'humidity': '66%', 'wind': '6 mph'}, {'time': 'Friday 5:00\\u202fPM', 'thumbnail': 'https://ssl.gstatic.com/onebox/weather/64/partly_cloudy.png', 'weather': 'Mostly cloudy', 'temperature': '80', 'precipitation': '10%', 'humidity': '68%', 'wind': '7 mph'}, {'time': 'Friday 6:00\\u202fPM', 'thumbnail': 'https://ssl.gstatic.com/onebox/weather/64/partly_cloudy.png', 'weather': 'Mostly cloudy', 'temperature': '79', 'precipitation': '10%', 'humidity': '71%', 'wind': '7 mph'}, {'time': 'Friday 7:00\\u202fPM', 'thumbnail': 'https://ssl.gstatic.com/onebox/weather/64/partly_cloudy.png', 'weather': 'Mostly cloudy', 'temperature': '79', 'precipitation': '10%', 'humidity': '73%', 'wind': '8 mph'}, {'time': 'Friday 8:00\\u202fPM', 'thumbnail': 'https://ssl.gstatic.com/onebox/weather/64/partly_cloudy.png', 'weather': 'Mostly cloudy', 'temperature': '78', 'precipitation': '5%', 'humidity': '74%', 'wind': '7 mph'}, {'time': 'Friday 9:00\\u202fPM', 'thumbnail': 'https://ssl.gstatic.com/onebox/weather/64/partly_cloudy.png', 'weather': 'Mostly cloudy', 'temperature': '78', 'precipitation': '10%', 'humidity': '75%', 'wind': '7 mph'}, {'time': 'Friday 10:00\\u202fPM', 'thumbnail': 'https://ssl.gstatic.com/onebox/weather/64/partly_cloudy.png', 'weather': 'Mostly cloudy', 'temperature': '77', 'precipitation': '10%', 'humidity': '76%', 'wind': '6 mph'}, {'time': 'Friday 11:00\\u202fPM', 'thumbnail': 'https://ssl.gstatic.com/onebox/weather/64/partly_cloudy.png', 'weather': 'Mostly cloudy', 'temperature': '76', 'precipitation': '10%', 'humidity': '79%', 'wind': '6 mph'}, {'time': 'Saturday 12:00\\u202fAM', 'thumbnail': 'https://ssl.gstatic.com/onebox/weather/64/partly_cloudy.png', 'weather': 'Partly cloudy', 'temperature': '75', 'precipitation': '5%', 'humidity': '81%', 'wind': '5 mph'}, {'time': 'Saturday 1:00\\u202fAM', 'thumbnail': 'https://ssl.gstatic.com/onebox/weather/64/partly_cloudy.png', 'weather': 'Partly cloudy', 'temperature': '75', 'precipitation': '5%', 'humidity': '83%', 'wind': '5 mph'}, {'time': 'Saturday 2:00\\u202fAM', 'thumbnail': 'https://ssl.gstatic.com/onebox/weather/64/partly_cloudy.png', 'weather': 'Mostly cloudy', 'temperature': '74', 'precipitation': '10%', 'humidity': '85%', 'wind': '5 mph'}, {'time': 'Saturday 3:00\\u202fAM', 'thumbnail': 'https://ssl.gstatic.com/onebox/weather/64/partly_cloudy.png', 'weather': 'Mostly cloudy', 'temperature': '74', 'precipitation': '10%', 'humidity': '85%', 'wind': '3 mph'}, {'time': 'Saturday 4:00\\u202fAM', 'thumbnail': 'https://ssl.gstatic.com/onebox/weather/64/partly_cloudy.png', 'weather': 'Mostly cloudy', 'temperature': '74', 'precipitation': '10%', 'humidity': '86%', 'wind': '3 mph'}, {'time': 'Saturday 5:00\\u202fAM', 'thumbnail': 'https://ssl.gstatic.com/onebox/weather/64/partly_cloudy.png', 'weather': 'Mostly cloudy', 'temperature': '74', 'precipitation': '10%', 'humidity': '87%', 'wind': '3 mph'}, {'time': 'Saturday 6:00\\u202fAM', 'thumbnail': 'https://ssl.gstatic.com/onebox/weather/64/cloudy.png', 'weather': 'Cloudy', 'temperature': '74', 'precipitation': '10%', 'humidity': '88%', 'wind': '2 mph'}, {'time': 'Saturday 7:00\\u202fAM', 'thumbnail': 'https://ssl.gstatic.com/onebox/weather/64/cloudy.png', 'weather': 'Cloudy', 'temperature': '75', 'precipitation': '10%', 'humidity': '87%', 'wind': '2 mph'}, {'time': 'Saturday 8:00\\u202fAM', 'thumbnail': 'https://ssl.gstatic.com/onebox/weather/64/rain_light.png', 'weather': 'Light rain', 'temperature': '76', 'precipitation': '20%', 'humidity': '84%', 'wind': '3 mph'}, {'time': 'Saturday 9:00\\u202fAM', 'thumbnail': 'https://ssl.gstatic.com/onebox/weather/64/rain_light.png', 'weather': 'Light rain', 'temperature': '77', 'precipitation': '20%', 'humidity': '81%', 'wind': '3 mph'}, {'time': 'Saturday 10:00\\u202fAM', 'thumbnail': 'https://ssl.gstatic.com/onebox/weather/64/rain_light.png', 'weather': 'Light rain', 'temperature': '79', 'precipitation': '20%', 'humidity': '77%', 'wind': '5 mph'}, {'time': 'Saturday 11:00\\u202fAM', 'thumbnail': 'https://ssl.gstatic.com/onebox/weather/64/rain_light.png', 'weather': 'Light rain', 'temperature': '80', 'precipitation': '20%', 'humidity': '74%', 'wind': '6 mph'}, {'time': 'Saturday 12:00\\u202fPM', 'thumbnail': 'https://ssl.gstatic.com/onebox/weather/64/rain_light.png', 'weather': 'Light rain', 'temperature': '81', 'precipitation': '20%', 'humidity': '71%', 'wind': '6 mph'}, {'time': 'Saturday 1:00\\u202fPM', 'thumbnail': 'https://ssl.gstatic.com/onebox/weather/64/rain_light.png', 'weather': 'Light rain', 'temperature': '81', 'precipitation': '20%', 'humidity': '70%', 'wind': '7 mph'}, {'time': 'Saturday 2:00\\u202fPM', 'thumbnail': 'https://ssl.gstatic.com/onebox/weather/64/rain_light.png', 'weather': 'Light rain', 'temperature': '82', 'precipitation': '20%', 'humidity': '69%', 'wind': '7 mph'}, {'time': 'Saturday 3:00\\u202fPM', 'thumbnail': 'https://ssl.gstatic.com/onebox/weather/64/rain_light.png', 'weather': 'Light rain', 'temperature': '82', 'precipitation': '20%', 'humidity': '68%', 'wind': '7 mph'}, {'time': 'Saturday 4:00\\u202fPM', 'thumbnail': 'https://ssl.gstatic.com/onebox/weather/64/rain_light.png', 'weather': 'Light rain', 'temperature': '81', 'precipitation': '20%', 'humidity': '70%', 'wind': '7 mph'}, {'time': 'Saturday 5:00\\u202fPM', 'thumbnail': 'https://ssl.gstatic.com/onebox/weather/64/rain_light.png', 'weather': 'Light rain', 'temperature': '81', 'precipitation': '20%', 'humidity': '72%', 'wind': '7 mph'}, {'time': 'Saturday 6:00\\u202fPM', 'thumbnail': 'https://ssl.gstatic.com/onebox/weather/64/rain_light.png', 'weather': 'Light rain', 'temperature': '79', 'precipitation': '20%', 'humidity': '75%', 'wind': '8 mph'}, {'time': 'Saturday 7:00\\u202fPM', 'thumbnail': 'https://ssl.gstatic.com/onebox/weather/64/rain_light.png', 'weather': 'Light rain', 'temperature': '79', 'precipitation': '20%', 'humidity': '78%', 'wind': '8 mph'}, {'time': 'Saturday 8:00\\u202fPM', 'thumbnail': 'https://ssl.gstatic.com/onebox/weather/64/rain_light.png', 'weather': 'Light rain', 'temperature': '78', 'precipitation': '20%', 'humidity': '78%', 'wind': '8 mph'}, {'time': 'Saturday 9:00\\u202fPM', 'thumbnail': 'https://ssl.gstatic.com/onebox/weather/64/rain_light.png', 'weather': 'Light rain', 'temperature': '78', 'precipitation': '20%', 'humidity': '79%', 'wind': '8 mph'}, {'time': 'Saturday 10:00\\u202fPM', 'thumbnail': 'https://ssl.gstatic.com/onebox/weather/64/rain_light.png', 'weather': 'Light rain', 'temperature': '78', 'precipitation': '20%', 'humidity': '80%', 'wind': '8 mph'}, {'time': 'Saturday 11:00\\u202fPM', 'thumbnail': 'https://ssl.gstatic.com/onebox/weather/64/rain_light.png', 'weather': 'Light rain', 'temperature': '77', 'precipitation': '20%', 'humidity': '83%', 'wind': '8 mph'}, {'time': 'Sunday 12:00\\u202fAM', 'thumbnail': 'https://ssl.gstatic.com/onebox/weather/64/rain_light.png', 'weather': 'Light rain', 'temperature': '76', 'precipitation': '20%', 'humidity': '85%', 'wind': '8 mph'}, {'time': 'Sunday 1:00\\u202fAM', 'thumbnail': 'https://ssl.gstatic.com/onebox/weather/64/rain_light.png', 'weather': 'Light rain', 'temperature': '76', 'precipitation': '20%', 'humidity': '87%', 'wind': '8 mph'}, {'time': 'Sunday 2:00\\u202fAM', 'thumbnail': 'https://ssl.gstatic.com/onebox/weather/64/rain_light.png', 'weather': 'Light rain', 'temperature': '76', 'precipitation': '20%', 'humidity': '88%', 'wind': '8 mph'}, {'time': 'Sunday 3:00\\u202fAM', 'thumbnail': 'https://ssl.gstatic.com/onebox/weather/64/rain_light.png', 'weather': 'Light rain', 'temperature': '76', 'precipitation': '20%', 'humidity': '89%', 'wind': '8 mph'}, {'time': 'Sunday 4:00\\u202fAM', 'thumbnail': 'https://ssl.gstatic.com/onebox/weather/64/rain_light.png', 'weather': 'Light rain', 'temperature': '76', 'precipitation': '20%', 'humidity': '89%', 'wind': '8 mph'}, {'time': 'Sunday 5:00\\u202fAM', 'thumbnail': 'https://ssl.gstatic.com/onebox/weather/64/rain_light.png', 'weather': 'Light rain', 'temperature': '76', 'precipitation': '20%', 'humidity': '91%', 'wind': '8 mph'}, {'time': 'Sunday 6:00\\u202fAM', 'thumbnail': 'https://ssl.gstatic.com/onebox/weather/64/rain_light.png', 'weather': 'Light rain', 'temperature': '76', 'precipitation': '20%', 'humidity': '92%', 'wind': '8 mph'}, {'time': 'Sunday 7:00\\u202fAM', 'thumbnail': 'https://ssl.gstatic.com/onebox/weather/64/rain_light.png', 'weather': 'Light rain', 'temperature': '76', 'precipitation': '20%', 'humidity': '92%', 'wind': '8 mph'}, {'time': 'Sunday 8:00\\u202fAM', 'thumbnail': 'https://ssl.gstatic.com/onebox/weather/64/rain_light.png', 'weather': 'Light rain', 'temperature': '77', 'precipitation': '20%', 'humidity': '89%', 'wind': '8 mph'}, {'time': 'Sunday 9:00\\u202fAM', 'thumbnail': 'https://ssl.gstatic.com/onebox/weather/64/rain_light.png', 'weather': 'Light rain', 'temperature': '78', 'precipitation': '25%', 'humidity': '85%', 'wind': '9 mph'}, {'time': 'Sunday 10:00\\u202fAM', 'thumbnail': 'https://ssl.gstatic.com/onebox/weather/64/rain_light.png', 'weather': 'Light rain', 'temperature': '80', 'precipitation': '25%', 'humidity': '82%', 'wind': '9 mph'}, {'time': 'Sunday 11:00\\u202fAM', 'thumbnail': 'https://ssl.gstatic.com/onebox/weather/64/rain_light.png', 'weather': 'Light rain', 'temperature': '81', 'precipitation': '25%', 'humidity': '78%', 'wind': '9 mph'}, {'time': 'Sunday 12:00\\u202fPM', 'thumbnail': 'https://ssl.gstatic.com/onebox/weather/64/rain_light.png', 'weather': 'Light rain', 'temperature': '82', 'precipitation': '25%', 'humidity': '74%', 'wind': '9 mph'}, {'time': 'Sunday 1:00\\u202fPM', 'thumbnail': 'https://ssl.gstatic.com/onebox/weather/64/rain_s_cloudy.png', 'weather': 'Scattered thunderstorms', 'temperature': '83', 'precipitation': '35%', 'humidity': '72%', 'wind': '9 mph'}, {'time': 'Sunday 2:00\\u202fPM', 'thumbnail': 'https://ssl.gstatic.com/onebox/weather/64/rain_s_cloudy.png', 'weather': 'Scattered thunderstorms', 'temperature': '83', 'precipitation': '40%', 'humidity': '71%', 'wind': '9 mph'}, {'time': 'Sunday 3:00\\u202fPM', 'thumbnail': 'https://ssl.gstatic.com/onebox/weather/64/rain_s_cloudy.png', 'weather': 'Scattered thunderstorms', 'temperature': '83', 'precipitation': '45%', 'humidity': '71%', 'wind': '8 mph'}, {'time': 'Sunday 4:00\\u202fPM', 'thumbnail': 'https://ssl.gstatic.com/onebox/weather/64/rain_s_cloudy.png', 'weather': 'Scattered thunderstorms', 'temperature': '83', 'precipitation': '45%', 'humidity': '71%', 'wind': '8 mph'}, {'time': 'Sunday 5:00\\u202fPM', 'thumbnail': 'https://ssl.gstatic.com/onebox/weather/64/rain_s_cloudy.png', 'weather': 'Scattered thunderstorms', 'temperature': '82', 'precipitation': '45%', 'humidity': '74%', 'wind': '8 mph'}, {'time': 'Sunday 6:00\\u202fPM', 'thumbnail': 'https://ssl.gstatic.com/onebox/weather/64/rain_s_cloudy.png', 'weather': 'Scattered thunderstorms', 'temperature': '81', 'precipitation': '45%', 'humidity': '77%', 'wind': '8 mph'}, {'time': 'Sunday 7:00\\u202fPM', 'thumbnail': 'https://ssl.gstatic.com/onebox/weather/64/rain_s_cloudy.png', 'weather': 'Scattered thunderstorms', 'temperature': '80', 'precipitation': '40%', 'humidity': '79%', 'wind': '8 mph'}, {'time': 'Sunday 8:00\\u202fPM', 'thumbnail': 'https://ssl.gstatic.com/onebox/weather/64/rain_light.png', 'weather': 'Light rain', 'temperature': '79', 'precipitation': '25%', 'humidity': '81%', 'wind': '8 mph'}, {'time': 'Sunday 9:00\\u202fPM', 'thumbnail': 'https://ssl.gstatic.com/onebox/weather/64/partly_cloudy.png', 'weather': 'Mostly cloudy', 'temperature': '79', 'precipitation': '10%', 'humidity': '81%', 'wind': '7 mph'}, {'time': 'Sunday 10:00\\u202fPM', 'thumbnail': 'https://ssl.gstatic.com/onebox/weather/64/partly_cloudy.png', 'weather': 'Mostly cloudy', 'temperature': '78', 'precipitation': '10%', 'humidity': '82%', 'wind': '7 mph'}, {'time': 'Sunday 11:00\\u202fPM', 'thumbnail': 'https://ssl.gstatic.com/onebox/weather/64/partly_cloudy.png', 'weather': 'Mostly cloudy', 'temperature': '77', 'precipitation': '10%', 'humidity': '86%', 'wind': '7 mph'}, {'time': 'Monday 12:00\\u202fAM', 'thumbnail': 'https://ssl.gstatic.com/onebox/weather/64/partly_cloudy.png', 'weather': 'Mostly cloudy', 'temperature': '77', 'precipitation': '10%', 'humidity': '88%', 'wind': '6 mph'}, {'time': 'Monday 1:00\\u202fAM', 'thumbnail': 'https://ssl.gstatic.com/onebox/weather/64/rain_light.png', 'weather': 'Light rain', 'temperature': '76', 'precipitation': '20%', 'humidity': '92%', 'wind': '6 mph'}, {'time': 'Monday 2:00\\u202fAM', 'thumbnail': 'https://ssl.gstatic.com/onebox/weather/64/rain_light.png', 'weather': 'Light rain', 'temperature': '76', 'precipitation': '20%', 'humidity': '93%', 'wind': '6 mph'}, {'time': 'Monday 3:00\\u202fAM', 'thumbnail': 'https://ssl.gstatic.com/onebox/weather/64/rain_light.png', 'weather': 'Light rain', 'temperature': '76', 'precipitation': '20%', 'humidity': '93%', 'wind': '7 mph'}, {'time': 'Monday 4:00\\u202fAM', 'thumbnail': 'https://ssl.gstatic.com/onebox/weather/64/rain_light.png', 'weather': 'Light rain', 'temperature': '76', 'precipitation': '20%', 'humidity': '93%', 'wind': '7 mph'}, {'time': 'Monday 5:00\\u202fAM', 'thumbnail': 'https://ssl.gstatic.com/onebox/weather/64/rain_light.png', 'weather': 'Light rain', 'temperature': '76', 'precipitation': '20%', 'humidity': '94%', 'wind': '7 mph'}, {'time': 'Monday 6:00\\u202fAM', 'thumbnail': 'https://ssl.gstatic.com/onebox/weather/64/rain_light.png', 'weather': 'Light rain', 'temperature': '76', 'precipitation': '20%', 'humidity': '94%', 'wind': '8 mph'}, {'time': 'Monday 7:00\\u202fAM', 'thumbnail': 'https://ssl.gstatic.com/onebox/weather/64/rain_light.png', 'weather': 'Light rain', 'temperature': '76', 'precipitation': '20%', 'humidity': '93%', 'wind': '8 mph'}, {'time': 'Monday 8:00\\u202fAM', 'thumbnail': 'https://ssl.gstatic.com/onebox/weather/64/cloudy.png', 'weather': 'Cloudy', 'temperature': '77', 'precipitation': '15%', 'humidity': '90%', 'wind': '8 mph'}, {'time': 'Monday 9:00\\u202fAM', 'thumbnail': 'https://ssl.gstatic.com/onebox/weather/64/rain_s_cloudy.png', 'weather': 'Scattered thunderstorms', 'temperature': '78', 'precipitation': '35%', 'humidity': '86%', 'wind': '8 mph'}, {'time': 'Monday 10:00\\u202fAM', 'thumbnail': 'https://ssl.gstatic.com/onebox/weather/64/rain_s_cloudy.png', 'weather': 'Scattered thunderstorms', 'temperature': '80', 'precipitation': '35%', 'humidity': '81%', 'wind': '8 mph'}, {'time': 'Monday 11:00\\u202fAM', 'thumbnail': 'https://ssl.gstatic.com/onebox/weather/64/rain_s_cloudy.png', 'weather': 'Scattered thunderstorms', 'temperature': '81', 'precipitation': '35%', 'humidity': '77%', 'wind': '8 mph'}, {'time': 'Monday 12:00\\u202fPM', 'thumbnail': 'https://ssl.gstatic.com/onebox/weather/64/rain_s_cloudy.png', 'weather': 'Scattered thunderstorms', 'temperature': '82', 'precipitation': '35%', 'humidity': '73%', 'wind': '8 mph'}, {'time': 'Monday 1:00\\u202fPM', 'thumbnail': 'https://ssl.gstatic.com/onebox/weather/64/rain_s_cloudy.png', 'weather': 'Scattered thunderstorms', 'temperature': '83', 'precipitation': '35%', 'humidity': '71%', 'wind': '8 mph'}, {'time': 'Monday 2:00\\u202fPM', 'thumbnail': 'https://ssl.gstatic.com/onebox/weather/64/rain_light.png', 'weather': 'Light rain', 'temperature': '83', 'precipitation': '25%', 'humidity': '70%', 'wind': '8 mph'}, {'time': 'Monday 3:00\\u202fPM', 'thumbnail': 'https://ssl.gstatic.com/onebox/weather/64/rain_light.png', 'weather': 'Light rain', 'temperature': '83', 'precipitation': '25%', 'humidity': '70%', 'wind': '8 mph'}, {'time': 'Monday 4:00\\u202fPM', 'thumbnail': 'https://ssl.gstatic.com/onebox/weather/64/rain_light.png', 'weather': 'Light rain', 'temperature': '82', 'precipitation': '25%', 'humidity': '70%', 'wind': '8 mph'}, {'time': 'Monday 5:00\\u202fPM', 'thumbnail': 'https://ssl.gstatic.com/onebox/weather/64/rain_light.png', 'weather': 'Light rain', 'temperature': '81', 'precipitation': '25%', 'humidity': '73%', 'wind': '8 mph'}, {'time': 'Monday 6:00\\u202fPM', 'thumbnail': 'https://ssl.gstatic.com/onebox/weather/64/rain_light.png', 'weather': 'Light rain', 'temperature': '80', 'precipitation': '25%', 'humidity': '75%', 'wind': '8 mph'}, {'time': 'Monday 7:00\\u202fPM', 'thumbnail': 'https://ssl.gstatic.com/onebox/weather/64/rain_light.png', 'weather': 'Light rain', 'temperature': '80', 'precipitation': '25%', 'humidity': '77%', 'wind': '8 mph'}, {'time': 'Monday 8:00\\u202fPM', 'thumbnail': 'https://ssl.gstatic.com/onebox/weather/64/rain_light.png', 'weather': 'Light rain', 'temperature': '78', 'precipitation': '20%', 'humidity': '79%', 'wind': '7 mph'}, {'time': 'Monday 9:00\\u202fPM', 'thumbnail': 'https://ssl.gstatic.com/onebox/weather/64/cloudy.png', 'weather': 'Cloudy', 'temperature': '78', 'precipitation': '10%', 'humidity': '82%', 'wind': '7 mph'}, {'time': 'Monday 10:00\\u202fPM', 'thumbnail': 'https://ssl.gstatic.com/onebox/weather/64/cloudy.png', 'weather': 'Cloudy', 'temperature': '77', 'precipitation': '10%', 'humidity': '84%', 'wind': '6 mph'}, {'time': 'Monday 11:00\\u202fPM', 'thumbnail': 'https://ssl.gstatic.com/onebox/weather/64/cloudy.png', 'weather': 'Cloudy', 'temperature': '76', 'precipitation': '10%', 'humidity': '86%', 'wind': '6 mph'}, {'time': 'Tuesday 12:00\\u202fAM', 'thumbnail': 'https://ssl.gstatic.com/onebox/weather/64/cloudy.png', 'weather': 'Cloudy', 'temperature': '75', 'precipitation': '10%', 'humidity': '88%', 'wind': '5 mph'}, {'time': 'Tuesday 1:00\\u202fAM', 'thumbnail': 'https://ssl.gstatic.com/onebox/weather/64/rain_light.png', 'weather': 'Light rain', 'temperature': '75', 'precipitation': '20%', 'humidity': '90%', 'wind': '5 mph'}, {'time': 'Tuesday 2:00\\u202fAM', 'thumbnail': 'https://ssl.gstatic.com/onebox/weather/64/rain_light.png', 'weather': 'Light rain', 'temperature': '75', 'precipitation': '25%', 'humidity': '91%', 'wind': '5 mph'}, {'time': 'Tuesday 3:00\\u202fAM', 'thumbnail': 'https://ssl.gstatic.com/onebox/weather/64/rain_light.png', 'weather': 'Light rain', 'temperature': '75', 'precipitation': '25%', 'humidity': '91%', 'wind': '6 mph'}, {'time': 'Tuesday 4:00\\u202fAM', 'thumbnail': 'https://ssl.gstatic.com/onebox/weather/64/rain_light.png', 'weather': 'Light rain', 'temperature': '75', 'precipitation': '25%', 'humidity': '91%', 'wind': '6 mph'}, {'time': 'Tuesday 5:00\\u202fAM', 'thumbnail': 'https://ssl.gstatic.com/onebox/weather/64/rain_light.png', 'weather': 'Light rain', 'temperature': '75', 'precipitation': '25%', 'humidity': '92%', 'wind': '6 mph'}, {'time': 'Tuesday 6:00\\u202fAM', 'thumbnail': 'https://ssl.gstatic.com/onebox/weather/64/rain_light.png', 'weather': 'Light rain', 'temperature': '75', 'precipitation': '25%', 'humidity': '92%', 'wind': '6 mph'}, {'time': 'Tuesday 7:00\\u202fAM', 'thumbnail': 'https://ssl.gstatic.com/onebox/weather/64/rain_light.png', 'weather': 'Light rain', 'temperature': '76', 'precipitation': '25%', 'humidity': '91%', 'wind': '6 mph'}, {'time': 'Tuesday 8:00\\u202fAM', 'thumbnail': 'https://ssl.gstatic.com/onebox/weather/64/rain_light.png', 'weather': 'Light rain', 'temperature': '76', 'precipitation': '25%', 'humidity': '88%', 'wind': '6 mph'}, {'time': 'Tuesday 9:00\\u202fAM', 'thumbnail': 'https://ssl.gstatic.com/onebox/weather/64/rain_light.png', 'weather': 'Light rain', 'temperature': '77', 'precipitation': '25%', 'humidity': '85%', 'wind': '6 mph'}, {'time': 'Tuesday 10:00\\u202fAM', 'thumbnail': 'https://ssl.gstatic.com/onebox/weather/64/rain_light.png', 'weather': 'Light rain', 'temperature': '78', 'precipitation': '25%', 'humidity': '82%', 'wind': '6 mph'}, {'time': 'Tuesday 11:00\\u202fAM', 'thumbnail': 'https://ssl.gstatic.com/onebox/weather/64/rain_light.png', 'weather': 'Light rain', 'temperature': '79', 'precipitation': '25%', 'humidity': '77%', 'wind': '6 mph'}, {'time': 'Tuesday 12:00\\u202fPM', 'thumbnail': 'https://ssl.gstatic.com/onebox/weather/64/rain_light.png', 'weather': 'Light rain', 'temperature': '80', 'precipitation': '25%', 'humidity': '74%', 'wind': '7 mph'}, {'time': 'Tuesday 1:00\\u202fPM', 'thumbnail': 'https://ssl.gstatic.com/onebox/weather/64/rain_s_cloudy.png', 'weather': 'Scattered thunderstorms', 'temperature': '81', 'precipitation': '35%', 'humidity': '71%', 'wind': '7 mph'}, {'time': 'Tuesday 2:00\\u202fPM', 'thumbnail': 'https://ssl.gstatic.com/onebox/weather/64/thunderstorms.png', 'weather': 'Thunderstorm', 'temperature': '81', 'precipitation': '50%', 'humidity': '71%', 'wind': '6 mph'}, {'time': 'Tuesday 3:00\\u202fPM', 'thumbnail': 'https://ssl.gstatic.com/onebox/weather/64/thunderstorms.png', 'weather': 'Thunderstorm', 'temperature': '81', 'precipitation': '50%', 'humidity': '71%', 'wind': '6 mph'}, {'time': 'Tuesday 4:00\\u202fPM', 'thumbnail': 'https://ssl.gstatic.com/onebox/weather/64/thunderstorms.png', 'weather': 'Thunderstorm', 'temperature': '80', 'precipitation': '50%', 'humidity': '72%', 'wind': '5 mph'}, {'time': 'Tuesday 5:00\\u202fPM', 'thumbnail': 'https://ssl.gstatic.com/onebox/weather/64/thunderstorms.png', 'weather': 'Thunderstorm', 'temperature': '80', 'precipitation': '50%', 'humidity': '75%', 'wind': '4 mph'}, {'time': 'Tuesday 6:00\\u202fPM', 'thumbnail': 'https://ssl.gstatic.com/onebox/weather/64/thunderstorms.png', 'weather': 'Thunderstorm', 'temperature': '78', 'precipitation': '50%', 'humidity': '77%', 'wind': '3 mph'}, {'time': 'Tuesday 7:00\\u202fPM', 'thumbnail': 'https://ssl.gstatic.com/onebox/weather/64/thunderstorms.png', 'weather': 'Thunderstorm', 'temperature': '77', 'precipitation': '50%', 'humidity': '79%', 'wind': '3 mph'}, {'time': 'Tuesday 8:00\\u202fPM', 'thumbnail': 'https://ssl.gstatic.com/onebox/weather/64/rain_s_cloudy.png', 'weather': 'Scattered thunderstorms', 'temperature': '77', 'precipitation': '35%', 'humidity': '81%', 'wind': '3 mph'}, {'time': 'Tuesday 9:00\\u202fPM', 'thumbnail': 'https://ssl.gstatic.com/onebox/weather/64/cloudy.png', 'weather': 'Cloudy', 'temperature': '77', 'precipitation': '10%', 'humidity': '82%', 'wind': '3 mph'}, {'time': 'Tuesday 10:00\\u202fPM', 'thumbnail': 'https://ssl.gstatic.com/onebox/weather/64/cloudy.png', 'weather': 'Cloudy', 'temperature': '76', 'precipitation': '10%', 'humidity': '83%', 'wind': '3 mph'}, {'time': 'Tuesday 11:00\\u202fPM', 'thumbnail': 'https://ssl.gstatic.com/onebox/weather/64/cloudy.png', 'weather': 'Cloudy', 'temperature': '76', 'precipitation': '10%', 'humidity': '85%', 'wind': '3 mph'}, {'time': 'Wednesday 12:00\\u202fAM', 'thumbnail': 'https://ssl.gstatic.com/onebox/weather/64/partly_cloudy.png', 'weather': 'Mostly cloudy', 'temperature': '75', 'precipitation': '10%', 'humidity': '88%', 'wind': '3 mph'}, {'time': 'Wednesday 1:00\\u202fAM', 'thumbnail': 'https://ssl.gstatic.com/onebox/weather/64/rain_light.png', 'weather': 'Light rain', 'temperature': '74', 'precipitation': '20%', 'humidity': '89%', 'wind': '3 mph'}, {'time': 'Wednesday 2:00\\u202fAM', 'thumbnail': 'https://ssl.gstatic.com/onebox/weather/64/rain_light.png', 'weather': 'Light rain', 'temperature': '74', 'precipitation': '20%', 'humidity': '90%', 'wind': '3 mph'}, {'time': 'Wednesday 3:00\\u202fAM', 'thumbnail': 'https://ssl.gstatic.com/onebox/weather/64/rain_light.png', 'weather': 'Light rain', 'temperature': '74', 'precipitation': '25%', 'humidity': '91%', 'wind': '3 mph'}, {'time': 'Wednesday 4:00\\u202fAM', 'thumbnail': 'https://ssl.gstatic.com/onebox/weather/64/rain_light.png', 'weather': 'Light rain', 'temperature': '74', 'precipitation': '25%', 'humidity': '91%', 'wind': '3 mph'}, {'time': 'Wednesday 5:00\\u202fAM', 'thumbnail': 'https://ssl.gstatic.com/onebox/weather/64/rain_light.png', 'weather': 'Light rain', 'temperature': '74', 'precipitation': '25%', 'humidity': '91%', 'wind': '3 mph'}, {'time': 'Wednesday 6:00\\u202fAM', 'thumbnail': 'https://ssl.gstatic.com/onebox/weather/64/rain_light.png', 'weather': 'Light rain', 'temperature': '75', 'precipitation': '25%', 'humidity': '91%', 'wind': '5 mph'}, {'time': 'Wednesday 7:00\\u202fAM', 'thumbnail': 'https://ssl.gstatic.com/onebox/weather/64/rain_light.png', 'weather': 'Light rain', 'temperature': '75', 'precipitation': '25%', 'humidity': '91%', 'wind': '5 mph'}, {'time': 'Wednesday 8:00\\u202fAM', 'thumbnail': 'https://ssl.gstatic.com/onebox/weather/64/rain_light.png', 'weather': 'Light rain', 'temperature': '76', 'precipitation': '20%', 'humidity': '87%', 'wind': '5 mph'}, {'time': 'Wednesday 9:00\\u202fAM', 'thumbnail': 'https://ssl.gstatic.com/onebox/weather/64/rain_light.png', 'weather': 'Light rain', 'temperature': '77', 'precipitation': '20%', 'humidity': '82%', 'wind': '5 mph'}, {'time': 'Wednesday 10:00\\u202fAM', 'thumbnail': 'https://ssl.gstatic.com/onebox/weather/64/rain_light.png', 'weather': 'Light rain', 'temperature': '79', 'precipitation': '20%', 'humidity': '78%', 'wind': '5 mph'}], 'precipitation_forecast': [{'precipitation': '0%', 'day': 'Saturday', 'time': '10:00 AM'}, {'precipitation': '0%', 'day': 'Saturday', 'time': '11:00 AM'}, {'precipitation': '0%', 'day': 'Saturday', 'time': '12:00 PM'}, {'precipitation': '5%', 'day': 'Saturday', 'time': '1:00 PM'}, {'precipitation': '15%', 'day': 'Saturday', 'time': '2:00 PM'}, {'precipitation': '5%', 'day': 'Saturday', 'time': '3:00 PM'}, {'precipitation': '5%', 'day': 'Saturday', 'time': '4:00 PM'}, {'precipitation': '5%', 'day': 'Saturday', 'time': '5:00 PM'}, {'precipitation': '5%', 'day': 'Saturday', 'time': '6:00 PM'}, {'precipitation': '5%', 'day': 'Saturday', 'time': '7:00 PM'}, {'precipitation': '5%', 'day': 'Saturday', 'time': '8:00 PM'}, {'precipitation': '5%', 'day': 'Saturday', 'time': '9:00 PM'}, {'precipitation': '0%', 'day': 'Saturday', 'time': '10:00 PM'}, {'precipitation': '0%', 'day': 'Saturday', 'time': '11:00 PM'}, {'precipitation': '0%', 'day': 'Sunday', 'time': '12:00 AM'}, {'precipitation': '0%', 'day': 'Sunday', 'time': '1:00 AM'}, {'precipitation': '0%', 'day': 'Sunday', 'time': '2:00 AM'}, {'precipitation': '0%', 'day': 'Sunday', 'time': '3:00 AM'}, {'precipitation': '0%', 'day': 'Sunday', 'time': '4:00 AM'}, {'precipitation': '0%', 'day': 'Sunday', 'time': '5:00 AM'}, {'precipitation': '0%', 'day': 'Sunday', 'time': '6:00 AM'}, {'precipitation': '0%', 'day': 'Sunday', 'time': '7:00 AM'}, {'precipitation': '0%', 'day': 'Sunday', 'time': '8:00 AM'}, {'precipitation': '0%', 'day': 'Sunday', 'time': '9:00 AM'}, {'precipitation': '0%', 'day': 'Sunday', 'time': '10:00 AM'}, {'precipitation': '5%', 'day': 'Sunday', 'time': '11:00 AM'}, {'precipitation': '5%', 'day': 'Sunday', 'time': '12:00 PM'}, {'precipitation': '5%', 'day': 'Sunday', 'time': '1:00 PM'}, {'precipitation': '10%', 'day': 'Sunday', 'time': '2:00 PM'}, {'precipitation': '10%', 'day': 'Sunday', 'time': '3:00 PM'}, {'precipitation': '20%', 'day': 'Sunday', 'time': '4:00 PM'}, {'precipitation': '35%', 'day': 'Sunday', 'time': '5:00 PM'}, {'precipitation': '25%', 'day': 'Sunday', 'time': '6:00 PM'}, {'precipitation': '50%', 'day': 'Sunday', 'time': '7:00 PM'}, {'precipitation': '55%', 'day': 'Sunday', 'time': '8:00 PM'}, {'precipitation': '15%', 'day': 'Sunday', 'time': '9:00 PM'}, {'precipitation': '15%', 'day': 'Sunday', 'time': '10:00 PM'}, {'precipitation': '0%', 'day': 'Sunday', 'time': '11:00 PM'}, {'precipitation': '15%', 'day': 'Monday', 'time': '12:00 AM'}, {'precipitation': '15%', 'day': 'Monday', 'time': '1:00 AM'}, {'precipitation': '15%', 'day': 'Monday', 'time': '2:00 AM'}, {'precipitation': '15%', 'day': 'Monday', 'time': '3:00 AM'}, {'precipitation': '0%', 'day': 'Monday', 'time': '4:00 AM'}, {'precipitation': '0%', 'day': 'Monday', 'time': '5:00 AM'}, {'precipitation': '0%', 'day': 'Monday', 'time': '6:00 AM'}, {'precipitation': '0%', 'day': 'Monday', 'time': '7:00 AM'}, {'precipitation': '0%', 'day': 'Monday', 'time': '8:00 AM'}, {'precipitation': '0%', 'day': 'Monday', 'time': '9:00 AM'}, {'precipitation': '0%', 'day': 'Monday', 'time': '10:00 AM'}, {'precipitation': '0%', 'day': 'Monday', 'time': '11:00 AM'}, {'precipitation': '0%', 'day': 'Monday', 'time': '12:00 PM'}, {'precipitation': '0%', 'day': 'Monday', 'time': '1:00 PM'}, {'precipitation': '0%', 'day': 'Monday', 'time': '2:00 PM'}, {'precipitation': '0%', 'day': 'Monday', 'time': '3:00 PM'}, {'precipitation': '0%', 'day': 'Monday', 'time': '4:00 PM'}, {'precipitation': '0%', 'day': 'Monday', 'time': '5:00 PM'}, {'precipitation': '0%', 'day': 'Monday', 'time': '6:00 PM'}, {'precipitation': '0%', 'day': 'Monday', 'time': '7:00 PM'}, {'precipitation': '0%', 'day': 'Monday', 'time': '8:00 PM'}, {'precipitation': '0%', 'day': 'Monday', 'time': '9:00 PM'}, {'precipitation': '0%', 'day': 'Monday', 'time': '10:00 PM'}, {'precipitation': '0%', 'day': 'Monday', 'time': '11:00 PM'}, {'precipitation': '0%', 'day': 'Tuesday', 'time': '12:00 AM'}, {'precipitation': '0%', 'day': 'Tuesday', 'time': '1:00 AM'}, {'precipitation': '0%', 'day': 'Tuesday', 'time': '2:00 AM'}, {'precipitation': '0%', 'day': 'Tuesday', 'time': '3:00 AM'}, {'precipitation': '0%', 'day': 'Tuesday', 'time': '4:00 AM'}, {'precipitation': '0%', 'day': 'Tuesday', 'time': '5:00 AM'}, {'precipitation': '0%', 'day': 'Tuesday', 'time': '6:00 AM'}, {'precipitation': '0%', 'day': 'Tuesday', 'time': '7:00 AM'}, {'precipitation': '0%', 'day': 'Tuesday', 'time': '8:00 AM'}, {'precipitation': '0%', 'day': 'Tuesday', 'time': '9:00 AM'}, {'precipitation': '0%', 'day': 'Tuesday', 'time': '10:00 AM'}, {'precipitation': '0%', 'day': 'Tuesday', 'time': '11:00 AM'}, {'precipitation': '0%', 'day': 'Tuesday', 'time': '12:00 PM'}, {'precipitation': '15%', 'day': 'Tuesday', 'time': '1:00 PM'}, {'precipitation': '15%', 'day': 'Tuesday', 'time': '2:00 PM'}, {'precipitation': '15%', 'day': 'Tuesday', 'time': '3:00 PM'}, {'precipitation': '15%', 'day': 'Tuesday', 'time': '4:00 PM'}, {'precipitation': '15%', 'day': 'Tuesday', 'time': '5:00 PM'}, {'precipitation': '0%', 'day': 'Tuesday', 'time': '6:00 PM'}, {'precipitation': '0%', 'day': 'Tuesday', 'time': '7:00 PM'}, {'precipitation': '0%', 'day': 'Tuesday', 'time': '8:00 PM'}, {'precipitation': '0%', 'day': 'Tuesday', 'time': '9:00 PM'}, {'precipitation': '0%', 'day': 'Tuesday', 'time': '10:00 PM'}, {'precipitation': '0%', 'day': 'Tuesday', 'time': '11:00 PM'}, {'precipitation': '0%', 'day': 'Wednesday', 'time': '12:00 AM'}, {'precipitation': '0%', 'day': 'Wednesday', 'time': '1:00 AM'}, {'precipitation': '0%', 'day': 'Wednesday', 'time': '2:00 AM'}, {'precipitation': '0%', 'day': 'Wednesday', 'time': '3:00 AM'}, {'precipitation': '0%', 'day': 'Wednesday', 'time': '4:00 AM'}, {'precipitation': '0%', 'day': 'Wednesday', 'time': '5:00 AM'}, {'precipitation': '0%', 'day': 'Wednesday', 'time': '6:00 AM'}, {'precipitation': '0%', 'day': 'Wednesday', 'time': '7:00 AM'}, {'precipitation': '0%', 'day': 'Wednesday', 'time': '8:00 AM'}, {'precipitation': '0%', 'day': 'Wednesday', 'time': '9:00 AM'}, {'precipitation': '0%', 'day': 'Wednesday', 'time': '10:00 AM'}, {'precipitation': '0%', 'day': 'Wednesday', 'time': '11:00 AM'}, {'precipitation': '0%', 'day': 'Wednesday', 'time': '12:00 PM'}, {'precipitation': '0%', 'day': 'Wednesday', 'time': '1:00 PM'}, {'precipitation': '0%', 'day': 'Wednesday', 'time': '2:00 PM'}, {'precipitation': '0%', 'day': 'Wednesday', 'time': '3:00 PM'}, {'precipitation': '5%', 'day': 'Wednesday', 'time': '4:00 PM'}, {'precipitation': '15%', 'day': 'Wednesday', 'time': '5:00 PM'}, {'precipitation': '15%', 'day': 'Wednesday', 'time': '6:00 PM'}, {'precipitation': '15%', 'day': 'Wednesday', 'time': '7:00 PM'}, {'precipitation': '0%', 'day': 'Wednesday', 'time': '8:00 PM'}, {'precipitation': '0%', 'day': 'Wednesday', 'time': '9:00 PM'}, {'precipitation': '0%', 'day': 'Wednesday', 'time': '10:00 PM'}, {'precipitation': '15%', 'day': 'Wednesday', 'time': '11:00 PM'}, {'precipitation': '15%', 'day': 'Thursday', 'time': '12:00 AM'}, {'precipitation': '15%', 'day': 'Thursday', 'time': '1:00 AM'}, {'precipitation': '0%', 'day': 'Thursday', 'time': '2:00 AM'}, {'precipitation': '0%', 'day': 'Thursday', 'time': '3:00 AM'}, {'precipitation': '5%', 'day': 'Thursday', 'time': '4:00 AM'}, {'precipitation': '5%', 'day': 'Thursday', 'time': '5:00 AM'}, {'precipitation': '5%', 'day': 'Thursday', 'time': '6:00 AM'}, {'precipitation': '5%', 'day': 'Thursday', 'time': '7:00 AM'}, {'precipitation': '5%', 'day': 'Thursday', 'time': '8:00 AM'}, {'precipitation': '5%', 'day': 'Thursday', 'time': '9:00 AM'}, {'precipitation': '10%', 'day': 'Thursday', 'time': '10:00 AM'}, {'precipitation': '20%', 'day': 'Thursday', 'time': '11:00 AM'}, {'precipitation': '20%', 'day': 'Thursday', 'time': '12:00 PM'}, {'precipitation': '20%', 'day': 'Thursday', 'time': '1:00 PM'}, {'precipitation': '10%', 'day': 'Thursday', 'time': '2:00 PM'}, {'precipitation': '10%', 'day': 'Thursday', 'time': '3:00 PM'}, {'precipitation': '20%', 'day': 'Thursday', 'time': '4:00 PM'}, {'precipitation': '25%', 'day': 'Thursday', 'time': '5:00 PM'}, {'precipitation': '25%', 'day': 'Thursday', 'time': '6:00 PM'}, {'precipitation': '10%', 'day': 'Thursday', 'time': '7:00 PM'}, {'precipitation': '35%', 'day': 'Thursday', 'time': '8:00 PM'}, {'precipitation': '35%', 'day': 'Thursday', 'time': '9:00 PM'}, {'precipitation': '35%', 'day': 'Thursday', 'time': '10:00 PM'}, {'precipitation': '35%', 'day': 'Thursday', 'time': '11:00 PM'}, {'precipitation': '35%', 'day': 'Friday', 'time': '12:00 AM'}, {'precipitation': '40%', 'day': 'Friday', 'time': '1:00 AM'}, {'precipitation': '45%', 'day': 'Friday', 'time': '2:00 AM'}, {'precipitation': '50%', 'day': 'Friday', 'time': '3:00 AM'}, {'precipitation': '50%', 'day': 'Friday', 'time': '4:00 AM'}, {'precipitation': '50%', 'day': 'Friday', 'time': '5:00 AM'}, {'precipitation': '50%', 'day': 'Friday', 'time': '6:00 AM'}, {'precipitation': '45%', 'day': 'Friday', 'time': '7:00 AM'}, {'precipitation': '35%', 'day': 'Friday', 'time': '8:00 AM'}, {'precipitation': '25%', 'day': 'Friday', 'time': '9:00 AM'}, {'precipitation': '25%', 'day': 'Friday', 'time': '10:00 AM'}, {'precipitation': '25%', 'day': 'Friday', 'time': '11:00 AM'}, {'precipitation': '25%', 'day': 'Friday', 'time': '12:00 PM'}, {'precipitation': '25%', 'day': 'Friday', 'time': '1:00 PM'}, {'precipitation': '20%', 'day': 'Friday', 'time': '2:00 PM'}, {'precipitation': '10%', 'day': 'Friday', 'time': '3:00 PM'}, {'precipitation': '10%', 'day': 'Friday', 'time': '4:00 PM'}, {'precipitation': '10%', 'day': 'Friday', 'time': '5:00 PM'}, {'precipitation': '10%', 'day': 'Friday', 'time': '6:00 PM'}, {'precipitation': '10%', 'day': 'Friday', 'time': '7:00 PM'}, {'precipitation': '5%', 'day': 'Friday', 'time': '8:00 PM'}, {'precipitation': '10%', 'day': 'Friday', 'time': '9:00 PM'}, {'precipitation': '10%', 'day': 'Friday', 'time': '10:00 PM'}, {'precipitation': '10%', 'day': 'Friday', 'time': '11:00 PM'}, {'precipitation': '5%', 'day': 'Saturday', 'time': '12:00 AM'}, {'precipitation': '5%', 'day': 'Saturday', 'time': '1:00 AM'}, {'precipitation': '10%', 'day': 'Saturday', 'time': '2:00 AM'}, {'precipitation': '10%', 'day': 'Saturday', 'time': '3:00 AM'}, {'precipitation': '10%', 'day': 'Saturday', 'time': '4:00 AM'}, {'precipitation': '10%', 'day': 'Saturday', 'time': '5:00 AM'}, {'precipitation': '10%', 'day': 'Saturday', 'time': '6:00 AM'}, {'precipitation': '10%', 'day': 'Saturday', 'time': '7:00 AM'}, {'precipitation': '20%', 'day': 'Saturday', 'time': '8:00 AM'}, {'precipitation': '20%', 'day': 'Saturday', 'time': '9:00 AM'}, {'precipitation': '20%', 'day': 'Saturday', 'time': '10:00 AM'}, {'precipitation': '20%', 'day': 'Saturday', 'time': '11:00 AM'}, {'precipitation': '20%', 'day': 'Saturday', 'time': '12:00 PM'}, {'precipitation': '20%', 'day': 'Saturday', 'time': '1:00 PM'}, {'precipitation': '20%', 'day': 'Saturday', 'time': '2:00 PM'}, {'precipitation': '20%', 'day': 'Saturday', 'time': '3:00 PM'}, {'precipitation': '20%', 'day': 'Saturday', 'time': '4:00 PM'}, {'precipitation': '20%', 'day': 'Saturday', 'time': '5:00 PM'}, {'precipitation': '20%', 'day': 'Saturday', 'time': '6:00 PM'}, {'precipitation': '20%', 'day': 'Saturday', 'time': '7:00 PM'}, {'precipitation': '20%', 'day': 'Saturday', 'time': '8:00 PM'}, {'precipitation': '20%', 'day': 'Saturday', 'time': '9:00 PM'}, {'precipitation': '20%', 'day': 'Saturday', 'time': '10:00 PM'}, {'precipitation': '20%', 'day': 'Saturday', 'time': '11:00 PM'}, {'precipitation': '20%', 'day': 'Sunday', 'time': '12:00 AM'}, {'precipitation': '20%', 'day': 'Sunday', 'time': '1:00 AM'}, {'precipitation': '20%', 'day': 'Sunday', 'time': '2:00 AM'}, {'precipitation': '20%', 'day': 'Sunday', 'time': '3:00 AM'}, {'precipitation': '20%', 'day': 'Sunday', 'time': '4:00 AM'}, {'precipitation': '20%', 'day': 'Sunday', 'time': '5:00 AM'}, {'precipitation': '20%', 'day': 'Sunday', 'time': '6:00 AM'}, {'precipitation': '20%', 'day': 'Sunday', 'time': '7:00 AM'}, {'precipitation': '20%', 'day': 'Sunday', 'time': '8:00 AM'}, {'precipitation': '25%', 'day': 'Sunday', 'time': '9:00 AM'}, {'precipitation': '25%', 'day': 'Sunday', 'time': '10:00 AM'}, {'precipitation': '25%', 'day': 'Sunday', 'time': '11:00 AM'}, {'precipitation': '25%', 'day': 'Sunday', 'time': '12:00 PM'}, {'precipitation': '35%', 'day': 'Sunday', 'time': '1:00 PM'}, {'precipitation': '40%', 'day': 'Sunday', 'time': '2:00 PM'}, {'precipitation': '45%', 'day': 'Sunday', 'time': '3:00 PM'}, {'precipitation': '45%', 'day': 'Sunday', 'time': '4:00 PM'}, {'precipitation': '45%', 'day': 'Sunday', 'time': '5:00 PM'}, {'precipitation': '45%', 'day': 'Sunday', 'time': '6:00 PM'}, {'precipitation': '40%', 'day': 'Sunday', 'time': '7:00 PM'}, {'precipitation': '25%', 'day': 'Sunday', 'time': '8:00 PM'}, {'precipitation': '10%', 'day': 'Sunday', 'time': '9:00 PM'}, {'precipitation': '10%', 'day': 'Sunday', 'time': '10:00 PM'}, {'precipitation': '10%', 'day': 'Sunday', 'time': '11:00 PM'}, {'precipitation': '10%', 'day': 'Monday', 'time': '12:00 AM'}, {'precipitation': '20%', 'day': 'Monday', 'time': '1:00 AM'}, {'precipitation': '20%', 'day': 'Monday', 'time': '2:00 AM'}, {'precipitation': '20%', 'day': 'Monday', 'time': '3:00 AM'}, {'precipitation': '20%', 'day': 'Monday', 'time': '4:00 AM'}, {'precipitation': '20%', 'day': 'Monday', 'time': '5:00 AM'}, {'precipitation': '20%', 'day': 'Monday', 'time': '6:00 AM'}, {'precipitation': '20%', 'day': 'Monday', 'time': '7:00 AM'}, {'precipitation': '15%', 'day': 'Monday', 'time': '8:00 AM'}, {'precipitation': '35%', 'day': 'Monday', 'time': '9:00 AM'}, {'precipitation': '35%', 'day': 'Monday', 'time': '10:00 AM'}, {'precipitation': '35%', 'day': 'Monday', 'time': '11:00 AM'}, {'precipitation': '35%', 'day': 'Monday', 'time': '12:00 PM'}, {'precipitation': '35%', 'day': 'Monday', 'time': '1:00 PM'}, {'precipitation': '25%', 'day': 'Monday', 'time': '2:00 PM'}, {'precipitation': '25%', 'day': 'Monday', 'time': '3:00 PM'}, {'precipitation': '25%', 'day': 'Monday', 'time': '4:00 PM'}, {'precipitation': '25%', 'day': 'Monday', 'time': '5:00 PM'}, {'precipitation': '25%', 'day': 'Monday', 'time': '6:00 PM'}, {'precipitation': '25%', 'day': 'Monday', 'time': '7:00 PM'}, {'precipitation': '20%', 'day': 'Monday', 'time': '8:00 PM'}, {'precipitation': '10%', 'day': 'Monday', 'time': '9:00 PM'}, {'precipitation': '10%', 'day': 'Monday', 'time': '10:00 PM'}, {'precipitation': '10%', 'day': 'Monday', 'time': '11:00 PM'}, {'precipitation': '10%', 'day': 'Tuesday', 'time': '12:00 AM'}, {'precipitation': '20%', 'day': 'Tuesday', 'time': '1:00 AM'}, {'precipitation': '25%', 'day': 'Tuesday', 'time': '2:00 AM'}, {'precipitation': '25%', 'day': 'Tuesday', 'time': '3:00 AM'}, {'precipitation': '25%', 'day': 'Tuesday', 'time': '4:00 AM'}, {'precipitation': '25%', 'day': 'Tuesday', 'time': '5:00 AM'}, {'precipitation': '25%', 'day': 'Tuesday', 'time': '6:00 AM'}, {'precipitation': '25%', 'day': 'Tuesday', 'time': '7:00 AM'}, {'precipitation': '25%', 'day': 'Tuesday', 'time': '8:00 AM'}, {'precipitation': '25%', 'day': 'Tuesday', 'time': '9:00 AM'}, {'precipitation': '25%', 'day': 'Tuesday', 'time': '10:00 AM'}, {'precipitation': '25%', 'day': 'Tuesday', 'time': '11:00 AM'}, {'precipitation': '25%', 'day': 'Tuesday', 'time': '12:00 PM'}, {'precipitation': '35%', 'day': 'Tuesday', 'time': '1:00 PM'}, {'precipitation': '50%', 'day': 'Tuesday', 'time': '2:00 PM'}, {'precipitation': '50%', 'day': 'Tuesday', 'time': '3:00 PM'}, {'precipitation': '50%', 'day': 'Tuesday', 'time': '4:00 PM'}, {'precipitation': '50%', 'day': 'Tuesday', 'time': '5:00 PM'}, {'precipitation': '50%', 'day': 'Tuesday', 'time': '6:00 PM'}, {'precipitation': '50%', 'day': 'Tuesday', 'time': '7:00 PM'}, {'precipitation': '35%', 'day': 'Tuesday', 'time': '8:00 PM'}, {'precipitation': '10%', 'day': 'Tuesday', 'time': '9:00 PM'}, {'precipitation': '10%', 'day': 'Tuesday', 'time': '10:00 PM'}, {'precipitation': '10%', 'day': 'Tuesday', 'time': '11:00 PM'}], 'wind_forecast': [{'angle': 105, 'direction': 'From south', 'speed': '5 mph', 'time': '11 AM'}, {'angle': 110, 'direction': 'From south', 'speed': '8 mph', 'time': '2 PM'}, {'angle': 135, 'direction': 'From southeast', 'speed': '10 mph', 'time': '5 PM'}, {'angle': 125, 'direction': 'From southeast', 'speed': '10 mph', 'time': '8 PM'}, {'angle': 115, 'direction': 'From southeast', 'speed': '10 mph', 'time': '11 PM'}, {'angle': 120, 'direction': 'From southeast', 'speed': '9 mph', 'time': '2 AM'}, {'angle': 130, 'direction': 'From southeast', 'speed': '8 mph', 'time': '5 AM'}, {'angle': 125, 'direction': 'From southeast', 'speed': '6 mph', 'time': '8 AM'}, {'angle': 115, 'direction': 'From southeast', 'speed': '5 mph', 'time': '11 AM'}, {'angle': 100, 'direction': 'From south', 'speed': '9 mph', 'time': '2 PM'}, {'angle': 125, 'direction': 'From southeast', 'speed': '10 mph', 'time': '5 PM'}, {'angle': 110, 'direction': 'From south', 'speed': '10 mph', 'time': '8 PM'}, {'angle': 110, 'direction': 'From south', 'speed': '11 mph', 'time': '11 PM'}, {'angle': 110, 'direction': 'From south', 'speed': '10 mph', 'time': '2 AM'}, {'angle': 115, 'direction': 'From southeast', 'speed': '9 mph', 'time': '5 AM'}, {'angle': 110, 'direction': 'From south', 'speed': '8 mph', 'time': '8 AM'}, {'angle': 95, 'direction': 'From south', 'speed': '9 mph', 'time': '11 AM'}, {'angle': 110, 'direction': 'From south', 'speed': '11 mph', 'time': '2 PM'}, {'angle': 115, 'direction': 'From southeast', 'speed': '12 mph', 'time': '5 PM'}, {'angle': 110, 'direction': 'From south', 'speed': '11 mph', 'time': '8 PM'}, {'angle': 105, 'direction': 'From south', 'speed': '12 mph', 'time': '11 PM'}, {'angle': 105, 'direction': 'From south', 'speed': '10 mph', 'time': '2 AM'}, {'angle': 125, 'direction': 'From southeast', 'speed': '6 mph', 'time': '5 AM'}, {'angle': 155, 'direction': 'From southeast', 'speed': '3 mph', 'time': '8 AM'}, {'angle': 90, 'direction': 'From south', 'speed': '2 mph', 'time': '11 AM'}, {'angle': 90, 'direction': 'From south', 'speed': '5 mph', 'time': '2 PM'}, {'angle': 115, 'direction': 'From southeast', 'speed': '8 mph', 'time': '5 PM'}, {'angle': 130, 'direction': 'From southeast', 'speed': '9 mph', 'time': '8 PM'}, {'angle': 130, 'direction': 'From southeast', 'speed': '10 mph', 'time': '11 PM'}, {'angle': 150, 'direction': 'From southeast', 'speed': '8 mph', 'time': '2 AM'}, {'angle': 180, 'direction': 'From east', 'speed': '5 mph', 'time': '5 AM'}, {'angle': 200, 'direction': 'From east', 'speed': '4 mph', 'time': '8 AM'}, {'angle': 180, 'direction': 'From east', 'speed': '5 mph', 'time': '11 AM'}, {'angle': 135, 'direction': 'From southeast', 'speed': '8 mph', 'time': '2 PM'}, {'angle': 130, 'direction': 'From southeast', 'speed': '11 mph', 'time': '5 PM'}, {'angle': 135, 'direction': 'From southeast', 'speed': '10 mph', 'time': '8 PM'}, {'angle': 145, 'direction': 'From southeast', 'speed': '8 mph', 'time': '11 PM'}, {'angle': 170, 'direction': 'From east', 'speed': '7 mph', 'time': '2 AM'}, {'angle': 225, 'direction': 'From northeast', 'speed': '6 mph', 'time': '5 AM'}, {'angle': 250, 'direction': 'From north', 'speed': '7 mph', 'time': '8 AM'}, {'angle': 250, 'direction': 'From north', 'speed': '8 mph', 'time': '11 AM'}, {'angle': 225, 'direction': 'From northeast', 'speed': '8 mph', 'time': '2 PM'}, {'angle': 205, 'direction': 'From northeast', 'speed': '7 mph', 'time': '5 PM'}, {'angle': 125, 'direction': 'From southeast', 'speed': '4 mph', 'time': '8 PM'}, {'angle': 155, 'direction': 'From southeast', 'speed': '5 mph', 'time': '11 PM'}, {'angle': 165, 'direction': 'From east', 'speed': '5 mph', 'time': '2 AM'}, {'angle': 200, 'direction': 'From east', 'speed': '4 mph', 'time': '5 AM'}, {'angle': 225, 'direction': 'From northeast', 'speed': '3 mph', 'time': '8 AM'}, {'angle': 200, 'direction': 'From east', 'speed': '3 mph', 'time': '11 AM'}, {'angle': 165, 'direction': 'From east', 'speed': '5 mph', 'time': '2 PM'}, {'angle': 125, 'direction': 'From southeast', 'speed': '7 mph', 'time': '5 PM'}, {'angle': 110, 'direction': 'From south', 'speed': '7 mph', 'time': '8 PM'}, {'angle': 125, 'direction': 'From southeast', 'speed': '6 mph', 'time': '11 PM'}, {'angle': 145, 'direction': 'From southeast', 'speed': '5 mph', 'time': '2 AM'}, {'angle': 135, 'direction': 'From southeast', 'speed': '3 mph', 'time': '5 AM'}, {'angle': 115, 'direction': 'From southeast', 'speed': '3 mph', 'time': '8 AM'}, {'angle': 115, 'direction': 'From southeast', 'speed': '6 mph', 'time': '11 AM'}, {'angle': 115, 'direction': 'From southeast', 'speed': '7 mph', 'time': '2 PM'}, {'angle': 130, 'direction': 'From southeast', 'speed': '7 mph', 'time': '5 PM'}, {'angle': 135, 'direction': 'From southeast', 'speed': '8 mph', 'time': '8 PM'}, {'angle': 135, 'direction': 'From southeast', 'speed': '8 mph', 'time': '11 PM'}, {'angle': 140, 'direction': 'From southeast', 'speed': '8 mph', 'time': '2 AM'}, {'angle': 135, 'direction': 'From southeast', 'speed': '8 mph', 'time': '5 AM'}, {'angle': 125, 'direction': 'From southeast', 'speed': '8 mph', 'time': '8 AM'}, {'angle': 115, 'direction': 'From southeast', 'speed': '9 mph', 'time': '11 AM'}, {'angle': 105, 'direction': 'From south', 'speed': '9 mph', 'time': '2 PM'}, {'angle': 115, 'direction': 'From southeast', 'speed': '8 mph', 'time': '5 PM'}, {'angle': 130, 'direction': 'From southeast', 'speed': '8 mph', 'time': '8 PM'}, {'angle': 145, 'direction': 'From southeast', 'speed': '7 mph', 'time': '11 PM'}, {'angle': 150, 'direction': 'From southeast', 'speed': '6 mph', 'time': '2 AM'}, {'angle': 140, 'direction': 'From southeast', 'speed': '7 mph', 'time': '5 AM'}, {'angle': 135, 'direction': 'From southeast', 'speed': '8 mph', 'time': '8 AM'}, {'angle': 125, 'direction': 'From southeast', 'speed': '8 mph', 'time': '11 AM'}, {'angle': 115, 'direction': 'From southeast', 'speed': '8 mph', 'time': '2 PM'}, {'angle': 125, 'direction': 'From southeast', 'speed': '8 mph', 'time': '5 PM'}, {'angle': 140, 'direction': 'From southeast', 'speed': '7 mph', 'time': '8 PM'}, {'angle': 155, 'direction': 'From southeast', 'speed': '6 mph', 'time': '11 PM'}, {'angle': 160, 'direction': 'From east', 'speed': '5 mph', 'time': '2 AM'}, {'angle': 155, 'direction': 'From southeast', 'speed': '6 mph', 'time': '5 AM'}, {'angle': 145, 'direction': 'From southeast', 'speed': '6 mph', 'time': '8 AM'}, {'angle': 120, 'direction': 'From southeast', 'speed': '6 mph', 'time': '11 AM'}, {'angle': 110, 'direction': 'From south', 'speed': '6 mph', 'time': '2 PM'}, {'angle': 135, 'direction': 'From southeast', 'speed': '4 mph', 'time': '5 PM'}, {'angle': 155, 'direction': 'From southeast', 'speed': '3 mph', 'time': '8 PM'}, {'angle': 155, 'direction': 'From southeast', 'speed': '3 mph', 'time': '11 PM'}], 'sources': [{'title': 'Google Weather', 'link': 'https://support.google.com/websearch/answer/13687874'}]}, 'organic_results': [{'position': 1, 'title': 'Thời tiết hiện tại ở Hoàn Kiếm, Hà Nội, Việt Nam', 'link': 'https://www.accuweather.com/vi/vn/hoan-kiem/425226/current-weather/425226', 'redirect_link': 'https://www.google.com/url?sa=t&source=web&rct=j&opi=89978449&url=https://www.accuweather.com/vi/vn/hoan-kiem/425226/current-weather/425226&ved=2ahUKEwilv8a2keOMAxWrmokEHcNdNMYQFnoECCEQAQ', 'displayed_link': 'https://www.accuweather.com › cu...', 'favicon': 'https://serpapi.com/searches/68031605409d3aa21b784cd5/images/b6e2d7751343962a0e20b6acd743e43f1ba585ba68f07854d43fd303bd5a7ff0.png', 'snippet': 'Thời tiết hiện tại ; RealFeel®. 86° ; RealFeel Shade™. 83° ; Chỉ số UV tối đa. 1 Thấp ; Gió. ĐĐN 6 mi/h ; Gió giật mạnh. 12 mi/h.', 'snippet_highlighted_words': ['Thời tiết'], 'source': 'AccuWeather'}], 'related_searches': [{'block_position': 1, 'query': 'Radar thời tiết Việt Nam', 'link': 'https://www.google.com/search?num=1&sca_esv=154ee781166f0f6d&q=Radar+th%E1%BB%9Di+ti%E1%BA%BFt+Vi%E1%BB%87t+Nam&sa=X&ved=2ahUKEwilv8a2keOMAxWrmokEHcNdNMYQ1QJ6BAgTEAE', 'serpapi_link': 'https://serpapi.com/search.json?device=desktop&engine=google&google_domain=google.com&num=1&q=Radar+th%E1%BB%9Di+ti%E1%BA%BFt+Vi%E1%BB%87t+Nam'}, {'block_position': 1, 'query': 'Thời tiết ở Việt Nam', 'link': 'https://www.google.com/search?num=1&sca_esv=154ee781166f0f6d&q=Th%E1%BB%9Di+ti%E1%BA%BFt+%E1%BB%9F+Vi%E1%BB%87t+Nam&sa=X&ved=2ahUKEwilv8a2keOMAxWrmokEHcNdNMYQ1QJ6BAgVEAE', 'serpapi_link': 'https://serpapi.com/search.json?device=desktop&engine=google&google_domain=google.com&num=1&q=Th%E1%BB%9Di+ti%E1%BA%BFt+%E1%BB%9F+Vi%E1%BB%87t+Nam'}, {'block_position': 1, 'query': 'Thời tiết Hải Phòng hôm nay', 'link': 'https://www.google.com/search?num=1&sca_esv=154ee781166f0f6d&q=Th%E1%BB%9Di+ti%E1%BA%BFt+H%E1%BA%A3i+Ph%C3%B2ng+h%C3%B4m+nay&sa=X&ved=2ahUKEwilv8a2keOMAxWrmokEHcNdNMYQ1QJ6BAgUEAE', 'serpapi_link': 'https://serpapi.com/search.json?device=desktop&engine=google&google_domain=google.com&num=1&q=Th%E1%BB%9Di+ti%E1%BA%BFt+H%E1%BA%A3i+Ph%C3%B2ng+h%C3%B4m+nay'}, {'block_position': 1, 'query': 'Thời tiết thế giới', 'link': 'https://www.google.com/search?num=1&sca_esv=154ee781166f0f6d&q=Th%E1%BB%9Di+ti%E1%BA%BFt+th%E1%BA%BF+gi%E1%BB%9Bi&sa=X&ved=2ahUKEwilv8a2keOMAxWrmokEHcNdNMYQ1QJ6BAgWEAE', 'serpapi_link': 'https://serpapi.com/search.json?device=desktop&engine=google&google_domain=google.com&num=1&q=Th%E1%BB%9Di+ti%E1%BA%BFt+th%E1%BA%BF+gi%E1%BB%9Bi'}, {'block_position': 1, 'query': 'Thời tiết Hà Nội', 'link': 'https://www.google.com/search?num=1&sca_esv=154ee781166f0f6d&q=Th%E1%BB%9Di+ti%E1%BA%BFt+H%C3%A0+N%E1%BB%99i&sa=X&ved=2ahUKEwilv8a2keOMAxWrmokEHcNdNMYQ1QJ6BAgSEAE', 'serpapi_link': 'https://serpapi.com/search.json?device=desktop&engine=google&google_domain=google.com&num=1&q=Th%E1%BB%9Di+ti%E1%BA%BFt+H%C3%A0+N%E1%BB%99i'}, {'block_position': 1, 'query': 'Vệ tinh thời tiết', 'link': 'https://www.google.com/search?num=1&sca_esv=154ee781166f0f6d&q=V%E1%BB%87+tinh+th%E1%BB%9Di+ti%E1%BA%BFt&sa=X&ved=2ahUKEwilv8a2keOMAxWrmokEHcNdNMYQ1QJ6BAgQEAE', 'serpapi_link': 'https://serpapi.com/search.json?device=desktop&engine=google&google_domain=google.com&num=1&q=V%E1%BB%87+tinh+th%E1%BB%9Di+ti%E1%BA%BFt'}, {'block_position': 1, 'query': 'Thời tiết Hà Giang', 'link': 'https://www.google.com/search?num=1&sca_esv=154ee781166f0f6d&q=Th%E1%BB%9Di+ti%E1%BA%BFt+H%C3%A0+Giang&sa=X&ved=2ahUKEwilv8a2keOMAxWrmokEHcNdNMYQ1QJ6BAgREAE', 'serpapi_link': 'https://serpapi.com/search.json?device=desktop&engine=google&google_domain=google.com&num=1&q=Th%E1%BB%9Di+ti%E1%BA%BFt+H%C3%A0+Giang'}, {'block_position': 1, 'query': 'Huế thời tiết', 'link': 'https://www.google.com/search?num=1&sca_esv=154ee781166f0f6d&q=Hu%E1%BA%BF+th%E1%BB%9Di+ti%E1%BA%BFt&sa=X&ved=2ahUKEwilv8a2keOMAxWrmokEHcNdNMYQ1QJ6BAgPEAE', 'serpapi_link': 'https://serpapi.com/search.json?device=desktop&engine=google&google_domain=google.com&num=1&q=Hu%E1%BA%BF+th%E1%BB%9Di+ti%E1%BA%BFt'}], 'pagination': {'current': 1, 'next': 'https://www.google.com/search?q=th%E1%BB%9Di+ti%E1%BA%BFt+H%E1%BB%93+G%C6%B0%C6%A1m+h%C3%B4m+nay&num=1&sca_esv=154ee781166f0f6d&ei=BhYDaKWkEqu1ptQPw7vRsQw&start=1&sa=N&sstk=Af40H4W075wh3in62XauzxsvJoaOXeMKRNrFl_6Qz6oEqwkiX2ctJp12PaWqCbL77VPzNNYSDKySQYzBkU5TW4X64wd72cMBSkFpIg&ved=2ahUKEwilv8a2keOMAxWrmokEHcNdNMYQ8NMDegQICRAW', 'other_pages': {'2': 'https://www.google.com/search?q=th%E1%BB%9Di+ti%E1%BA%BFt+H%E1%BB%93+G%C6%B0%C6%A1m+h%C3%B4m+nay&num=1&sca_esv=154ee781166f0f6d&ei=BhYDaKWkEqu1ptQPw7vRsQw&start=1&sa=N&sstk=Af40H4W075wh3in62XauzxsvJoaOXeMKRNrFl_6Qz6oEqwkiX2ctJp12PaWqCbL77VPzNNYSDKySQYzBkU5TW4X64wd72cMBSkFpIg&ved=2ahUKEwilv8a2keOMAxWrmokEHcNdNMYQ8tMDegQICRAE', '3': 'https://www.google.com/search?q=th%E1%BB%9Di+ti%E1%BA%BFt+H%E1%BB%93+G%C6%B0%C6%A1m+h%C3%B4m+nay&num=1&sca_esv=154ee781166f0f6d&ei=BhYDaKWkEqu1ptQPw7vRsQw&start=2&sa=N&sstk=Af40H4W075wh3in62XauzxsvJoaOXeMKRNrFl_6Qz6oEqwkiX2ctJp12PaWqCbL77VPzNNYSDKySQYzBkU5TW4X64wd72cMBSkFpIg&ved=2ahUKEwilv8a2keOMAxWrmokEHcNdNMYQ8tMDegQICRAG', '4': 'https://www.google.com/search?q=th%E1%BB%9Di+ti%E1%BA%BFt+H%E1%BB%93+G%C6%B0%C6%A1m+h%C3%B4m+nay&num=1&sca_esv=154ee781166f0f6d&ei=BhYDaKWkEqu1ptQPw7vRsQw&start=3&sa=N&sstk=Af40H4W075wh3in62XauzxsvJoaOXeMKRNrFl_6Qz6oEqwkiX2ctJp12PaWqCbL77VPzNNYSDKySQYzBkU5TW4X64wd72cMBSkFpIg&ved=2ahUKEwilv8a2keOMAxWrmokEHcNdNMYQ8tMDegQICRAI', '5': 'https://www.google.com/search?q=th%E1%BB%9Di+ti%E1%BA%BFt+H%E1%BB%93+G%C6%B0%C6%A1m+h%C3%B4m+nay&num=1&sca_esv=154ee781166f0f6d&ei=BhYDaKWkEqu1ptQPw7vRsQw&start=4&sa=N&sstk=Af40H4W075wh3in62XauzxsvJoaOXeMKRNrFl_6Qz6oEqwkiX2ctJp12PaWqCbL77VPzNNYSDKySQYzBkU5TW4X64wd72cMBSkFpIg&ved=2ahUKEwilv8a2keOMAxWrmokEHcNdNMYQ8tMDegQICRAK', '6': 'https://www.google.com/search?q=th%E1%BB%9Di+ti%E1%BA%BFt+H%E1%BB%93+G%C6%B0%C6%A1m+h%C3%B4m+nay&num=1&sca_esv=154ee781166f0f6d&ei=BhYDaKWkEqu1ptQPw7vRsQw&start=5&sa=N&sstk=Af40H4W075wh3in62XauzxsvJoaOXeMKRNrFl_6Qz6oEqwkiX2ctJp12PaWqCbL77VPzNNYSDKySQYzBkU5TW4X64wd72cMBSkFpIg&ved=2ahUKEwilv8a2keOMAxWrmokEHcNdNMYQ8tMDegQICRAM', '7': 'https://www.google.com/search?q=th%E1%BB%9Di+ti%E1%BA%BFt+H%E1%BB%93+G%C6%B0%C6%A1m+h%C3%B4m+nay&num=1&sca_esv=154ee781166f0f6d&ei=BhYDaKWkEqu1ptQPw7vRsQw&start=6&sa=N&sstk=Af40H4W075wh3in62XauzxsvJoaOXeMKRNrFl_6Qz6oEqwkiX2ctJp12PaWqCbL77VPzNNYSDKySQYzBkU5TW4X64wd72cMBSkFpIg&ved=2ahUKEwilv8a2keOMAxWrmokEHcNdNMYQ8tMDegQICRAO', '8': 'https://www.google.com/search?q=th%E1%BB%9Di+ti%E1%BA%BFt+H%E1%BB%93+G%C6%B0%C6%A1m+h%C3%B4m+nay&num=1&sca_esv=154ee781166f0f6d&ei=BhYDaKWkEqu1ptQPw7vRsQw&start=7&sa=N&sstk=Af40H4W075wh3in62XauzxsvJoaOXeMKRNrFl_6Qz6oEqwkiX2ctJp12PaWqCbL77VPzNNYSDKySQYzBkU5TW4X64wd72cMBSkFpIg&ved=2ahUKEwilv8a2keOMAxWrmokEHcNdNMYQ8tMDegQICRAQ', '9': 'https://www.google.com/search?q=th%E1%BB%9Di+ti%E1%BA%BFt+H%E1%BB%93+G%C6%B0%C6%A1m+h%C3%B4m+nay&num=1&sca_esv=154ee781166f0f6d&ei=BhYDaKWkEqu1ptQPw7vRsQw&start=8&sa=N&sstk=Af40H4W075wh3in62XauzxsvJoaOXeMKRNrFl_6Qz6oEqwkiX2ctJp12PaWqCbL77VPzNNYSDKySQYzBkU5TW4X64wd72cMBSkFpIg&ved=2ahUKEwilv8a2keOMAxWrmokEHcNdNMYQ8tMDegQICRAS', '10': 'https://www.google.com/search?q=th%E1%BB%9Di+ti%E1%BA%BFt+H%E1%BB%93+G%C6%B0%C6%A1m+h%C3%B4m+nay&num=1&sca_esv=154ee781166f0f6d&ei=BhYDaKWkEqu1ptQPw7vRsQw&start=9&sa=N&sstk=Af40H4W075wh3in62XauzxsvJoaOXeMKRNrFl_6Qz6oEqwkiX2ctJp12PaWqCbL77VPzNNYSDKySQYzBkU5TW4X64wd72cMBSkFpIg&ved=2ahUKEwilv8a2keOMAxWrmokEHcNdNMYQ8tMDegQICRAU'}}, 'serpapi_pagination': {'current': 1, 'next_link': 'https://serpapi.com/search.json?device=desktop&engine=google&google_domain=google.com&num=1&q=th%E1%BB%9Di+ti%E1%BA%BFt+H%E1%BB%93+G%C6%B0%C6%A1m+h%C3%B4m+nay&start=1', 'next': 'https://serpapi.com/search.json?device=desktop&engine=google&google_domain=google.com&num=1&q=th%E1%BB%9Di+ti%E1%BA%BFt+H%E1%BB%93+G%C6%B0%C6%A1m+h%C3%B4m+nay&start=1', 'other_pages': {'2': 'https://serpapi.com/search.json?device=desktop&engine=google&google_domain=google.com&num=1&q=th%E1%BB%9Di+ti%E1%BA%BFt+H%E1%BB%93+G%C6%B0%C6%A1m+h%C3%B4m+nay&start=1', '3': 'https://serpapi.com/search.json?device=desktop&engine=google&google_domain=google.com&num=1&q=th%E1%BB%9Di+ti%E1%BA%BFt+H%E1%BB%93+G%C6%B0%C6%A1m+h%C3%B4m+nay&start=2', '4': 'https://serpapi.com/search.json?device=desktop&engine=google&google_domain=google.com&num=1&q=th%E1%BB%9Di+ti%E1%BA%BFt+H%E1%BB%93+G%C6%B0%C6%A1m+h%C3%B4m+nay&start=3', '5': 'https://serpapi.com/search.json?device=desktop&engine=google&google_domain=google.com&num=1&q=th%E1%BB%9Di+ti%E1%BA%BFt+H%E1%BB%93+G%C6%B0%C6%A1m+h%C3%B4m+nay&start=4', '6': 'https://serpapi.com/search.json?device=desktop&engine=google&google_domain=google.com&num=1&q=th%E1%BB%9Di+ti%E1%BA%BFt+H%E1%BB%93+G%C6%B0%C6%A1m+h%C3%B4m+nay&start=5', '7': 'https://serpapi.com/search.json?device=desktop&engine=google&google_domain=google.com&num=1&q=th%E1%BB%9Di+ti%E1%BA%BFt+H%E1%BB%93+G%C6%B0%C6%A1m+h%C3%B4m+nay&start=6', '8': 'https://serpapi.com/search.json?device=desktop&engine=google&google_domain=google.com&num=1&q=th%E1%BB%9Di+ti%E1%BA%BFt+H%E1%BB%93+G%C6%B0%C6%A1m+h%C3%B4m+nay&start=7', '9': 'https://serpapi.com/search.json?device=desktop&engine=google&google_domain=google.com&num=1&q=th%E1%BB%9Di+ti%E1%BA%BFt+H%E1%BB%93+G%C6%B0%C6%A1m+h%C3%B4m+nay&start=8', '10': 'https://serpapi.com/search.json?device=desktop&engine=google&google_domain=google.com&num=1&q=th%E1%BB%9Di+ti%E1%BA%BFt+H%E1%BB%93+G%C6%B0%C6%A1m+h%C3%B4m+nay&start=9'}}}\n"
          ]
        },
        {
          "output_type": "execute_result",
          "data": {
            "text/plain": [
              "'Thời tiết hiện tại ; RealFeel®. 86° ; RealFeel Shade™. 83° ; Chỉ số UV tối đa. 1 Thấp ; Gió. ĐĐN 6 mi/h ; Gió giật mạnh. 12 mi/h.'"
            ],
            "application/vnd.google.colaboratory.intrinsic+json": {
              "type": "string"
            }
          },
          "metadata": {},
          "execution_count": 70
        }
      ]
    },
    {
      "cell_type": "code",
      "source": [
        "search_action(\"Thời tiết hôm nay Hà Nội đi bơi ở Hồ Gươm\")"
      ],
      "metadata": {
        "colab": {
          "base_uri": "https://localhost:8080/",
          "height": 90
        },
        "id": "LPD-oO0oa8Iz",
        "outputId": "74a8c8e8-7da6-46e8-df6b-39a7a4e624d7"
      },
      "execution_count": null,
      "outputs": [
        {
          "output_type": "stream",
          "name": "stdout",
          "text": [
            "['Thời tiết hiện tại. 08:22. 77°F. Có mây. RealFeel® 86°. Rất ấm áp. RealFeel Shade™ 83°. Rất ấm áp. RealFeel®. 86°. RealFeel Shade™. 83°. Chỉ số UV tối đa.']\n"
          ]
        },
        {
          "output_type": "execute_result",
          "data": {
            "text/plain": [
              "'Thời tiết hiện tại. 08:22. 77°F. Có mây. RealFeel® 86°. Rất ấm áp. RealFeel Shade™ 83°. Rất ấm áp. RealFeel®. 86°. RealFeel Shade™. 83°. Chỉ số UV tối đa.'"
            ],
            "application/vnd.google.colaboratory.intrinsic+json": {
              "type": "string"
            }
          },
          "metadata": {},
          "execution_count": 44
        }
      ]
    },
    {
      "cell_type": "code",
      "source": [
        "def do_nothing():\n",
        "    return None"
      ],
      "metadata": {
        "id": "Q07Xkm_ml8Uj"
      },
      "execution_count": null,
      "outputs": []
    },
    {
      "cell_type": "code",
      "source": [
        "def summarize_action(results):\n",
        "    client = OpenAI(api_key=userdata.get('open_ai_key'))\n",
        "    prompt = f\"Summarize the following product results:\\n{results}\"\n",
        "\n",
        "    response = client.chat.completions.create(\n",
        "        model=\"gpt-4o\",\n",
        "        messages=[\n",
        "            {\"role\": \"user\", \"content\": prompt},\n",
        "        ]\n",
        "    )\n",
        "    return response.choices[0].message.content\n"
      ],
      "metadata": {
        "id": "jsPkTw8Udia-"
      },
      "execution_count": null,
      "outputs": []
    },
    {
      "cell_type": "markdown",
      "source": [
        "Open source model"
      ],
      "metadata": {
        "id": "UyrX0QQb1LE8"
      }
    },
    {
      "cell_type": "code",
      "source": [
        "import transformers"
      ],
      "metadata": {
        "id": "5ZnX7CU44IdN"
      },
      "execution_count": null,
      "outputs": []
    },
    {
      "cell_type": "code",
      "source": [
        "def summarize_using_open_source_model(doc):\n",
        "    from transformers import AutoTokenizer, AutoModelForSeq2SeqLM\n",
        "    tokenizer = AutoTokenizer.from_pretrained(\"minhtoan/t5-small-wikilingua_vietnamese\")\n",
        "\n",
        "    model = AutoModelForSeq2SeqLM.from_pretrained(\"minhtoan/t5-small-wikilingua_vietnamese\")\n",
        "    model.cuda()\n",
        "    tokenized_text = tokenizer.encode(doc, return_tensors=\"pt\").cuda()\n",
        "    model.eval()\n",
        "    summary_ids = model.generate(\n",
        "                        tokenized_text,\n",
        "                        max_length=256,\n",
        "                        num_beams=5,\n",
        "                        repetition_penalty=2.5,\n",
        "                        length_penalty=1.0,\n",
        "                        early_stopping=True\n",
        "                    )\n",
        "    output = tokenizer.decode(summary_ids[0], skip_special_tokens=True)\n",
        "    return output"
      ],
      "metadata": {
        "id": "LachcI9O1Kxo"
      },
      "execution_count": null,
      "outputs": []
    },
    {
      "cell_type": "code",
      "source": [
        "summarize_using_open_source_model(\"Hà Nội hiện có 30 đơn vị hành chính cấp huyện (12 quận, 17 huyện, một thị xã) và 526 đơn vị hành chính cấp xã (160 phường, 345 xã và 21 thị trấn). Thành phố chưa công bố số phường xã sau sắp xếp, nhưng nếu giảm 70% theo định hướng của lãnh đạo, Hà Nội sẽ còn 133 phường, xã và thị trấn.\")"
      ],
      "metadata": {
        "colab": {
          "base_uri": "https://localhost:8080/",
          "height": 369,
          "referenced_widgets": [
            "2b83cef8618047a993bac1bd61f1a305",
            "28ec3b54dcd4481c8c9b5d4da2e9efad",
            "3b037c373a3747b5bf19fb95ca9e5814",
            "219b2e71ad4d41eda7fa2419f8d95723",
            "a003137a6c654507ba292fb53cdda40f",
            "223b448bf426411fbf710d57ceaecbd7",
            "7b9aa04d4bc44349aeb4df9aa1f0b1ba",
            "3ac64ff222524ed6ba871ec3fc7a8392",
            "6a4ceeec0e4b4cf7bc2c5dc555b65c68",
            "84f30771a9574207aca5fb51a3b48913",
            "40d234b4fe4a4a92ae8238270c2d3ecd",
            "c21158f6e69b4614b624cba04a67b35e",
            "c7d8359833f944adad4566a4c7d7f1be",
            "be7dec41da564af68917a30392d868fc",
            "3a265689d04a4c229ad32f92149e4a47",
            "8ce9cc53c7534ec7a26bafa4ed6e38cc",
            "574accaa360c40ffa1ba097232adaa7b",
            "afbdbded763c46e2b330fa64d87daa81",
            "7c0cabff92764d57bfb263a383b3854f",
            "f38c852dc5a147449e564fdc57a3742a",
            "1f88ff97600c481184396f1ddb61c844",
            "f925f06bd6664e46a7a012723dd24b43",
            "0b0236a0e886409fb3d694a16ef1f5c5",
            "5b880a4dfa0b4a63a6807f9bff4763d1",
            "89eeb5376c664f839b69b32c8b3036ca",
            "801bb47353f042e591b0914617cb3621",
            "a98fb70d956745359c649bc8ac32b9d4",
            "ba7c7029f1b9432ebab9bb0c0125c360",
            "58ac7f8f34354d30af3265b160d6da0a",
            "76b494ba0ca441a2805bbede612a590f",
            "7e9893018a66443094ec9d2cf37a8093",
            "40fbad63ccd14a15a0eb2219709dc94b",
            "2c066741bce0454886bac0045c824d91",
            "ed8912b479174c6c9d6bdcf0874472f2",
            "bcbd954a980e436f83231115caaff5a9",
            "b8ca8d4ca1e2496d85e29f349f80aa45",
            "b4a3e24635cd463a9de05a1400680859",
            "0dfdb113dbb840d7852cf0706c0c761a",
            "d3e8226ad0484ea197b402fe5d28eb37",
            "e160663cb709499a86013ade576fcc60",
            "d185d47619ab4a78ac3cb9d8b8543a77",
            "1728d0aea6034f6e9e76d5244e283e6c",
            "f069b19bc0a144e5b351c2ccc5600b39",
            "bf32e90e0d3f48d1914ce132027b9d03",
            "9aa0613a1e324701882840b67cb72088",
            "dfd2e8db8b88414c956d236717b6f115",
            "01e808ca693246a8ac68666f463aa1ef",
            "f0cb66147e4a483d8702d1defb6c5886",
            "63809238c1f6407e878b496dd2970742",
            "d4c9d02eb8164b1080913644d09dfe82",
            "a1adf317ca774e60a19144c87e5000b7",
            "6171a32c6458414f9c40aafbeb6c1c23",
            "755d66be59c14bb2a41278fa7cc3445a",
            "2a64818cff37412dbd304f5b5ef93d62",
            "268592b3c4e04250bb2a14e64bd3f391",
            "09d3fb08c7de4ad3af761e6ea35b7925",
            "44c8f365d5da41ad9b38c48d8d757e04",
            "8a4f68dce3bc4705823a4ff0c506c837",
            "6166f9fe76c24f34ab0bef19a72e8399",
            "d22902f137ed4d3b8cad1f56a53f5762",
            "d80558221eb74ff982c244b407e75813",
            "ffdd08bd5a0546af859be5c272526cd1",
            "7c4e2f2a1f7645e9839ff5101cc5982a",
            "daef68ee66fa4138b244c159e888c7a7",
            "48bb8046cd1d476f868e3275d35e9067",
            "2128c3e4fcb446d68d61814dec6d6b9f"
          ]
        },
        "id": "QW3DrSGJ4inr",
        "outputId": "bbc73685-3ea3-4596-b3aa-103d19806d7e"
      },
      "execution_count": null,
      "outputs": [
        {
          "output_type": "stream",
          "name": "stderr",
          "text": [
            "/usr/local/lib/python3.11/dist-packages/huggingface_hub/utils/_auth.py:94: UserWarning: \n",
            "The secret `HF_TOKEN` does not exist in your Colab secrets.\n",
            "To authenticate with the Hugging Face Hub, create a token in your settings tab (https://huggingface.co/settings/tokens), set it as secret in your Google Colab and restart your session.\n",
            "You will be able to reuse this secret in all of your notebooks.\n",
            "Please note that authentication is recommended but still optional to access public models or datasets.\n",
            "  warnings.warn(\n"
          ]
        },
        {
          "output_type": "display_data",
          "data": {
            "text/plain": [
              "tokenizer_config.json:   0%|          | 0.00/446 [00:00<?, ?B/s]"
            ],
            "application/vnd.jupyter.widget-view+json": {
              "version_major": 2,
              "version_minor": 0,
              "model_id": "2b83cef8618047a993bac1bd61f1a305"
            }
          },
          "metadata": {}
        },
        {
          "output_type": "display_data",
          "data": {
            "text/plain": [
              "spiece.model:   0%|          | 0.00/4.31M [00:00<?, ?B/s]"
            ],
            "application/vnd.jupyter.widget-view+json": {
              "version_major": 2,
              "version_minor": 0,
              "model_id": "c21158f6e69b4614b624cba04a67b35e"
            }
          },
          "metadata": {}
        },
        {
          "output_type": "display_data",
          "data": {
            "text/plain": [
              "tokenizer.json:   0%|          | 0.00/16.3M [00:00<?, ?B/s]"
            ],
            "application/vnd.jupyter.widget-view+json": {
              "version_major": 2,
              "version_minor": 0,
              "model_id": "0b0236a0e886409fb3d694a16ef1f5c5"
            }
          },
          "metadata": {}
        },
        {
          "output_type": "display_data",
          "data": {
            "text/plain": [
              "special_tokens_map.json:   0%|          | 0.00/74.0 [00:00<?, ?B/s]"
            ],
            "application/vnd.jupyter.widget-view+json": {
              "version_major": 2,
              "version_minor": 0,
              "model_id": "ed8912b479174c6c9d6bdcf0874472f2"
            }
          },
          "metadata": {}
        },
        {
          "output_type": "display_data",
          "data": {
            "text/plain": [
              "config.json:   0%|          | 0.00/801 [00:00<?, ?B/s]"
            ],
            "application/vnd.jupyter.widget-view+json": {
              "version_major": 2,
              "version_minor": 0,
              "model_id": "9aa0613a1e324701882840b67cb72088"
            }
          },
          "metadata": {}
        },
        {
          "output_type": "display_data",
          "data": {
            "text/plain": [
              "pytorch_model.bin:   0%|          | 0.00/1.20G [00:00<?, ?B/s]"
            ],
            "application/vnd.jupyter.widget-view+json": {
              "version_major": 2,
              "version_minor": 0,
              "model_id": "09d3fb08c7de4ad3af761e6ea35b7925"
            }
          },
          "metadata": {}
        },
        {
          "output_type": "execute_result",
          "data": {
            "text/plain": [
              "'Hà Nội hiện có 30 đơn vị hành chính cấp huyện (12 quận, 17 huyện, một thị xã) và 526 đơn vị hành chính cấp xã (160 phường, 345 xã và 21 thị trấn). Theo định hướng của lãnh đạo, Hà Nội sẽ còn 133 phường, xã và thị trấn.'"
            ],
            "application/vnd.google.colaboratory.intrinsic+json": {
              "type": "string"
            }
          },
          "metadata": {},
          "execution_count": 4
        }
      ]
    },
    {
      "cell_type": "code",
      "source": [
        "def answer_question(question, search_results):\n",
        "    client = OpenAI(api_key=userdata.get('open_ai_key'))\n",
        "    prompt = f\"Answer the following question using the provided search results:\\n\\nQuestion: {question}\\n\\nSearch Results:\\n{search_results}\"\n",
        "    response = client.chat.completions.create(\n",
        "        model=\"gpt-4o\",\n",
        "        messages=[\n",
        "            {\"role\": \"user\", \"content\": prompt},\n",
        "        ]\n",
        "    )\n",
        "    return response.choices[0].message.content\n"
      ],
      "metadata": {
        "id": "m-yfhp-5cV23"
      },
      "execution_count": null,
      "outputs": []
    },
    {
      "cell_type": "code",
      "source": [
        "function_mapping = {\n",
        "    \"search_action\": search_action,\n",
        "    \"do_nothing\": do_nothing,\n",
        "    \"summarize_action\": summarize_action,\n",
        "    \"answer_question\": answer_question,\n",
        "}\n",
        "\n"
      ],
      "metadata": {
        "id": "IUYiyWNElzWa"
      },
      "execution_count": null,
      "outputs": []
    },
    {
      "cell_type": "code",
      "source": [
        "function_mapping[\"search_action\"](\"Thời tiết hôm nay Hà Nội đi bơi ở Hồ Gươm\")"
      ],
      "metadata": {
        "colab": {
          "base_uri": "https://localhost:8080/",
          "height": 90
        },
        "id": "C3ZpJioPvhOk",
        "outputId": "049bf14f-4edc-42be-8940-5e92ef5c53c7"
      },
      "execution_count": null,
      "outputs": [
        {
          "output_type": "stream",
          "name": "stdout",
          "text": [
            "['Thời tiết hiện tại. 08:22. 77°F. Có mây. RealFeel® 86°. Rất ấm áp. RealFeel Shade™ 83°. Rất ấm áp. RealFeel®. 86°. RealFeel Shade™. 83°. Chỉ số UV tối đa.']\n"
          ]
        },
        {
          "output_type": "execute_result",
          "data": {
            "text/plain": [
              "'Thời tiết hiện tại. 08:22. 77°F. Có mây. RealFeel® 86°. Rất ấm áp. RealFeel Shade™ 83°. Rất ấm áp. RealFeel®. 86°. RealFeel Shade™. 83°. Chỉ số UV tối đa.'"
            ],
            "application/vnd.google.colaboratory.intrinsic+json": {
              "type": "string"
            }
          },
          "metadata": {},
          "execution_count": 54
        }
      ]
    },
    {
      "cell_type": "code",
      "source": [
        "# function_to_call = function_mapping[tool_function_name]\n",
        "# function_response = function_to_call(**tool_query_string)"
      ],
      "metadata": {
        "id": "d37UJ2bgcRGN"
      },
      "execution_count": null,
      "outputs": []
    },
    {
      "cell_type": "code",
      "source": [
        "# Get the current date format DD-MM-YYYY\n",
        "\n",
        "def get_current_date():\n",
        "    from datetime import datetime\n",
        "    current_date = datetime.now().strftime(\"%d-%m-%Y\")\n",
        "    return current_date"
      ],
      "metadata": {
        "id": "3y_EZF04GFXs"
      },
      "execution_count": null,
      "outputs": []
    },
    {
      "cell_type": "code",
      "source": [
        "get_current_date()"
      ],
      "metadata": {
        "colab": {
          "base_uri": "https://localhost:8080/",
          "height": 35
        },
        "id": "bi_ezkUbGOiv",
        "outputId": "df5b6f15-123e-4d23-fef0-0968205543ff"
      },
      "execution_count": null,
      "outputs": [
        {
          "output_type": "execute_result",
          "data": {
            "text/plain": [
              "'19-04-2025'"
            ],
            "application/vnd.google.colaboratory.intrinsic+json": {
              "type": "string"
            }
          },
          "metadata": {},
          "execution_count": 63
        }
      ]
    },
    {
      "cell_type": "code",
      "source": [
        "from openai import OpenAI\n",
        "from google.colab import userdata\n",
        "\n",
        "def reasoning_step_advanced(state, user_input, intermediate_results):\n",
        "    client = OpenAI(api_key=userdata.get('open_ai_key'))\n",
        "\n",
        "    current_date = get_current_date()\n",
        "    # Construct the assistant message dynamically with the state, user input, and intermediate results\n",
        "    messages = [\n",
        "        {\n",
        "            \"role\": \"system\",\n",
        "            \"content\": (\n",
        "                \"You are a reasoning and acting agent. Based on the current state and user input, decide the next action.\\n\"\n",
        "                f\"Current date is: {current_date}\\n\"\n",
        "                f\"State: {state}\\n\"\n",
        "                f\"User Input: {user_input}\\n\"\n",
        "                f\"Intermediate Results: {intermediate_results}\\n\\n\"\n",
        "                \"Respond with one of these actions:\\n\"\n",
        "                \"- Search(query)\\n\"\n",
        "                \"- Do nothing\\n\"\n",
        "                \"- answer_question(results)\\n\"\n",
        "            )\n",
        "        }\n",
        "    ]\n",
        "\n",
        "    response = client.chat.completions.create(\n",
        "        model=\"gpt-4o\",\n",
        "        messages=messages,\n",
        "        response_format={\n",
        "            \"type\": \"json_schema\",\n",
        "            \"json_schema\": {\n",
        "                \"name\": \"agent_schema\",\n",
        "                \"schema\": {\n",
        "                    \"type\": \"object\",\n",
        "                    \"required\": [],\n",
        "                    \"properties\": {}\n",
        "                },\n",
        "                \"strict\": False\n",
        "            }\n",
        "        },\n",
        "        tools=[\n",
        "            {\n",
        "                \"type\": \"function\",\n",
        "                \"function\": {\n",
        "                    \"name\": \"search_action\",\n",
        "                    \"strict\": True,\n",
        "                    \"parameters\": {\n",
        "                        \"type\": \"object\",\n",
        "                        \"required\": [\"query\"],\n",
        "                        \"properties\": {\n",
        "                            \"query\": {\n",
        "                                \"type\": \"string\",\n",
        "                                \"description\": \"The search query string to be submitted to the search engine.\"\n",
        "                            }\n",
        "                        },\n",
        "                        \"additionalProperties\": False\n",
        "                    },\n",
        "                    \"description\": \"Performs a search using the SERP API and returns the organic results.\"\n",
        "                }\n",
        "            },\n",
        "            {\n",
        "                \"type\": \"function\",\n",
        "                \"function\": {\n",
        "                    \"name\": \"do_nothing\",\n",
        "                    \"strict\": True,\n",
        "                    \"parameters\": {\n",
        "                        \"type\": \"object\",\n",
        "                        \"required\": [],\n",
        "                        \"properties\": {},\n",
        "                        \"additionalProperties\": False\n",
        "                    },\n",
        "                    \"description\": \"A function that performs no action.\"\n",
        "                }\n",
        "            },\n",
        "            {\n",
        "                \"type\": \"function\",\n",
        "                \"function\": {\n",
        "                    \"name\": \"summarize_action\",\n",
        "                    \"description\": \"Summarizes product results using OpenAI's GPT-4 model\",\n",
        "                    \"parameters\": {\n",
        "                    \"type\": \"object\",\n",
        "                    \"required\": [\n",
        "                        \"results\"\n",
        "                    ],\n",
        "                    \"properties\": {\n",
        "                        \"results\": {\n",
        "                        \"type\": \"string\",\n",
        "                        \"description\": \"The product results to summarize\"\n",
        "                        }\n",
        "                    },\n",
        "                    \"additionalProperties\": False\n",
        "                    },\n",
        "                    \"strict\": True\n",
        "                }\n",
        "            },\n",
        "            {\n",
        "                \"type\": \"function\",\n",
        "                \"function\": {\n",
        "                    \"name\": \"answer_question\",\n",
        "                    \"description\": \"Answer question using the search result\",\n",
        "                    \"parameters\": {\n",
        "                    \"type\": \"object\",\n",
        "                    \"required\": [\n",
        "                        \"question\",\n",
        "                        \"search_results\"\n",
        "                    ],\n",
        "                    \"properties\": {\n",
        "                        \"question\": {\n",
        "                            \"type\": \"string\",\n",
        "                            \"description\": \"The question to be answered\"\n",
        "                        },\n",
        "                        \"search_results\": {\n",
        "                            \"type\": \"string\",\n",
        "                            \"description\": \"The search results from api to answer the question\"\n",
        "                        }\n",
        "                    },\n",
        "                    \"additionalProperties\": False\n",
        "                    },\n",
        "                    \"strict\": True\n",
        "                }\n",
        "            }\n",
        "        ],\n",
        "        tool_choice=\"required\",\n",
        "        temperature=1,\n",
        "        max_completion_tokens=2048,\n",
        "        top_p=1,\n",
        "        frequency_penalty=0,\n",
        "        presence_penalty=0\n",
        "    )\n",
        "\n",
        "    return response"
      ],
      "metadata": {
        "id": "dVv-3g2fXqpV"
      },
      "execution_count": null,
      "outputs": []
    },
    {
      "cell_type": "code",
      "source": [
        "def react_agent(user_input):\n",
        "    state = \"start\"\n",
        "    intermediate_results = []\n",
        "\n",
        "    while True:\n",
        "        state = \"in_progress\"\n",
        "        # Reasoning step: Decide the next action\n",
        "        action_response = reasoning_step_advanced(state, user_input, intermediate_results).choices[0].message\n",
        "\n",
        "        action_response = process_tool_calls(action_response)\n",
        "        tool_function_name, tool_query_string = action_response\n",
        "\n",
        "        if tool_function_name == \"do_nothing\":\n",
        "            return intermediate_results[-1][\"result\"]\n",
        "            state = \"end\"\n",
        "            break\n",
        "\n",
        "        # Execute the selected action\n",
        "        function_to_call = function_mapping[tool_function_name]\n",
        "        action_result = function_to_call(**tool_query_string)\n",
        "\n",
        "        print(action_result)\n",
        "\n",
        "        # Save intermediate results\n",
        "        intermediate_results.append({\n",
        "            \"action\": tool_function_name,\n",
        "            \"parameters\": tool_query_string,\n",
        "            \"result\": action_result\n",
        "        })\n",
        "\n",
        "\n",
        "    return intermediate_results\n",
        "\n",
        "user_query = \"Thời tiết hôm nay có phù hợp để đi bơi ở Hồ Gươm không?\"\n",
        "final_answer = react_agent(user_query)\n",
        "print(f\"Final Output: {final_answer}\")"
      ],
      "metadata": {
        "colab": {
          "base_uri": "https://localhost:8080/",
          "height": 373
        },
        "id": "cVEmNgHvXsHo",
        "outputId": "0236e123-5d80-4710-bbe9-3ab46eb4a546"
      },
      "execution_count": null,
      "outputs": [
        {
          "output_type": "stream",
          "name": "stdout",
          "text": [
            "Tool Function Name: search_action\n",
            "Tool Query String: {'query': 'Thời tiết Hà Nội ngày 19-04-2025'}\n"
          ]
        },
        {
          "output_type": "error",
          "ename": "KeyError",
          "evalue": "'organic_results'",
          "traceback": [
            "\u001b[0;31m---------------------------------------------------------------------------\u001b[0m",
            "\u001b[0;31mKeyError\u001b[0m                                  Traceback (most recent call last)",
            "\u001b[0;32m<ipython-input-68-58883d7f95cf>\u001b[0m in \u001b[0;36m<cell line: 0>\u001b[0;34m()\u001b[0m\n\u001b[1;32m     33\u001b[0m \u001b[0;34m\u001b[0m\u001b[0m\n\u001b[1;32m     34\u001b[0m \u001b[0muser_query\u001b[0m \u001b[0;34m=\u001b[0m \u001b[0;34m\"Thời tiết hôm nay có phù hợp để đi bơi ở Hồ Gươm không?\"\u001b[0m\u001b[0;34m\u001b[0m\u001b[0;34m\u001b[0m\u001b[0m\n\u001b[0;32m---> 35\u001b[0;31m \u001b[0mfinal_answer\u001b[0m \u001b[0;34m=\u001b[0m \u001b[0mreact_agent\u001b[0m\u001b[0;34m(\u001b[0m\u001b[0muser_query\u001b[0m\u001b[0;34m)\u001b[0m\u001b[0;34m\u001b[0m\u001b[0;34m\u001b[0m\u001b[0m\n\u001b[0m\u001b[1;32m     36\u001b[0m \u001b[0mprint\u001b[0m\u001b[0;34m(\u001b[0m\u001b[0;34mf\"Final Output: {final_answer}\"\u001b[0m\u001b[0;34m)\u001b[0m\u001b[0;34m\u001b[0m\u001b[0;34m\u001b[0m\u001b[0m\n",
            "\u001b[0;32m<ipython-input-68-58883d7f95cf>\u001b[0m in \u001b[0;36mreact_agent\u001b[0;34m(user_input)\u001b[0m\n\u001b[1;32m     18\u001b[0m         \u001b[0;31m# Execute the selected action\u001b[0m\u001b[0;34m\u001b[0m\u001b[0;34m\u001b[0m\u001b[0m\n\u001b[1;32m     19\u001b[0m         \u001b[0mfunction_to_call\u001b[0m \u001b[0;34m=\u001b[0m \u001b[0mfunction_mapping\u001b[0m\u001b[0;34m[\u001b[0m\u001b[0mtool_function_name\u001b[0m\u001b[0;34m]\u001b[0m\u001b[0;34m\u001b[0m\u001b[0;34m\u001b[0m\u001b[0m\n\u001b[0;32m---> 20\u001b[0;31m         \u001b[0maction_result\u001b[0m \u001b[0;34m=\u001b[0m \u001b[0mfunction_to_call\u001b[0m\u001b[0;34m(\u001b[0m\u001b[0;34m**\u001b[0m\u001b[0mtool_query_string\u001b[0m\u001b[0;34m)\u001b[0m\u001b[0;34m\u001b[0m\u001b[0;34m\u001b[0m\u001b[0m\n\u001b[0m\u001b[1;32m     21\u001b[0m \u001b[0;34m\u001b[0m\u001b[0m\n\u001b[1;32m     22\u001b[0m         \u001b[0mprint\u001b[0m\u001b[0;34m(\u001b[0m\u001b[0maction_result\u001b[0m\u001b[0;34m)\u001b[0m\u001b[0;34m\u001b[0m\u001b[0;34m\u001b[0m\u001b[0m\n",
            "\u001b[0;32m<ipython-input-40-8886be70900a>\u001b[0m in \u001b[0;36msearch_action\u001b[0;34m(query)\u001b[0m\n\u001b[1;32m     13\u001b[0m \u001b[0;34m\u001b[0m\u001b[0m\n\u001b[1;32m     14\u001b[0m \u001b[0;34m\u001b[0m\u001b[0m\n\u001b[0;32m---> 15\u001b[0;31m     \u001b[0;32mfor\u001b[0m \u001b[0mitem\u001b[0m \u001b[0;32min\u001b[0m \u001b[0mresults\u001b[0m\u001b[0;34m[\u001b[0m\u001b[0;34m'organic_results'\u001b[0m\u001b[0;34m]\u001b[0m\u001b[0;34m:\u001b[0m\u001b[0;34m\u001b[0m\u001b[0;34m\u001b[0m\u001b[0m\n\u001b[0m\u001b[1;32m     16\u001b[0m         \u001b[0minfo\u001b[0m\u001b[0;34m.\u001b[0m\u001b[0mappend\u001b[0m\u001b[0;34m(\u001b[0m\u001b[0mitem\u001b[0m\u001b[0;34m[\u001b[0m\u001b[0;34m'snippet'\u001b[0m\u001b[0;34m]\u001b[0m\u001b[0;34m)\u001b[0m\u001b[0;34m\u001b[0m\u001b[0;34m\u001b[0m\u001b[0m\n\u001b[1;32m     17\u001b[0m \u001b[0;34m\u001b[0m\u001b[0m\n",
            "\u001b[0;31mKeyError\u001b[0m: 'organic_results'"
          ]
        }
      ]
    },
    {
      "cell_type": "code",
      "source": [],
      "metadata": {
        "id": "ecrErd-GFwEf"
      },
      "execution_count": null,
      "outputs": []
    }
  ]
}